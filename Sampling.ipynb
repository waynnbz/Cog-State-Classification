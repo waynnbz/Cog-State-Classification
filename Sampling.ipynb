{
 "cells": [
  {
   "cell_type": "code",
   "execution_count": 1,
   "metadata": {},
   "outputs": [],
   "source": [
    "import pandas as pd\n",
    "pd.set_option('display.max_columns', 56)\n",
    "import numpy as np\n",
    "import seaborn as sns\n",
    "import xgboost as xgb\n",
    "\n",
    "from sklearn.model_selection import train_test_split\n",
    "\n",
    "import matplotlib.pyplot as plt\n",
    "%matplotlib inline"
   ]
  },
  {
   "cell_type": "markdown",
   "metadata": {},
   "source": [
    "### Config"
   ]
  },
  {
   "cell_type": "code",
   "execution_count": 2,
   "metadata": {},
   "outputs": [],
   "source": [
    "# DATA PATHS\n",
    "TRAIN_PATH = 'data/data_training.csv'\n",
    "PROV_PATH = 'data/data_provisional.csv'\n",
    "SAMPLE_PATH = 'data/sample-data.csv'\n",
    "\n",
    "category = {'low':0, 'medium':1, 'high':2, 'baseline':3, 'channelized':4, 'surprise':5}"
   ]
  },
  {
   "cell_type": "markdown",
   "metadata": {},
   "source": [
    "### Loading data"
   ]
  },
  {
   "cell_type": "code",
   "execution_count": 3,
   "metadata": {},
   "outputs": [],
   "source": [
    "# Load sample data\n",
    "sample_data = pd.read_csv(SAMPLE_PATH)\n",
    "\n",
    "# # load the first 10^6 rows of train data\n",
    "# train = pd.read_csv(TRAIN_PATH, nrows=1000000)\n",
    "# df = train[train.test_suite == 'Training-Test-038']"
   ]
  },
  {
   "cell_type": "markdown",
   "metadata": {},
   "source": [
    "## pd.read_csv\n",
    "\n",
    "filtered with 1/3 of the rows, and only object cols ['time', 'test_suite', 'induced_state', 'tlx_score']"
   ]
  },
  {
   "cell_type": "code",
   "execution_count": 11,
   "metadata": {},
   "outputs": [],
   "source": [
    "df = pd.read_csv(TRAIN_PATH, skiprows=lambda x: x%3!=0, usecols=['time', 'test_suite', 'induced_state', 'tlx_score'])"
   ]
  },
  {
   "cell_type": "code",
   "execution_count": 12,
   "metadata": {},
   "outputs": [
    {
     "data": {
      "text/plain": [
       "(16349550, 4)"
      ]
     },
     "execution_count": 12,
     "metadata": {},
     "output_type": "execute_result"
    }
   ],
   "source": [
    "df.shape"
   ]
  },
  {
   "cell_type": "code",
   "execution_count": 14,
   "metadata": {},
   "outputs": [
    {
     "data": {
      "text/plain": [
       "Training-Test-009    610356\n",
       "Training-Test-014    517142\n",
       "Training-Test-035    513450\n",
       "Training-Test-052    486133\n",
       "Training-Test-080    466040\n",
       "                      ...  \n",
       "Training-Test-072     30865\n",
       "Training-Test-026     30449\n",
       "Training-Test-078     23756\n",
       "Training-Test-074      9322\n",
       "Training-Test-011      3580\n",
       "Name: test_suite, Length: 85, dtype: int64"
      ]
     },
     "execution_count": 14,
     "metadata": {},
     "output_type": "execute_result"
    }
   ],
   "source": [
    "df.test_suite.value_counts()"
   ]
  },
  {
   "cell_type": "code",
   "execution_count": 33,
   "metadata": {},
   "outputs": [
    {
     "data": {
      "text/plain": [
       "high           8263\n",
       "medium         6915\n",
       "low            6386\n",
       "baseline       6358\n",
       "channelized    3120\n",
       "surprise         81\n",
       "Name: induced_state, dtype: int64"
      ]
     },
     "execution_count": 33,
     "metadata": {},
     "output_type": "execute_result"
    }
   ],
   "source": [
    "df.induced_state.value_counts()"
   ]
  },
  {
   "cell_type": "code",
   "execution_count": 16,
   "metadata": {},
   "outputs": [
    {
     "data": {
      "text/html": [
       "<div>\n",
       "<style scoped>\n",
       "    .dataframe tbody tr th:only-of-type {\n",
       "        vertical-align: middle;\n",
       "    }\n",
       "\n",
       "    .dataframe tbody tr th {\n",
       "        vertical-align: top;\n",
       "    }\n",
       "\n",
       "    .dataframe thead th {\n",
       "        text-align: right;\n",
       "    }\n",
       "</style>\n",
       "<table border=\"1\" class=\"dataframe\">\n",
       "  <thead>\n",
       "    <tr style=\"text-align: right;\">\n",
       "      <th></th>\n",
       "      <th>mean</th>\n",
       "      <th>median</th>\n",
       "    </tr>\n",
       "    <tr>\n",
       "      <th>induced_state</th>\n",
       "      <th></th>\n",
       "      <th></th>\n",
       "    </tr>\n",
       "  </thead>\n",
       "  <tbody>\n",
       "    <tr>\n",
       "      <th>baseline</th>\n",
       "      <td>10.107636</td>\n",
       "      <td>10</td>\n",
       "    </tr>\n",
       "    <tr>\n",
       "      <th>surprise</th>\n",
       "      <td>13.464468</td>\n",
       "      <td>10</td>\n",
       "    </tr>\n",
       "    <tr>\n",
       "      <th>low</th>\n",
       "      <td>27.025233</td>\n",
       "      <td>20</td>\n",
       "    </tr>\n",
       "    <tr>\n",
       "      <th>medium</th>\n",
       "      <td>34.292709</td>\n",
       "      <td>40</td>\n",
       "    </tr>\n",
       "    <tr>\n",
       "      <th>channelized</th>\n",
       "      <td>34.800915</td>\n",
       "      <td>35</td>\n",
       "    </tr>\n",
       "    <tr>\n",
       "      <th>high</th>\n",
       "      <td>42.675216</td>\n",
       "      <td>50</td>\n",
       "    </tr>\n",
       "  </tbody>\n",
       "</table>\n",
       "</div>"
      ],
      "text/plain": [
       "                    mean  median\n",
       "induced_state                   \n",
       "baseline       10.107636      10\n",
       "surprise       13.464468      10\n",
       "low            27.025233      20\n",
       "medium         34.292709      40\n",
       "channelized    34.800915      35\n",
       "high           42.675216      50"
      ]
     },
     "execution_count": 16,
     "metadata": {},
     "output_type": "execute_result"
    }
   ],
   "source": [
    "df.groupby('induced_state')['tlx_score'].agg(['mean', 'median']).sort_values('mean')"
   ]
  },
  {
   "cell_type": "code",
   "execution_count": 29,
   "metadata": {},
   "outputs": [
    {
     "name": "stdout",
     "output_type": "stream",
     "text": [
      "10891021139143\n"
     ]
    }
   ],
   "source": [
    "t_delta = df.time.max() - df.time.min()\n",
    "print(t_delta)"
   ]
  },
  {
   "cell_type": "code",
   "execution_count": 26,
   "metadata": {},
   "outputs": [
    {
     "data": {
      "text/plain": [
       "1615384519219251"
      ]
     },
     "execution_count": 26,
     "metadata": {},
     "output_type": "execute_result"
    }
   ],
   "source": [
    "df.time[0] - t_delta"
   ]
  },
  {
   "cell_type": "code",
   "execution_count": 27,
   "metadata": {},
   "outputs": [
    {
     "data": {
      "text/plain": [
       "1626275540358394"
      ]
     },
     "execution_count": 27,
     "metadata": {},
     "output_type": "execute_result"
    }
   ],
   "source": [
    "df.time[0]"
   ]
  },
  {
   "cell_type": "code",
   "execution_count": 10,
   "metadata": {},
   "outputs": [
    {
     "data": {
      "text/plain": [
       "Index(['time', 'test_suite', 'induced_state', 'tlx_score', 'E4_BVP', 'E4_GSR',\n",
       "       'LooxidLink_EEG_A3', 'LooxidLink_EEG_A4', 'LooxidLink_EEG_FP1',\n",
       "       'LooxidLink_EEG_FP2', 'LooxidLink_EEG_A7', 'LooxidLink_EEG_A8',\n",
       "       'Muse_EEG_TP9', 'Muse_EEG_AF7', 'Muse_EEG_AF8', 'Muse_EEG_TP10',\n",
       "       'Muse_PPG_0', 'Muse_PPG_1', 'Muse_PPG_2', 'Myo_GYR_X', 'Myo_GYR_Y',\n",
       "       'Myo_GYR_Z', 'Myo_EMG_0', 'Myo_EMG_1', 'Myo_EMG_2', 'Myo_EMG_3',\n",
       "       'Myo_EMG_4', 'Myo_EMG_5', 'Myo_EMG_6', 'Myo_EMG_7', 'PICARD_fnirs_0',\n",
       "       'PICARD_fnirs_1', 'Polar_bpm', 'Polar_hrv', 'ViveEye_eyeOpenness_L',\n",
       "       'ViveEye_pupilDiameter_L', 'ViveEye_pupilPos_L_X',\n",
       "       'ViveEye_pupilPos_L_Y', 'ViveEye_gazeOrigin_L_X',\n",
       "       'ViveEye_gazeOrigin_L_Y', 'ViveEye_gazeOrigin_L_Z',\n",
       "       'ViveEye_gazeDirection_L_X', 'ViveEye_gazeDirection_L_Y',\n",
       "       'ViveEye_gazeDirection_L_Z', 'ViveEye_eyeOpenness_R',\n",
       "       'ViveEye_pupilDiameter_R', 'ViveEye_pupilPos_R_X',\n",
       "       'ViveEye_pupilPos_R_Y', 'ViveEye_gazeOrigin_R_X',\n",
       "       'ViveEye_gazeOrigin_R_Y', 'ViveEye_gazeOrigin_R_Z',\n",
       "       'ViveEye_gazeDirection_R_X', 'ViveEye_gazeDirection_R_Y',\n",
       "       'ViveEye_gazeDirection_R_Z', 'Zephyr_HR', 'Zephyr_HRV'],\n",
       "      dtype='object')"
      ]
     },
     "execution_count": 10,
     "metadata": {},
     "output_type": "execute_result"
    }
   ],
   "source": [
    "sample_data.columns"
   ]
  },
  {
   "cell_type": "code",
   "execution_count": 34,
   "metadata": {},
   "outputs": [],
   "source": [
    "state_df = pd.read_csv(TRAIN_PATH, usecols=['induced_state'])"
   ]
  },
  {
   "cell_type": "code",
   "execution_count": 37,
   "metadata": {},
   "outputs": [
    {
     "data": {
      "text/plain": [
       "induced_state\n",
       "high             0.272787\n",
       "medium           0.220932\n",
       "low              0.202724\n",
       "baseline         0.194880\n",
       "channelized      0.106701\n",
       "surprise         0.001975\n",
       "dtype: float64"
      ]
     },
     "execution_count": 37,
     "metadata": {},
     "output_type": "execute_result"
    }
   ],
   "source": [
    "# value counts for all states in training data\n",
    "state_df.value_counts()/state_df.shape[0]"
   ]
  },
  {
   "cell_type": "markdown",
   "metadata": {},
   "source": [
    "### Preprocessing"
   ]
  },
  {
   "cell_type": "code",
   "execution_count": 4,
   "metadata": {},
   "outputs": [],
   "source": [
    "def preprocess(df):\n",
    "    # replace  'induced_state'\n",
    "    df[\"induced_state\"] = df[\"induced_state\"].replace(category)\n",
    "    # set time as index\n",
    "    df.set_index('time', inplace=True)\n",
    "\n",
    "    # define drop cols \n",
    "    drop_cols = ['test_suite', 'induced_state'] #, 'tlx_score']\n",
    "\n",
    "    # split data into Train & Test\n",
    "    X = df.loc[:, [ c not in drop_cols for c in df.columns]]\n",
    "    Y = df['induced_state']\n",
    "    \n",
    "    return X, Y"
   ]
  },
  {
   "cell_type": "code",
   "execution_count": 5,
   "metadata": {},
   "outputs": [],
   "source": [
    "X, Y = preprocess(sample_data)\n",
    "\n",
    "X_train, X_test, y_train, y_test = train_test_split(X, Y, test_size=0.3, random_state=0)\n",
    "\n",
    "xg_train = xgb.DMatrix(X_train, label=y_train)\n",
    "xg_test = xgb.DMatrix( X_test, label=y_test)"
   ]
  },
  {
   "cell_type": "markdown",
   "metadata": {},
   "source": [
    "## Training"
   ]
  },
  {
   "cell_type": "code",
   "execution_count": 6,
   "metadata": {},
   "outputs": [],
   "source": [
    "param = {\n",
    "    'booster': 'gbtree',\n",
    "    'objective': 'multi:softmax',  # 多分类的问题\n",
    "    'num_class': 6,               # 类别数，与 multisoftmax 并用\n",
    "    'gamma': 0.1,                  # 用于控制是否后剪枝的参数,越大越保守，一般0.1、0.2这样子。\n",
    "    'max_depth': 12,               # 构建树的深度，越大越容易过拟合\n",
    "    'lambda': 2,                   # 控制模型复杂度的权重值的L2正则化项参数，参数越大，模型越不容易过拟合。\n",
    "    'subsample': 0.7,              # 随机采样训练样本\n",
    "    'colsample_bytree': 0.7,       # 生成树时进行的列采样\n",
    "    'min_child_weight': 3,\n",
    "#     'silent': 1,                   # 设置成1则没有运行信息输出，最好是设置为0.\n",
    "    'eta': 0.007,                  # 如同学习率\n",
    "    'seed': 1000,\n",
    "#     'nthread': 4,                  # cpu 线程数\n",
    "}"
   ]
  },
  {
   "cell_type": "code",
   "execution_count": 7,
   "metadata": {
    "scrolled": true
   },
   "outputs": [
    {
     "name": "stdout",
     "output_type": "stream",
     "text": [
      "[14:15:38] WARNING: ../src/learner.cc:1115: Starting in XGBoost 1.3.0, the default evaluation metric used with the objective 'multi:softmax' was changed from 'merror' to 'mlogloss'. Explicitly set eval_metric if you'd like to restore the old behavior.\n",
      "[0]\ttrain-mlogloss:1.77816\ttest-mlogloss:1.77888\n",
      "[1]\ttrain-mlogloss:1.76406\ttest-mlogloss:1.76538\n",
      "[2]\ttrain-mlogloss:1.74875\ttest-mlogloss:1.75048\n",
      "[3]\ttrain-mlogloss:1.73429\ttest-mlogloss:1.73663\n",
      "[4]\ttrain-mlogloss:1.71955\ttest-mlogloss:1.72232\n",
      "[5]\ttrain-mlogloss:1.70553\ttest-mlogloss:1.70875\n",
      "[6]\ttrain-mlogloss:1.69078\ttest-mlogloss:1.69435\n",
      "[7]\ttrain-mlogloss:1.67680\ttest-mlogloss:1.68072\n",
      "[8]\ttrain-mlogloss:1.66402\ttest-mlogloss:1.66832\n",
      "[9]\ttrain-mlogloss:1.65042\ttest-mlogloss:1.65516\n",
      "[10]\ttrain-mlogloss:1.63681\ttest-mlogloss:1.64190\n",
      "[11]\ttrain-mlogloss:1.62574\ttest-mlogloss:1.63144\n",
      "[12]\ttrain-mlogloss:1.61225\ttest-mlogloss:1.61827\n",
      "[13]\ttrain-mlogloss:1.60051\ttest-mlogloss:1.60696\n",
      "[14]\ttrain-mlogloss:1.58854\ttest-mlogloss:1.59536\n",
      "[15]\ttrain-mlogloss:1.57662\ttest-mlogloss:1.58387\n",
      "[16]\ttrain-mlogloss:1.56580\ttest-mlogloss:1.57367\n",
      "[17]\ttrain-mlogloss:1.55404\ttest-mlogloss:1.56227\n",
      "[18]\ttrain-mlogloss:1.54250\ttest-mlogloss:1.55112\n",
      "[19]\ttrain-mlogloss:1.53159\ttest-mlogloss:1.54075\n",
      "[20]\ttrain-mlogloss:1.52079\ttest-mlogloss:1.53053\n",
      "[21]\ttrain-mlogloss:1.50995\ttest-mlogloss:1.52008\n",
      "[22]\ttrain-mlogloss:1.49887\ttest-mlogloss:1.50939\n",
      "[23]\ttrain-mlogloss:1.48920\ttest-mlogloss:1.50022\n",
      "[24]\ttrain-mlogloss:1.47798\ttest-mlogloss:1.48936\n",
      "[25]\ttrain-mlogloss:1.46869\ttest-mlogloss:1.48062\n",
      "[26]\ttrain-mlogloss:1.45816\ttest-mlogloss:1.47033\n",
      "[27]\ttrain-mlogloss:1.44829\ttest-mlogloss:1.46082\n",
      "[28]\ttrain-mlogloss:1.43798\ttest-mlogloss:1.45086\n",
      "[29]\ttrain-mlogloss:1.42813\ttest-mlogloss:1.44133\n",
      "[30]\ttrain-mlogloss:1.41830\ttest-mlogloss:1.43184\n",
      "[31]\ttrain-mlogloss:1.40760\ttest-mlogloss:1.42151\n",
      "[32]\ttrain-mlogloss:1.39834\ttest-mlogloss:1.41281\n",
      "[33]\ttrain-mlogloss:1.38805\ttest-mlogloss:1.40278\n",
      "[34]\ttrain-mlogloss:1.37843\ttest-mlogloss:1.39350\n",
      "[35]\ttrain-mlogloss:1.36912\ttest-mlogloss:1.38458\n",
      "[36]\ttrain-mlogloss:1.35913\ttest-mlogloss:1.37484\n",
      "[37]\ttrain-mlogloss:1.35036\ttest-mlogloss:1.36645\n",
      "[38]\ttrain-mlogloss:1.34109\ttest-mlogloss:1.35745\n",
      "[39]\ttrain-mlogloss:1.33251\ttest-mlogloss:1.34929\n",
      "[40]\ttrain-mlogloss:1.32345\ttest-mlogloss:1.34060\n",
      "[41]\ttrain-mlogloss:1.31507\ttest-mlogloss:1.33256\n",
      "[42]\ttrain-mlogloss:1.30593\ttest-mlogloss:1.32377\n",
      "[43]\ttrain-mlogloss:1.29680\ttest-mlogloss:1.31493\n",
      "[44]\ttrain-mlogloss:1.28731\ttest-mlogloss:1.30574\n",
      "[45]\ttrain-mlogloss:1.27903\ttest-mlogloss:1.29787\n",
      "[46]\ttrain-mlogloss:1.27157\ttest-mlogloss:1.29089\n",
      "[47]\ttrain-mlogloss:1.26233\ttest-mlogloss:1.28191\n",
      "[48]\ttrain-mlogloss:1.25515\ttest-mlogloss:1.27516\n",
      "[49]\ttrain-mlogloss:1.24636\ttest-mlogloss:1.26668\n",
      "[50]\ttrain-mlogloss:1.23863\ttest-mlogloss:1.25936\n",
      "[51]\ttrain-mlogloss:1.23028\ttest-mlogloss:1.25120\n",
      "[52]\ttrain-mlogloss:1.22229\ttest-mlogloss:1.24348\n",
      "[53]\ttrain-mlogloss:1.21429\ttest-mlogloss:1.23575\n",
      "[54]\ttrain-mlogloss:1.20689\ttest-mlogloss:1.22864\n",
      "[55]\ttrain-mlogloss:1.19893\ttest-mlogloss:1.22098\n",
      "[56]\ttrain-mlogloss:1.19195\ttest-mlogloss:1.21447\n",
      "[57]\ttrain-mlogloss:1.18458\ttest-mlogloss:1.20734\n",
      "[58]\ttrain-mlogloss:1.17653\ttest-mlogloss:1.19948\n",
      "[59]\ttrain-mlogloss:1.16950\ttest-mlogloss:1.19275\n",
      "[60]\ttrain-mlogloss:1.16193\ttest-mlogloss:1.18539\n",
      "[61]\ttrain-mlogloss:1.15495\ttest-mlogloss:1.17863\n",
      "[62]\ttrain-mlogloss:1.14762\ttest-mlogloss:1.17153\n",
      "[63]\ttrain-mlogloss:1.13985\ttest-mlogloss:1.16390\n",
      "[64]\ttrain-mlogloss:1.13192\ttest-mlogloss:1.15617\n",
      "[65]\ttrain-mlogloss:1.12482\ttest-mlogloss:1.14927\n",
      "[66]\ttrain-mlogloss:1.11812\ttest-mlogloss:1.14291\n",
      "[67]\ttrain-mlogloss:1.11215\ttest-mlogloss:1.13735\n",
      "[68]\ttrain-mlogloss:1.10493\ttest-mlogloss:1.13043\n",
      "[69]\ttrain-mlogloss:1.09760\ttest-mlogloss:1.12331\n",
      "[70]\ttrain-mlogloss:1.09095\ttest-mlogloss:1.11689\n",
      "[71]\ttrain-mlogloss:1.08395\ttest-mlogloss:1.11006\n",
      "[72]\ttrain-mlogloss:1.07734\ttest-mlogloss:1.10368\n",
      "[73]\ttrain-mlogloss:1.07091\ttest-mlogloss:1.09744\n",
      "[74]\ttrain-mlogloss:1.06374\ttest-mlogloss:1.09040\n",
      "[75]\ttrain-mlogloss:1.05771\ttest-mlogloss:1.08458\n",
      "[76]\ttrain-mlogloss:1.05084\ttest-mlogloss:1.07787\n",
      "[77]\ttrain-mlogloss:1.04439\ttest-mlogloss:1.07152\n",
      "[78]\ttrain-mlogloss:1.03798\ttest-mlogloss:1.06536\n",
      "[79]\ttrain-mlogloss:1.03195\ttest-mlogloss:1.05963\n",
      "[80]\ttrain-mlogloss:1.02590\ttest-mlogloss:1.05397\n",
      "[81]\ttrain-mlogloss:1.01961\ttest-mlogloss:1.04790\n",
      "[82]\ttrain-mlogloss:1.01371\ttest-mlogloss:1.04227\n",
      "[83]\ttrain-mlogloss:1.00746\ttest-mlogloss:1.03618\n",
      "[84]\ttrain-mlogloss:1.00164\ttest-mlogloss:1.03052\n",
      "[85]\ttrain-mlogloss:0.99518\ttest-mlogloss:1.02420\n",
      "[86]\ttrain-mlogloss:0.98931\ttest-mlogloss:1.01851\n",
      "[87]\ttrain-mlogloss:0.98389\ttest-mlogloss:1.01334\n",
      "[88]\ttrain-mlogloss:0.97820\ttest-mlogloss:1.00785\n",
      "[89]\ttrain-mlogloss:0.97200\ttest-mlogloss:1.00185\n",
      "[90]\ttrain-mlogloss:0.96578\ttest-mlogloss:0.99576\n",
      "[91]\ttrain-mlogloss:0.96081\ttest-mlogloss:0.99110\n",
      "[92]\ttrain-mlogloss:0.95500\ttest-mlogloss:0.98553\n",
      "[93]\ttrain-mlogloss:0.94967\ttest-mlogloss:0.98040\n",
      "[94]\ttrain-mlogloss:0.94387\ttest-mlogloss:0.97481\n",
      "[95]\ttrain-mlogloss:0.93860\ttest-mlogloss:0.96984\n",
      "[96]\ttrain-mlogloss:0.93304\ttest-mlogloss:0.96442\n",
      "[97]\ttrain-mlogloss:0.92716\ttest-mlogloss:0.95862\n",
      "[98]\ttrain-mlogloss:0.92181\ttest-mlogloss:0.95346\n",
      "[99]\ttrain-mlogloss:0.91605\ttest-mlogloss:0.94786\n",
      "[100]\ttrain-mlogloss:0.91074\ttest-mlogloss:0.94275\n",
      "[101]\ttrain-mlogloss:0.90567\ttest-mlogloss:0.93801\n",
      "[102]\ttrain-mlogloss:0.90086\ttest-mlogloss:0.93340\n",
      "[103]\ttrain-mlogloss:0.89572\ttest-mlogloss:0.92849\n",
      "[104]\ttrain-mlogloss:0.89053\ttest-mlogloss:0.92350\n",
      "[105]\ttrain-mlogloss:0.88601\ttest-mlogloss:0.91925\n",
      "[106]\ttrain-mlogloss:0.88083\ttest-mlogloss:0.91427\n",
      "[107]\ttrain-mlogloss:0.87545\ttest-mlogloss:0.90900\n",
      "[108]\ttrain-mlogloss:0.87077\ttest-mlogloss:0.90448\n",
      "[109]\ttrain-mlogloss:0.86583\ttest-mlogloss:0.89975\n",
      "[110]\ttrain-mlogloss:0.86152\ttest-mlogloss:0.89565\n",
      "[111]\ttrain-mlogloss:0.85644\ttest-mlogloss:0.89072\n",
      "[112]\ttrain-mlogloss:0.85154\ttest-mlogloss:0.88604\n",
      "[113]\ttrain-mlogloss:0.84687\ttest-mlogloss:0.88149\n",
      "[114]\ttrain-mlogloss:0.84217\ttest-mlogloss:0.87698\n",
      "[115]\ttrain-mlogloss:0.83741\ttest-mlogloss:0.87233\n",
      "[116]\ttrain-mlogloss:0.83264\ttest-mlogloss:0.86777\n",
      "[117]\ttrain-mlogloss:0.82835\ttest-mlogloss:0.86366\n",
      "[118]\ttrain-mlogloss:0.82373\ttest-mlogloss:0.85918\n",
      "[119]\ttrain-mlogloss:0.81919\ttest-mlogloss:0.85488\n",
      "[120]\ttrain-mlogloss:0.81429\ttest-mlogloss:0.85009\n",
      "[121]\ttrain-mlogloss:0.80963\ttest-mlogloss:0.84561\n",
      "[122]\ttrain-mlogloss:0.80540\ttest-mlogloss:0.84154\n",
      "[123]\ttrain-mlogloss:0.80065\ttest-mlogloss:0.83683\n",
      "[124]\ttrain-mlogloss:0.79638\ttest-mlogloss:0.83268\n",
      "[125]\ttrain-mlogloss:0.79226\ttest-mlogloss:0.82869\n",
      "[126]\ttrain-mlogloss:0.78849\ttest-mlogloss:0.82511\n",
      "[127]\ttrain-mlogloss:0.78405\ttest-mlogloss:0.82081\n",
      "[128]\ttrain-mlogloss:0.77953\ttest-mlogloss:0.81645\n",
      "[129]\ttrain-mlogloss:0.77530\ttest-mlogloss:0.81235\n",
      "[130]\ttrain-mlogloss:0.77076\ttest-mlogloss:0.80788\n",
      "[131]\ttrain-mlogloss:0.76680\ttest-mlogloss:0.80410\n",
      "[132]\ttrain-mlogloss:0.76265\ttest-mlogloss:0.80010\n",
      "[133]\ttrain-mlogloss:0.75863\ttest-mlogloss:0.79623\n",
      "[134]\ttrain-mlogloss:0.75442\ttest-mlogloss:0.79219\n",
      "[135]\ttrain-mlogloss:0.75032\ttest-mlogloss:0.78829\n",
      "[136]\ttrain-mlogloss:0.74617\ttest-mlogloss:0.78430\n",
      "[137]\ttrain-mlogloss:0.74219\ttest-mlogloss:0.78044\n",
      "[138]\ttrain-mlogloss:0.73805\ttest-mlogloss:0.77639\n",
      "[139]\ttrain-mlogloss:0.73370\ttest-mlogloss:0.77216\n",
      "[140]\ttrain-mlogloss:0.72977\ttest-mlogloss:0.76835\n",
      "[141]\ttrain-mlogloss:0.72551\ttest-mlogloss:0.76416\n",
      "[142]\ttrain-mlogloss:0.72174\ttest-mlogloss:0.76049\n",
      "[143]\ttrain-mlogloss:0.71777\ttest-mlogloss:0.75669\n",
      "[144]\ttrain-mlogloss:0.71411\ttest-mlogloss:0.75317\n",
      "[145]\ttrain-mlogloss:0.70998\ttest-mlogloss:0.74911\n",
      "[146]\ttrain-mlogloss:0.70656\ttest-mlogloss:0.74585\n",
      "[147]\ttrain-mlogloss:0.70297\ttest-mlogloss:0.74235\n",
      "[148]\ttrain-mlogloss:0.69946\ttest-mlogloss:0.73896\n",
      "[149]\ttrain-mlogloss:0.69605\ttest-mlogloss:0.73571\n",
      "[150]\ttrain-mlogloss:0.69265\ttest-mlogloss:0.73240\n",
      "[151]\ttrain-mlogloss:0.68876\ttest-mlogloss:0.72862\n",
      "[152]\ttrain-mlogloss:0.68504\ttest-mlogloss:0.72498\n",
      "[153]\ttrain-mlogloss:0.68117\ttest-mlogloss:0.72120\n",
      "[154]\ttrain-mlogloss:0.67781\ttest-mlogloss:0.71801\n",
      "[155]\ttrain-mlogloss:0.67402\ttest-mlogloss:0.71430\n",
      "[156]\ttrain-mlogloss:0.67051\ttest-mlogloss:0.71090\n",
      "[157]\ttrain-mlogloss:0.66693\ttest-mlogloss:0.70748\n"
     ]
    },
    {
     "name": "stdout",
     "output_type": "stream",
     "text": [
      "[158]\ttrain-mlogloss:0.66360\ttest-mlogloss:0.70425\n",
      "[159]\ttrain-mlogloss:0.65999\ttest-mlogloss:0.70070\n",
      "[160]\ttrain-mlogloss:0.65636\ttest-mlogloss:0.69714\n",
      "[161]\ttrain-mlogloss:0.65298\ttest-mlogloss:0.69391\n",
      "[162]\ttrain-mlogloss:0.64971\ttest-mlogloss:0.69079\n",
      "[163]\ttrain-mlogloss:0.64633\ttest-mlogloss:0.68750\n",
      "[164]\ttrain-mlogloss:0.64331\ttest-mlogloss:0.68456\n",
      "[165]\ttrain-mlogloss:0.63997\ttest-mlogloss:0.68131\n",
      "[166]\ttrain-mlogloss:0.63647\ttest-mlogloss:0.67788\n",
      "[167]\ttrain-mlogloss:0.63326\ttest-mlogloss:0.67481\n",
      "[168]\ttrain-mlogloss:0.63043\ttest-mlogloss:0.67215\n",
      "[169]\ttrain-mlogloss:0.62698\ttest-mlogloss:0.66878\n",
      "[170]\ttrain-mlogloss:0.62355\ttest-mlogloss:0.66546\n",
      "[171]\ttrain-mlogloss:0.62023\ttest-mlogloss:0.66223\n",
      "[172]\ttrain-mlogloss:0.61703\ttest-mlogloss:0.65912\n",
      "[173]\ttrain-mlogloss:0.61355\ttest-mlogloss:0.65572\n",
      "[174]\ttrain-mlogloss:0.61087\ttest-mlogloss:0.65319\n",
      "[175]\ttrain-mlogloss:0.60778\ttest-mlogloss:0.65021\n",
      "[176]\ttrain-mlogloss:0.60488\ttest-mlogloss:0.64740\n",
      "[177]\ttrain-mlogloss:0.60162\ttest-mlogloss:0.64421\n",
      "[178]\ttrain-mlogloss:0.59840\ttest-mlogloss:0.64104\n",
      "[179]\ttrain-mlogloss:0.59551\ttest-mlogloss:0.63826\n",
      "[180]\ttrain-mlogloss:0.59266\ttest-mlogloss:0.63554\n",
      "[181]\ttrain-mlogloss:0.58932\ttest-mlogloss:0.63227\n",
      "[182]\ttrain-mlogloss:0.58616\ttest-mlogloss:0.62914\n",
      "[183]\ttrain-mlogloss:0.58328\ttest-mlogloss:0.62638\n",
      "[184]\ttrain-mlogloss:0.58071\ttest-mlogloss:0.62396\n",
      "[185]\ttrain-mlogloss:0.57811\ttest-mlogloss:0.62144\n",
      "[186]\ttrain-mlogloss:0.57514\ttest-mlogloss:0.61856\n",
      "[187]\ttrain-mlogloss:0.57202\ttest-mlogloss:0.61547\n",
      "[188]\ttrain-mlogloss:0.56894\ttest-mlogloss:0.61247\n",
      "[189]\ttrain-mlogloss:0.56620\ttest-mlogloss:0.60981\n",
      "[190]\ttrain-mlogloss:0.56341\ttest-mlogloss:0.60709\n",
      "[191]\ttrain-mlogloss:0.56062\ttest-mlogloss:0.60437\n",
      "[192]\ttrain-mlogloss:0.55812\ttest-mlogloss:0.60194\n",
      "[193]\ttrain-mlogloss:0.55524\ttest-mlogloss:0.59910\n",
      "[194]\ttrain-mlogloss:0.55238\ttest-mlogloss:0.59629\n",
      "[195]\ttrain-mlogloss:0.54946\ttest-mlogloss:0.59341\n",
      "[196]\ttrain-mlogloss:0.54680\ttest-mlogloss:0.59081\n",
      "[197]\ttrain-mlogloss:0.54409\ttest-mlogloss:0.58819\n",
      "[198]\ttrain-mlogloss:0.54123\ttest-mlogloss:0.58539\n",
      "[199]\ttrain-mlogloss:0.53883\ttest-mlogloss:0.58305\n",
      "[200]\ttrain-mlogloss:0.53621\ttest-mlogloss:0.58048\n",
      "[201]\ttrain-mlogloss:0.53338\ttest-mlogloss:0.57772\n",
      "[202]\ttrain-mlogloss:0.53074\ttest-mlogloss:0.57513\n",
      "[203]\ttrain-mlogloss:0.52807\ttest-mlogloss:0.57249\n",
      "[204]\ttrain-mlogloss:0.52546\ttest-mlogloss:0.56996\n",
      "[205]\ttrain-mlogloss:0.52301\ttest-mlogloss:0.56764\n",
      "[206]\ttrain-mlogloss:0.52060\ttest-mlogloss:0.56527\n",
      "[207]\ttrain-mlogloss:0.51788\ttest-mlogloss:0.56254\n",
      "[208]\ttrain-mlogloss:0.51513\ttest-mlogloss:0.55982\n",
      "[209]\ttrain-mlogloss:0.51273\ttest-mlogloss:0.55753\n",
      "[210]\ttrain-mlogloss:0.51020\ttest-mlogloss:0.55505\n",
      "[211]\ttrain-mlogloss:0.50789\ttest-mlogloss:0.55285\n",
      "[212]\ttrain-mlogloss:0.50560\ttest-mlogloss:0.55066\n",
      "[213]\ttrain-mlogloss:0.50353\ttest-mlogloss:0.54871\n",
      "[214]\ttrain-mlogloss:0.50115\ttest-mlogloss:0.54641\n",
      "[215]\ttrain-mlogloss:0.49864\ttest-mlogloss:0.54398\n",
      "[216]\ttrain-mlogloss:0.49600\ttest-mlogloss:0.54138\n",
      "[217]\ttrain-mlogloss:0.49364\ttest-mlogloss:0.53909\n",
      "[218]\ttrain-mlogloss:0.49148\ttest-mlogloss:0.53700\n",
      "[219]\ttrain-mlogloss:0.48920\ttest-mlogloss:0.53477\n",
      "[220]\ttrain-mlogloss:0.48684\ttest-mlogloss:0.53242\n",
      "[221]\ttrain-mlogloss:0.48427\ttest-mlogloss:0.52990\n",
      "[222]\ttrain-mlogloss:0.48192\ttest-mlogloss:0.52762\n",
      "[223]\ttrain-mlogloss:0.47946\ttest-mlogloss:0.52521\n",
      "[224]\ttrain-mlogloss:0.47719\ttest-mlogloss:0.52301\n",
      "[225]\ttrain-mlogloss:0.47490\ttest-mlogloss:0.52079\n",
      "[226]\ttrain-mlogloss:0.47260\ttest-mlogloss:0.51854\n",
      "[227]\ttrain-mlogloss:0.47064\ttest-mlogloss:0.51659\n",
      "[228]\ttrain-mlogloss:0.46827\ttest-mlogloss:0.51427\n",
      "[229]\ttrain-mlogloss:0.46603\ttest-mlogloss:0.51209\n",
      "[230]\ttrain-mlogloss:0.46384\ttest-mlogloss:0.50997\n",
      "[231]\ttrain-mlogloss:0.46204\ttest-mlogloss:0.50833\n",
      "[232]\ttrain-mlogloss:0.45993\ttest-mlogloss:0.50627\n",
      "[233]\ttrain-mlogloss:0.45801\ttest-mlogloss:0.50442\n",
      "[234]\ttrain-mlogloss:0.45586\ttest-mlogloss:0.50235\n",
      "[235]\ttrain-mlogloss:0.45378\ttest-mlogloss:0.50033\n",
      "[236]\ttrain-mlogloss:0.45172\ttest-mlogloss:0.49830\n",
      "[237]\ttrain-mlogloss:0.44958\ttest-mlogloss:0.49621\n",
      "[238]\ttrain-mlogloss:0.44781\ttest-mlogloss:0.49450\n",
      "[239]\ttrain-mlogloss:0.44568\ttest-mlogloss:0.49242\n",
      "[240]\ttrain-mlogloss:0.44344\ttest-mlogloss:0.49023\n",
      "[241]\ttrain-mlogloss:0.44140\ttest-mlogloss:0.48821\n",
      "[242]\ttrain-mlogloss:0.43937\ttest-mlogloss:0.48619\n",
      "[243]\ttrain-mlogloss:0.43716\ttest-mlogloss:0.48400\n",
      "[244]\ttrain-mlogloss:0.43509\ttest-mlogloss:0.48196\n",
      "[245]\ttrain-mlogloss:0.43305\ttest-mlogloss:0.47995\n",
      "[246]\ttrain-mlogloss:0.43084\ttest-mlogloss:0.47775\n",
      "[247]\ttrain-mlogloss:0.42875\ttest-mlogloss:0.47568\n",
      "[248]\ttrain-mlogloss:0.42687\ttest-mlogloss:0.47384\n",
      "[249]\ttrain-mlogloss:0.42475\ttest-mlogloss:0.47173\n",
      "[250]\ttrain-mlogloss:0.42278\ttest-mlogloss:0.46980\n",
      "[251]\ttrain-mlogloss:0.42076\ttest-mlogloss:0.46778\n",
      "[252]\ttrain-mlogloss:0.41863\ttest-mlogloss:0.46569\n",
      "[253]\ttrain-mlogloss:0.41654\ttest-mlogloss:0.46364\n",
      "[254]\ttrain-mlogloss:0.41480\ttest-mlogloss:0.46198\n",
      "[255]\ttrain-mlogloss:0.41278\ttest-mlogloss:0.46003\n",
      "[256]\ttrain-mlogloss:0.41098\ttest-mlogloss:0.45829\n",
      "[257]\ttrain-mlogloss:0.40897\ttest-mlogloss:0.45628\n",
      "[258]\ttrain-mlogloss:0.40694\ttest-mlogloss:0.45428\n",
      "[259]\ttrain-mlogloss:0.40503\ttest-mlogloss:0.45243\n",
      "[260]\ttrain-mlogloss:0.40320\ttest-mlogloss:0.45066\n",
      "[261]\ttrain-mlogloss:0.40120\ttest-mlogloss:0.44871\n",
      "[262]\ttrain-mlogloss:0.39948\ttest-mlogloss:0.44703\n",
      "[263]\ttrain-mlogloss:0.39758\ttest-mlogloss:0.44514\n",
      "[264]\ttrain-mlogloss:0.39587\ttest-mlogloss:0.44348\n",
      "[265]\ttrain-mlogloss:0.39404\ttest-mlogloss:0.44168\n",
      "[266]\ttrain-mlogloss:0.39239\ttest-mlogloss:0.44010\n",
      "[267]\ttrain-mlogloss:0.39062\ttest-mlogloss:0.43832\n",
      "[268]\ttrain-mlogloss:0.38876\ttest-mlogloss:0.43649\n",
      "[269]\ttrain-mlogloss:0.38705\ttest-mlogloss:0.43481\n",
      "[270]\ttrain-mlogloss:0.38524\ttest-mlogloss:0.43302\n",
      "[271]\ttrain-mlogloss:0.38387\ttest-mlogloss:0.43172\n",
      "[272]\ttrain-mlogloss:0.38206\ttest-mlogloss:0.42994\n",
      "[273]\ttrain-mlogloss:0.38015\ttest-mlogloss:0.42805\n",
      "[274]\ttrain-mlogloss:0.37832\ttest-mlogloss:0.42621\n",
      "[275]\ttrain-mlogloss:0.37668\ttest-mlogloss:0.42463\n",
      "[276]\ttrain-mlogloss:0.37481\ttest-mlogloss:0.42278\n",
      "[277]\ttrain-mlogloss:0.37329\ttest-mlogloss:0.42132\n",
      "[278]\ttrain-mlogloss:0.37156\ttest-mlogloss:0.41962\n",
      "[279]\ttrain-mlogloss:0.37013\ttest-mlogloss:0.41821\n",
      "[280]\ttrain-mlogloss:0.36866\ttest-mlogloss:0.41677\n",
      "[281]\ttrain-mlogloss:0.36689\ttest-mlogloss:0.41499\n",
      "[282]\ttrain-mlogloss:0.36542\ttest-mlogloss:0.41356\n",
      "[283]\ttrain-mlogloss:0.36374\ttest-mlogloss:0.41194\n",
      "[284]\ttrain-mlogloss:0.36213\ttest-mlogloss:0.41032\n",
      "[285]\ttrain-mlogloss:0.36047\ttest-mlogloss:0.40868\n",
      "[286]\ttrain-mlogloss:0.35874\ttest-mlogloss:0.40697\n",
      "[287]\ttrain-mlogloss:0.35726\ttest-mlogloss:0.40554\n",
      "[288]\ttrain-mlogloss:0.35560\ttest-mlogloss:0.40390\n",
      "[289]\ttrain-mlogloss:0.35405\ttest-mlogloss:0.40238\n",
      "[290]\ttrain-mlogloss:0.35251\ttest-mlogloss:0.40089\n",
      "[291]\ttrain-mlogloss:0.35093\ttest-mlogloss:0.39934\n",
      "[292]\ttrain-mlogloss:0.34938\ttest-mlogloss:0.39781\n",
      "[293]\ttrain-mlogloss:0.34805\ttest-mlogloss:0.39654\n",
      "[294]\ttrain-mlogloss:0.34656\ttest-mlogloss:0.39506\n",
      "[295]\ttrain-mlogloss:0.34514\ttest-mlogloss:0.39370\n",
      "[296]\ttrain-mlogloss:0.34361\ttest-mlogloss:0.39220\n",
      "[297]\ttrain-mlogloss:0.34198\ttest-mlogloss:0.39058\n",
      "[298]\ttrain-mlogloss:0.34041\ttest-mlogloss:0.38903\n",
      "[299]\ttrain-mlogloss:0.33888\ttest-mlogloss:0.38751\n",
      "[300]\ttrain-mlogloss:0.33749\ttest-mlogloss:0.38615\n",
      "[301]\ttrain-mlogloss:0.33606\ttest-mlogloss:0.38474\n",
      "[302]\ttrain-mlogloss:0.33453\ttest-mlogloss:0.38324\n",
      "[303]\ttrain-mlogloss:0.33315\ttest-mlogloss:0.38189\n",
      "[304]\ttrain-mlogloss:0.33164\ttest-mlogloss:0.38035\n",
      "[305]\ttrain-mlogloss:0.33012\ttest-mlogloss:0.37885\n",
      "[306]\ttrain-mlogloss:0.32886\ttest-mlogloss:0.37765\n",
      "[307]\ttrain-mlogloss:0.32744\ttest-mlogloss:0.37624\n",
      "[308]\ttrain-mlogloss:0.32616\ttest-mlogloss:0.37497\n",
      "[309]\ttrain-mlogloss:0.32476\ttest-mlogloss:0.37357\n",
      "[310]\ttrain-mlogloss:0.32333\ttest-mlogloss:0.37215\n",
      "[311]\ttrain-mlogloss:0.32195\ttest-mlogloss:0.37078\n",
      "[312]\ttrain-mlogloss:0.32067\ttest-mlogloss:0.36956\n",
      "[313]\ttrain-mlogloss:0.31932\ttest-mlogloss:0.36822\n",
      "[314]\ttrain-mlogloss:0.31806\ttest-mlogloss:0.36699\n",
      "[315]\ttrain-mlogloss:0.31659\ttest-mlogloss:0.36554\n",
      "[316]\ttrain-mlogloss:0.31511\ttest-mlogloss:0.36405\n",
      "[317]\ttrain-mlogloss:0.31378\ttest-mlogloss:0.36273\n",
      "[318]\ttrain-mlogloss:0.31235\ttest-mlogloss:0.36130\n"
     ]
    },
    {
     "name": "stdout",
     "output_type": "stream",
     "text": [
      "[319]\ttrain-mlogloss:0.31100\ttest-mlogloss:0.35997\n",
      "[320]\ttrain-mlogloss:0.30976\ttest-mlogloss:0.35879\n",
      "[321]\ttrain-mlogloss:0.30848\ttest-mlogloss:0.35750\n",
      "[322]\ttrain-mlogloss:0.30714\ttest-mlogloss:0.35618\n",
      "[323]\ttrain-mlogloss:0.30576\ttest-mlogloss:0.35482\n",
      "[324]\ttrain-mlogloss:0.30434\ttest-mlogloss:0.35341\n",
      "[325]\ttrain-mlogloss:0.30318\ttest-mlogloss:0.35229\n",
      "[326]\ttrain-mlogloss:0.30193\ttest-mlogloss:0.35106\n",
      "[327]\ttrain-mlogloss:0.30055\ttest-mlogloss:0.34967\n",
      "[328]\ttrain-mlogloss:0.29930\ttest-mlogloss:0.34843\n",
      "[329]\ttrain-mlogloss:0.29810\ttest-mlogloss:0.34724\n",
      "[330]\ttrain-mlogloss:0.29679\ttest-mlogloss:0.34591\n",
      "[331]\ttrain-mlogloss:0.29551\ttest-mlogloss:0.34462\n",
      "[332]\ttrain-mlogloss:0.29437\ttest-mlogloss:0.34350\n",
      "[333]\ttrain-mlogloss:0.29325\ttest-mlogloss:0.34239\n",
      "[334]\ttrain-mlogloss:0.29202\ttest-mlogloss:0.34114\n",
      "[335]\ttrain-mlogloss:0.29069\ttest-mlogloss:0.33981\n",
      "[336]\ttrain-mlogloss:0.28953\ttest-mlogloss:0.33865\n",
      "[337]\ttrain-mlogloss:0.28834\ttest-mlogloss:0.33748\n",
      "[338]\ttrain-mlogloss:0.28706\ttest-mlogloss:0.33619\n",
      "[339]\ttrain-mlogloss:0.28585\ttest-mlogloss:0.33499\n",
      "[340]\ttrain-mlogloss:0.28474\ttest-mlogloss:0.33390\n",
      "[341]\ttrain-mlogloss:0.28354\ttest-mlogloss:0.33270\n",
      "[342]\ttrain-mlogloss:0.28238\ttest-mlogloss:0.33155\n",
      "[343]\ttrain-mlogloss:0.28122\ttest-mlogloss:0.33042\n",
      "[344]\ttrain-mlogloss:0.28007\ttest-mlogloss:0.32928\n",
      "[345]\ttrain-mlogloss:0.27889\ttest-mlogloss:0.32810\n",
      "[346]\ttrain-mlogloss:0.27769\ttest-mlogloss:0.32688\n",
      "[347]\ttrain-mlogloss:0.27657\ttest-mlogloss:0.32578\n",
      "[348]\ttrain-mlogloss:0.27546\ttest-mlogloss:0.32467\n",
      "[349]\ttrain-mlogloss:0.27427\ttest-mlogloss:0.32347\n",
      "[350]\ttrain-mlogloss:0.27321\ttest-mlogloss:0.32245\n",
      "[351]\ttrain-mlogloss:0.27208\ttest-mlogloss:0.32131\n",
      "[352]\ttrain-mlogloss:0.27089\ttest-mlogloss:0.32012\n",
      "[353]\ttrain-mlogloss:0.26987\ttest-mlogloss:0.31912\n",
      "[354]\ttrain-mlogloss:0.26878\ttest-mlogloss:0.31802\n",
      "[355]\ttrain-mlogloss:0.26772\ttest-mlogloss:0.31695\n",
      "[356]\ttrain-mlogloss:0.26660\ttest-mlogloss:0.31583\n",
      "[357]\ttrain-mlogloss:0.26549\ttest-mlogloss:0.31472\n",
      "[358]\ttrain-mlogloss:0.26445\ttest-mlogloss:0.31367\n",
      "[359]\ttrain-mlogloss:0.26349\ttest-mlogloss:0.31274\n",
      "[360]\ttrain-mlogloss:0.26245\ttest-mlogloss:0.31171\n",
      "[361]\ttrain-mlogloss:0.26147\ttest-mlogloss:0.31075\n",
      "[362]\ttrain-mlogloss:0.26041\ttest-mlogloss:0.30969\n",
      "[363]\ttrain-mlogloss:0.25941\ttest-mlogloss:0.30869\n",
      "[364]\ttrain-mlogloss:0.25839\ttest-mlogloss:0.30767\n",
      "[365]\ttrain-mlogloss:0.25730\ttest-mlogloss:0.30660\n",
      "[366]\ttrain-mlogloss:0.25616\ttest-mlogloss:0.30546\n",
      "[367]\ttrain-mlogloss:0.25510\ttest-mlogloss:0.30440\n",
      "[368]\ttrain-mlogloss:0.25396\ttest-mlogloss:0.30323\n",
      "[369]\ttrain-mlogloss:0.25291\ttest-mlogloss:0.30218\n",
      "[370]\ttrain-mlogloss:0.25212\ttest-mlogloss:0.30140\n",
      "[371]\ttrain-mlogloss:0.25111\ttest-mlogloss:0.30039\n",
      "[372]\ttrain-mlogloss:0.25009\ttest-mlogloss:0.29936\n",
      "[373]\ttrain-mlogloss:0.24913\ttest-mlogloss:0.29840\n",
      "[374]\ttrain-mlogloss:0.24813\ttest-mlogloss:0.29744\n",
      "[375]\ttrain-mlogloss:0.24723\ttest-mlogloss:0.29656\n",
      "[376]\ttrain-mlogloss:0.24632\ttest-mlogloss:0.29566\n",
      "[377]\ttrain-mlogloss:0.24542\ttest-mlogloss:0.29480\n",
      "[378]\ttrain-mlogloss:0.24447\ttest-mlogloss:0.29386\n",
      "[379]\ttrain-mlogloss:0.24358\ttest-mlogloss:0.29300\n",
      "[380]\ttrain-mlogloss:0.24262\ttest-mlogloss:0.29205\n",
      "[381]\ttrain-mlogloss:0.24163\ttest-mlogloss:0.29104\n",
      "[382]\ttrain-mlogloss:0.24066\ttest-mlogloss:0.29010\n",
      "[383]\ttrain-mlogloss:0.23970\ttest-mlogloss:0.28913\n",
      "[384]\ttrain-mlogloss:0.23870\ttest-mlogloss:0.28813\n",
      "[385]\ttrain-mlogloss:0.23775\ttest-mlogloss:0.28717\n",
      "[386]\ttrain-mlogloss:0.23684\ttest-mlogloss:0.28626\n",
      "[387]\ttrain-mlogloss:0.23602\ttest-mlogloss:0.28548\n",
      "[388]\ttrain-mlogloss:0.23511\ttest-mlogloss:0.28456\n",
      "[389]\ttrain-mlogloss:0.23425\ttest-mlogloss:0.28373\n",
      "[390]\ttrain-mlogloss:0.23331\ttest-mlogloss:0.28280\n",
      "[391]\ttrain-mlogloss:0.23239\ttest-mlogloss:0.28189\n",
      "[392]\ttrain-mlogloss:0.23149\ttest-mlogloss:0.28099\n",
      "[393]\ttrain-mlogloss:0.23059\ttest-mlogloss:0.28010\n",
      "[394]\ttrain-mlogloss:0.22961\ttest-mlogloss:0.27913\n",
      "[395]\ttrain-mlogloss:0.22880\ttest-mlogloss:0.27832\n",
      "[396]\ttrain-mlogloss:0.22788\ttest-mlogloss:0.27742\n",
      "[397]\ttrain-mlogloss:0.22709\ttest-mlogloss:0.27666\n",
      "[398]\ttrain-mlogloss:0.22623\ttest-mlogloss:0.27581\n",
      "[399]\ttrain-mlogloss:0.22533\ttest-mlogloss:0.27491\n",
      "[400]\ttrain-mlogloss:0.22458\ttest-mlogloss:0.27417\n",
      "[401]\ttrain-mlogloss:0.22390\ttest-mlogloss:0.27350\n",
      "[402]\ttrain-mlogloss:0.22301\ttest-mlogloss:0.27262\n",
      "[403]\ttrain-mlogloss:0.22222\ttest-mlogloss:0.27185\n",
      "[404]\ttrain-mlogloss:0.22140\ttest-mlogloss:0.27105\n",
      "[405]\ttrain-mlogloss:0.22058\ttest-mlogloss:0.27024\n",
      "[406]\ttrain-mlogloss:0.21985\ttest-mlogloss:0.26952\n",
      "[407]\ttrain-mlogloss:0.21901\ttest-mlogloss:0.26867\n",
      "[408]\ttrain-mlogloss:0.21829\ttest-mlogloss:0.26795\n",
      "[409]\ttrain-mlogloss:0.21751\ttest-mlogloss:0.26721\n",
      "[410]\ttrain-mlogloss:0.21669\ttest-mlogloss:0.26639\n",
      "[411]\ttrain-mlogloss:0.21592\ttest-mlogloss:0.26565\n",
      "[412]\ttrain-mlogloss:0.21515\ttest-mlogloss:0.26489\n",
      "[413]\ttrain-mlogloss:0.21432\ttest-mlogloss:0.26403\n",
      "[414]\ttrain-mlogloss:0.21359\ttest-mlogloss:0.26331\n",
      "[415]\ttrain-mlogloss:0.21272\ttest-mlogloss:0.26245\n",
      "[416]\ttrain-mlogloss:0.21184\ttest-mlogloss:0.26158\n",
      "[417]\ttrain-mlogloss:0.21100\ttest-mlogloss:0.26072\n",
      "[418]\ttrain-mlogloss:0.21020\ttest-mlogloss:0.25991\n",
      "[419]\ttrain-mlogloss:0.20936\ttest-mlogloss:0.25908\n",
      "[420]\ttrain-mlogloss:0.20854\ttest-mlogloss:0.25826\n",
      "[421]\ttrain-mlogloss:0.20786\ttest-mlogloss:0.25758\n",
      "[422]\ttrain-mlogloss:0.20713\ttest-mlogloss:0.25684\n",
      "[423]\ttrain-mlogloss:0.20641\ttest-mlogloss:0.25613\n",
      "[424]\ttrain-mlogloss:0.20563\ttest-mlogloss:0.25533\n",
      "[425]\ttrain-mlogloss:0.20497\ttest-mlogloss:0.25469\n",
      "[426]\ttrain-mlogloss:0.20423\ttest-mlogloss:0.25395\n",
      "[427]\ttrain-mlogloss:0.20341\ttest-mlogloss:0.25311\n",
      "[428]\ttrain-mlogloss:0.20270\ttest-mlogloss:0.25240\n",
      "[429]\ttrain-mlogloss:0.20197\ttest-mlogloss:0.25168\n",
      "[430]\ttrain-mlogloss:0.20121\ttest-mlogloss:0.25090\n",
      "[431]\ttrain-mlogloss:0.20053\ttest-mlogloss:0.25024\n",
      "[432]\ttrain-mlogloss:0.19979\ttest-mlogloss:0.24949\n",
      "[433]\ttrain-mlogloss:0.19910\ttest-mlogloss:0.24879\n",
      "[434]\ttrain-mlogloss:0.19840\ttest-mlogloss:0.24811\n",
      "[435]\ttrain-mlogloss:0.19776\ttest-mlogloss:0.24746\n",
      "[436]\ttrain-mlogloss:0.19700\ttest-mlogloss:0.24671\n",
      "[437]\ttrain-mlogloss:0.19627\ttest-mlogloss:0.24597\n",
      "[438]\ttrain-mlogloss:0.19567\ttest-mlogloss:0.24538\n",
      "[439]\ttrain-mlogloss:0.19495\ttest-mlogloss:0.24465\n",
      "[440]\ttrain-mlogloss:0.19426\ttest-mlogloss:0.24397\n",
      "[441]\ttrain-mlogloss:0.19356\ttest-mlogloss:0.24330\n",
      "[442]\ttrain-mlogloss:0.19280\ttest-mlogloss:0.24252\n",
      "[443]\ttrain-mlogloss:0.19213\ttest-mlogloss:0.24183\n",
      "[444]\ttrain-mlogloss:0.19146\ttest-mlogloss:0.24116\n",
      "[445]\ttrain-mlogloss:0.19071\ttest-mlogloss:0.24040\n",
      "[446]\ttrain-mlogloss:0.19009\ttest-mlogloss:0.23975\n",
      "[447]\ttrain-mlogloss:0.18937\ttest-mlogloss:0.23901\n",
      "[448]\ttrain-mlogloss:0.18874\ttest-mlogloss:0.23839\n",
      "[449]\ttrain-mlogloss:0.18817\ttest-mlogloss:0.23782\n",
      "[450]\ttrain-mlogloss:0.18748\ttest-mlogloss:0.23711\n",
      "[451]\ttrain-mlogloss:0.18680\ttest-mlogloss:0.23644\n",
      "[452]\ttrain-mlogloss:0.18614\ttest-mlogloss:0.23575\n",
      "[453]\ttrain-mlogloss:0.18547\ttest-mlogloss:0.23507\n",
      "[454]\ttrain-mlogloss:0.18479\ttest-mlogloss:0.23440\n",
      "[455]\ttrain-mlogloss:0.18417\ttest-mlogloss:0.23379\n",
      "[456]\ttrain-mlogloss:0.18357\ttest-mlogloss:0.23320\n",
      "[457]\ttrain-mlogloss:0.18297\ttest-mlogloss:0.23258\n",
      "[458]\ttrain-mlogloss:0.18232\ttest-mlogloss:0.23194\n",
      "[459]\ttrain-mlogloss:0.18180\ttest-mlogloss:0.23143\n",
      "[460]\ttrain-mlogloss:0.18119\ttest-mlogloss:0.23082\n",
      "[461]\ttrain-mlogloss:0.18064\ttest-mlogloss:0.23028\n",
      "[462]\ttrain-mlogloss:0.18002\ttest-mlogloss:0.22966\n",
      "[463]\ttrain-mlogloss:0.17943\ttest-mlogloss:0.22906\n",
      "[464]\ttrain-mlogloss:0.17880\ttest-mlogloss:0.22844\n",
      "[465]\ttrain-mlogloss:0.17820\ttest-mlogloss:0.22784\n",
      "[466]\ttrain-mlogloss:0.17752\ttest-mlogloss:0.22718\n",
      "[467]\ttrain-mlogloss:0.17700\ttest-mlogloss:0.22666\n",
      "[468]\ttrain-mlogloss:0.17640\ttest-mlogloss:0.22607\n",
      "[469]\ttrain-mlogloss:0.17578\ttest-mlogloss:0.22546\n",
      "[470]\ttrain-mlogloss:0.17513\ttest-mlogloss:0.22480\n",
      "[471]\ttrain-mlogloss:0.17456\ttest-mlogloss:0.22422\n",
      "[472]\ttrain-mlogloss:0.17402\ttest-mlogloss:0.22368\n",
      "[473]\ttrain-mlogloss:0.17348\ttest-mlogloss:0.22314\n",
      "[474]\ttrain-mlogloss:0.17292\ttest-mlogloss:0.22258\n",
      "[475]\ttrain-mlogloss:0.17242\ttest-mlogloss:0.22212\n",
      "[476]\ttrain-mlogloss:0.17183\ttest-mlogloss:0.22152\n",
      "[477]\ttrain-mlogloss:0.17136\ttest-mlogloss:0.22107\n",
      "[478]\ttrain-mlogloss:0.17079\ttest-mlogloss:0.22049\n",
      "[479]\ttrain-mlogloss:0.17031\ttest-mlogloss:0.22004\n"
     ]
    },
    {
     "name": "stdout",
     "output_type": "stream",
     "text": [
      "[480]\ttrain-mlogloss:0.16974\ttest-mlogloss:0.21946\n",
      "[481]\ttrain-mlogloss:0.16923\ttest-mlogloss:0.21895\n",
      "[482]\ttrain-mlogloss:0.16868\ttest-mlogloss:0.21842\n",
      "[483]\ttrain-mlogloss:0.16805\ttest-mlogloss:0.21777\n",
      "[484]\ttrain-mlogloss:0.16747\ttest-mlogloss:0.21719\n",
      "[485]\ttrain-mlogloss:0.16694\ttest-mlogloss:0.21668\n",
      "[486]\ttrain-mlogloss:0.16644\ttest-mlogloss:0.21619\n",
      "[487]\ttrain-mlogloss:0.16585\ttest-mlogloss:0.21560\n",
      "[488]\ttrain-mlogloss:0.16530\ttest-mlogloss:0.21503\n",
      "[489]\ttrain-mlogloss:0.16473\ttest-mlogloss:0.21447\n",
      "[490]\ttrain-mlogloss:0.16420\ttest-mlogloss:0.21393\n",
      "[491]\ttrain-mlogloss:0.16364\ttest-mlogloss:0.21335\n",
      "[492]\ttrain-mlogloss:0.16309\ttest-mlogloss:0.21280\n",
      "[493]\ttrain-mlogloss:0.16252\ttest-mlogloss:0.21221\n",
      "[494]\ttrain-mlogloss:0.16197\ttest-mlogloss:0.21166\n",
      "[495]\ttrain-mlogloss:0.16146\ttest-mlogloss:0.21117\n",
      "[496]\ttrain-mlogloss:0.16095\ttest-mlogloss:0.21065\n",
      "[497]\ttrain-mlogloss:0.16041\ttest-mlogloss:0.21011\n",
      "[498]\ttrain-mlogloss:0.15995\ttest-mlogloss:0.20965\n",
      "[499]\ttrain-mlogloss:0.15944\ttest-mlogloss:0.20915\n"
     ]
    }
   ],
   "source": [
    "watchlist = [ (xg_train,'train'), (xg_test, 'test') ]\n",
    "num_round = 500\n",
    "bst = xgb.train(param, xg_train, num_round, watchlist, early_stopping_rounds=10 );"
   ]
  },
  {
   "cell_type": "code",
   "execution_count": 9,
   "metadata": {},
   "outputs": [],
   "source": [
    "pred = bst.predict( xg_test );"
   ]
  },
  {
   "cell_type": "code",
   "execution_count": 10,
   "metadata": {},
   "outputs": [
    {
     "name": "stdout",
     "output_type": "stream",
     "text": [
      "predicting, classification error=0.03138052907786227\n"
     ]
    }
   ],
   "source": [
    "print (f'predicting, classification error={sum(pred!=y_test)/len(y_test)}')"
   ]
  },
  {
   "cell_type": "markdown",
   "metadata": {},
   "source": [
    "### Predict on train data filtered (1/50)"
   ]
  },
  {
   "cell_type": "code",
   "execution_count": 13,
   "metadata": {},
   "outputs": [],
   "source": [
    "train_filtered_51 = pd.read_csv(TRAIN_PATH, skiprows=lambda x: x%51!=0) #, usecols=['time', 'test_suite', 'induced_state', 'tlx_score']))"
   ]
  },
  {
   "cell_type": "code",
   "execution_count": 14,
   "metadata": {},
   "outputs": [],
   "source": [
    "train_X_51, train_Y_51 = preprocess(train_filtered_51)"
   ]
  },
  {
   "cell_type": "code",
   "execution_count": 15,
   "metadata": {},
   "outputs": [],
   "source": [
    "xg_train_51 = xgb.DMatrix(train_X_51)"
   ]
  },
  {
   "cell_type": "code",
   "execution_count": 16,
   "metadata": {},
   "outputs": [],
   "source": [
    "pred_51 = bst.predict( xg_train_51 );"
   ]
  },
  {
   "cell_type": "code",
   "execution_count": 17,
   "metadata": {},
   "outputs": [
    {
     "name": "stdout",
     "output_type": "stream",
     "text": [
      "predicting, classification error=0.009884188833133347\n"
     ]
    }
   ],
   "source": [
    "print (f'predicting, classification error={sum(pred_51!=train_Y_51)/len(train_Y_51)}')"
   ]
  },
  {
   "cell_type": "code",
   "execution_count": 18,
   "metadata": {},
   "outputs": [
    {
     "data": {
      "text/plain": [
       "(31123, 55)"
      ]
     },
     "execution_count": 18,
     "metadata": {},
     "output_type": "execute_result"
    }
   ],
   "source": [
    "sample_data.shape"
   ]
  },
  {
   "cell_type": "code",
   "execution_count": 19,
   "metadata": {},
   "outputs": [
    {
     "data": {
      "text/plain": [
       "(961738, 55)"
      ]
     },
     "execution_count": 19,
     "metadata": {},
     "output_type": "execute_result"
    }
   ],
   "source": [
    "train_filtered_51.shape"
   ]
  },
  {
   "cell_type": "code",
   "execution_count": 42,
   "metadata": {},
   "outputs": [],
   "source": [
    "error_df = train_filtered_51[(pred_51!=train_Y_51).values]"
   ]
  },
  {
   "cell_type": "code",
   "execution_count": 48,
   "metadata": {},
   "outputs": [
    {
     "data": {
      "text/plain": [
       "0    4833\n",
       "1    2461\n",
       "5    1605\n",
       "4     473\n",
       "2      93\n",
       "3      41\n",
       "Name: induced_state, dtype: int64"
      ]
     },
     "execution_count": 48,
     "metadata": {},
     "output_type": "execute_result"
    }
   ],
   "source": [
    "error_df.induced_state.value_counts()"
   ]
  },
  {
   "cell_type": "code",
   "execution_count": 46,
   "metadata": {},
   "outputs": [
    {
     "data": {
      "text/plain": [
       "2    262347\n",
       "1    212471\n",
       "0    194971\n",
       "3    187428\n",
       "4    102618\n",
       "5      1903\n",
       "Name: induced_state, dtype: int64"
      ]
     },
     "execution_count": 46,
     "metadata": {},
     "output_type": "execute_result"
    }
   ],
   "source": [
    "train_filtered_51.induced_state.value_counts()"
   ]
  },
  {
   "cell_type": "code",
   "execution_count": 49,
   "metadata": {},
   "outputs": [
    {
     "data": {
      "text/plain": [
       "0    0.024788\n",
       "1    0.011583\n",
       "2    0.000354\n",
       "3    0.000219\n",
       "4    0.004609\n",
       "5    0.843405\n",
       "Name: induced_state, dtype: float64"
      ]
     },
     "execution_count": 49,
     "metadata": {},
     "output_type": "execute_result"
    }
   ],
   "source": [
    "# error rate by induced_state\n",
    "error_df.induced_state.value_counts() / train_filtered_51.induced_state.value_counts()"
   ]
  },
  {
   "cell_type": "code",
   "execution_count": null,
   "metadata": {},
   "outputs": [],
   "source": []
  }
 ],
 "metadata": {
  "kernelspec": {
   "display_name": "Python 3",
   "language": "python",
   "name": "python3"
  },
  "language_info": {
   "codemirror_mode": {
    "name": "ipython",
    "version": 3
   },
   "file_extension": ".py",
   "mimetype": "text/x-python",
   "name": "python",
   "nbconvert_exporter": "python",
   "pygments_lexer": "ipython3",
   "version": "3.8.5"
  }
 },
 "nbformat": 4,
 "nbformat_minor": 4
}
