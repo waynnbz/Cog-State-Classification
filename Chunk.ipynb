{
 "cells": [
  {
   "cell_type": "code",
   "execution_count": 1,
   "metadata": {},
   "outputs": [],
   "source": [
    "import pandas as pd\n",
    "pd.set_option('display.max_columns', 56)\n",
    "import numpy as np\n",
    "import seaborn as sns\n",
    "import xgboost as xgb\n",
    "\n",
    "from sklearn.model_selection import train_test_split\n",
    "\n",
    "import matplotlib.pyplot as plt\n",
    "%matplotlib inline"
   ]
  },
  {
   "cell_type": "markdown",
   "metadata": {},
   "source": [
    "### Config"
   ]
  },
  {
   "cell_type": "code",
   "execution_count": 2,
   "metadata": {},
   "outputs": [],
   "source": [
    "# DATA PATHS\n",
    "TRAIN_PATH = 'data/data_training.csv'\n",
    "PROV_PATH = 'data/data_provisional.csv'\n",
    "SAMPLE_PATH = 'data/sample-data.csv'\n",
    "\n",
    "category = {'low':0, 'medium':1, 'high':2, 'baseline':3, 'channelized':4, 'surprise':5}"
   ]
  },
  {
   "cell_type": "markdown",
   "metadata": {},
   "source": [
    "### Loading data"
   ]
  },
  {
   "cell_type": "code",
   "execution_count": 35,
   "metadata": {},
   "outputs": [],
   "source": [
    "# Load sample data\n",
    "sample_data = pd.read_csv(SAMPLE_PATH)\n",
    "\n",
    "# # load the first 10^6 rows of train data\n",
    "# train = pd.read_csv(TRAIN_PATH, nrows=1000000)\n",
    "# df = train[train.test_suite == 'Training-Test-038']"
   ]
  },
  {
   "cell_type": "code",
   "execution_count": 12,
   "metadata": {},
   "outputs": [],
   "source": [
    "chunksize = 10000\n",
    "\n",
    "data = pd.read_csv(SAMPLE_PATH, chunksize=chunksize)\n",
    "\n",
    "# c = next(data)"
   ]
  },
  {
   "cell_type": "code",
   "execution_count": 14,
   "metadata": {},
   "outputs": [
    {
     "ename": "ValueError",
     "evalue": "DataFrame.dtypes for data must be int, float, bool or category.  When\ncategorical type is supplied, DMatrix parameter `enable_categorical` must\nbe set to `True`. Invalid columns:test_suite, induced_state",
     "output_type": "error",
     "traceback": [
      "\u001b[0;31m---------------------------------------------------------------------------\u001b[0m",
      "\u001b[0;31mValueError\u001b[0m                                Traceback (most recent call last)",
      "\u001b[0;32m<ipython-input-14-da9ade682699>\u001b[0m in \u001b[0;36m<module>\u001b[0;34m\u001b[0m\n\u001b[0;32m----> 1\u001b[0;31m \u001b[0mxg_data\u001b[0m \u001b[0;34m=\u001b[0m \u001b[0mxgb\u001b[0m\u001b[0;34m.\u001b[0m\u001b[0mDMatrix\u001b[0m\u001b[0;34m(\u001b[0m\u001b[0mnext\u001b[0m\u001b[0;34m(\u001b[0m\u001b[0mdata\u001b[0m\u001b[0;34m)\u001b[0m\u001b[0;34m)\u001b[0m\u001b[0;34m\u001b[0m\u001b[0;34m\u001b[0m\u001b[0m\n\u001b[0m",
      "\u001b[0;32m~/anaconda3/envs/tf-gpu/lib/python3.8/site-packages/xgboost/core.py\u001b[0m in \u001b[0;36minner_f\u001b[0;34m(*args, **kwargs)\u001b[0m\n\u001b[1;32m    504\u001b[0m         \u001b[0;32mfor\u001b[0m \u001b[0mk\u001b[0m\u001b[0;34m,\u001b[0m \u001b[0marg\u001b[0m \u001b[0;32min\u001b[0m \u001b[0mzip\u001b[0m\u001b[0;34m(\u001b[0m\u001b[0msig\u001b[0m\u001b[0;34m.\u001b[0m\u001b[0mparameters\u001b[0m\u001b[0;34m,\u001b[0m \u001b[0margs\u001b[0m\u001b[0;34m)\u001b[0m\u001b[0;34m:\u001b[0m\u001b[0;34m\u001b[0m\u001b[0;34m\u001b[0m\u001b[0m\n\u001b[1;32m    505\u001b[0m             \u001b[0mkwargs\u001b[0m\u001b[0;34m[\u001b[0m\u001b[0mk\u001b[0m\u001b[0;34m]\u001b[0m \u001b[0;34m=\u001b[0m \u001b[0marg\u001b[0m\u001b[0;34m\u001b[0m\u001b[0;34m\u001b[0m\u001b[0m\n\u001b[0;32m--> 506\u001b[0;31m         \u001b[0;32mreturn\u001b[0m \u001b[0mf\u001b[0m\u001b[0;34m(\u001b[0m\u001b[0;34m**\u001b[0m\u001b[0mkwargs\u001b[0m\u001b[0;34m)\u001b[0m\u001b[0;34m\u001b[0m\u001b[0;34m\u001b[0m\u001b[0m\n\u001b[0m\u001b[1;32m    507\u001b[0m \u001b[0;34m\u001b[0m\u001b[0m\n\u001b[1;32m    508\u001b[0m     \u001b[0;32mreturn\u001b[0m \u001b[0minner_f\u001b[0m\u001b[0;34m\u001b[0m\u001b[0;34m\u001b[0m\u001b[0m\n",
      "\u001b[0;32m~/anaconda3/envs/tf-gpu/lib/python3.8/site-packages/xgboost/core.py\u001b[0m in \u001b[0;36m__init__\u001b[0;34m(self, data, label, weight, base_margin, missing, silent, feature_names, feature_types, nthread, group, qid, label_lower_bound, label_upper_bound, feature_weights, enable_categorical)\u001b[0m\n\u001b[1;32m    614\u001b[0m             \u001b[0;32mreturn\u001b[0m\u001b[0;34m\u001b[0m\u001b[0;34m\u001b[0m\u001b[0m\n\u001b[1;32m    615\u001b[0m \u001b[0;34m\u001b[0m\u001b[0m\n\u001b[0;32m--> 616\u001b[0;31m         handle, feature_names, feature_types = dispatch_data_backend(\n\u001b[0m\u001b[1;32m    617\u001b[0m             \u001b[0mdata\u001b[0m\u001b[0;34m,\u001b[0m\u001b[0;34m\u001b[0m\u001b[0;34m\u001b[0m\u001b[0m\n\u001b[1;32m    618\u001b[0m             \u001b[0mmissing\u001b[0m\u001b[0;34m=\u001b[0m\u001b[0mself\u001b[0m\u001b[0;34m.\u001b[0m\u001b[0mmissing\u001b[0m\u001b[0;34m,\u001b[0m\u001b[0;34m\u001b[0m\u001b[0;34m\u001b[0m\u001b[0m\n",
      "\u001b[0;32m~/anaconda3/envs/tf-gpu/lib/python3.8/site-packages/xgboost/data.py\u001b[0m in \u001b[0;36mdispatch_data_backend\u001b[0;34m(data, missing, threads, feature_names, feature_types, enable_categorical)\u001b[0m\n\u001b[1;32m    770\u001b[0m         \u001b[0;32mreturn\u001b[0m \u001b[0m_from_tuple\u001b[0m\u001b[0;34m(\u001b[0m\u001b[0mdata\u001b[0m\u001b[0;34m,\u001b[0m \u001b[0mmissing\u001b[0m\u001b[0;34m,\u001b[0m \u001b[0mthreads\u001b[0m\u001b[0;34m,\u001b[0m \u001b[0mfeature_names\u001b[0m\u001b[0;34m,\u001b[0m \u001b[0mfeature_types\u001b[0m\u001b[0;34m)\u001b[0m\u001b[0;34m\u001b[0m\u001b[0;34m\u001b[0m\u001b[0m\n\u001b[1;32m    771\u001b[0m     \u001b[0;32mif\u001b[0m \u001b[0m_is_pandas_df\u001b[0m\u001b[0;34m(\u001b[0m\u001b[0mdata\u001b[0m\u001b[0;34m)\u001b[0m\u001b[0;34m:\u001b[0m\u001b[0;34m\u001b[0m\u001b[0;34m\u001b[0m\u001b[0m\n\u001b[0;32m--> 772\u001b[0;31m         return _from_pandas_df(data, enable_categorical, missing, threads,\n\u001b[0m\u001b[1;32m    773\u001b[0m                                feature_names, feature_types)\n\u001b[1;32m    774\u001b[0m     \u001b[0;32mif\u001b[0m \u001b[0m_is_pandas_series\u001b[0m\u001b[0;34m(\u001b[0m\u001b[0mdata\u001b[0m\u001b[0;34m)\u001b[0m\u001b[0;34m:\u001b[0m\u001b[0;34m\u001b[0m\u001b[0;34m\u001b[0m\u001b[0m\n",
      "\u001b[0;32m~/anaconda3/envs/tf-gpu/lib/python3.8/site-packages/xgboost/data.py\u001b[0m in \u001b[0;36m_from_pandas_df\u001b[0;34m(data, enable_categorical, missing, nthread, feature_names, feature_types)\u001b[0m\n\u001b[1;32m    310\u001b[0m     \u001b[0mfeature_types\u001b[0m\u001b[0;34m:\u001b[0m \u001b[0mOptional\u001b[0m\u001b[0;34m[\u001b[0m\u001b[0mList\u001b[0m\u001b[0;34m[\u001b[0m\u001b[0mstr\u001b[0m\u001b[0;34m]\u001b[0m\u001b[0;34m]\u001b[0m\u001b[0;34m,\u001b[0m\u001b[0;34m\u001b[0m\u001b[0;34m\u001b[0m\u001b[0m\n\u001b[1;32m    311\u001b[0m ):\n\u001b[0;32m--> 312\u001b[0;31m     data, feature_names, feature_types = _transform_pandas_df(\n\u001b[0m\u001b[1;32m    313\u001b[0m         data, enable_categorical, feature_names, feature_types)\n\u001b[1;32m    314\u001b[0m     return _from_numpy_array(data, missing, nthread, feature_names,\n",
      "\u001b[0;32m~/anaconda3/envs/tf-gpu/lib/python3.8/site-packages/xgboost/data.py\u001b[0m in \u001b[0;36m_transform_pandas_df\u001b[0;34m(data, enable_categorical, feature_names, feature_types, meta, meta_type)\u001b[0m\n\u001b[1;32m    254\u001b[0m         \u001b[0;32mfor\u001b[0m \u001b[0mdtype\u001b[0m \u001b[0;32min\u001b[0m \u001b[0mdata\u001b[0m\u001b[0;34m.\u001b[0m\u001b[0mdtypes\u001b[0m\u001b[0;34m\u001b[0m\u001b[0;34m\u001b[0m\u001b[0m\n\u001b[1;32m    255\u001b[0m     ):\n\u001b[0;32m--> 256\u001b[0;31m         \u001b[0m_invalid_dataframe_dtype\u001b[0m\u001b[0;34m(\u001b[0m\u001b[0mdata\u001b[0m\u001b[0;34m)\u001b[0m\u001b[0;34m\u001b[0m\u001b[0;34m\u001b[0m\u001b[0m\n\u001b[0m\u001b[1;32m    257\u001b[0m \u001b[0;34m\u001b[0m\u001b[0m\n\u001b[1;32m    258\u001b[0m     \u001b[0;31m# handle feature names\u001b[0m\u001b[0;34m\u001b[0m\u001b[0;34m\u001b[0m\u001b[0;34m\u001b[0m\u001b[0m\n",
      "\u001b[0;32m~/anaconda3/envs/tf-gpu/lib/python3.8/site-packages/xgboost/data.py\u001b[0m in \u001b[0;36m_invalid_dataframe_dtype\u001b[0;34m(data)\u001b[0m\n\u001b[1;32m    234\u001b[0m \u001b[0mcategorical\u001b[0m \u001b[0mtype\u001b[0m \u001b[0;32mis\u001b[0m \u001b[0msupplied\u001b[0m\u001b[0;34m,\u001b[0m \u001b[0mDMatrix\u001b[0m \u001b[0mparameter\u001b[0m\u001b[0;31m \u001b[0m\u001b[0;31m`\u001b[0m\u001b[0menable_categorical\u001b[0m\u001b[0;31m`\u001b[0m \u001b[0mmust\u001b[0m\u001b[0;34m\u001b[0m\u001b[0;34m\u001b[0m\u001b[0m\n\u001b[1;32m    235\u001b[0m be set to `True`.\"\"\" + err\n\u001b[0;32m--> 236\u001b[0;31m     \u001b[0;32mraise\u001b[0m \u001b[0mValueError\u001b[0m\u001b[0;34m(\u001b[0m\u001b[0mmsg\u001b[0m\u001b[0;34m)\u001b[0m\u001b[0;34m\u001b[0m\u001b[0;34m\u001b[0m\u001b[0m\n\u001b[0m\u001b[1;32m    237\u001b[0m \u001b[0;34m\u001b[0m\u001b[0m\n\u001b[1;32m    238\u001b[0m \u001b[0;34m\u001b[0m\u001b[0m\n",
      "\u001b[0;31mValueError\u001b[0m: DataFrame.dtypes for data must be int, float, bool or category.  When\ncategorical type is supplied, DMatrix parameter `enable_categorical` must\nbe set to `True`. Invalid columns:test_suite, induced_state"
     ]
    }
   ],
   "source": [
    "xg_data = xgb.DMatrix(next(data))"
   ]
  },
  {
   "cell_type": "code",
   "execution_count": null,
   "metadata": {},
   "outputs": [],
   "source": []
  },
  {
   "cell_type": "code",
   "execution_count": null,
   "metadata": {},
   "outputs": [],
   "source": []
  },
  {
   "cell_type": "code",
   "execution_count": 25,
   "metadata": {
    "scrolled": true
   },
   "outputs": [],
   "source": [
    "# for chunk in data:\n",
    "#     print(chunk.shape)"
   ]
  },
  {
   "cell_type": "code",
   "execution_count": 29,
   "metadata": {},
   "outputs": [
    {
     "data": {
      "text/plain": [
       "Training-Test-038    990214\n",
       "Training-Test-067      9786\n",
       "Name: test_suite, dtype: int64"
      ]
     },
     "execution_count": 29,
     "metadata": {},
     "output_type": "execute_result"
    }
   ],
   "source": [
    "c.test_suite.value_counts()"
   ]
  },
  {
   "cell_type": "code",
   "execution_count": 30,
   "metadata": {},
   "outputs": [],
   "source": [
    "single = c[c.test_suite == 'Training-Test-038']"
   ]
  },
  {
   "cell_type": "code",
   "execution_count": 39,
   "metadata": {},
   "outputs": [
    {
     "data": {
      "text/plain": [
       "4661      1626275543355618\n",
       "4662      1626275543356097\n",
       "4663      1626275543356861\n",
       "4664      1626275543357816\n",
       "4665      1626275543358100\n",
       "                ...       \n",
       "990209    1626279183568473\n",
       "990210    1626279183569511\n",
       "990211    1626279183570472\n",
       "990212    1626279183572471\n",
       "990213    1626279183573593\n",
       "Name: time, Length: 985553, dtype: int64"
      ]
     },
     "execution_count": 39,
     "metadata": {},
     "output_type": "execute_result"
    }
   ],
   "source": [
    "single.time[single.time >= (single.time[0] + 3000000)]"
   ]
  },
  {
   "cell_type": "code",
   "execution_count": null,
   "metadata": {},
   "outputs": [],
   "source": []
  },
  {
   "cell_type": "code",
   "execution_count": 66,
   "metadata": {},
   "outputs": [],
   "source": [
    "single_channelized = single[single.induced_state == 'channelized']"
   ]
  },
  {
   "cell_type": "code",
   "execution_count": 59,
   "metadata": {},
   "outputs": [],
   "source": [
    "single_baseline = single.iloc[:117791]"
   ]
  },
  {
   "cell_type": "markdown",
   "metadata": {},
   "source": [
    "### The difference btw sensordata mean values of `baseline` & `channelized` statet.  Put into ratio to std"
   ]
  },
  {
   "cell_type": "code",
   "execution_count": 69,
   "metadata": {
    "scrolled": true
   },
   "outputs": [
    {
     "data": {
      "text/plain": [
       "time                         20.963801\n",
       "tlx_score                          inf\n",
       "E4_BVP                        0.045512\n",
       "E4_GSR                        0.060257\n",
       "LooxidLink_EEG_A3            36.275706\n",
       "LooxidLink_EEG_A4            45.836544\n",
       "LooxidLink_EEG_FP1           35.861761\n",
       "LooxidLink_EEG_FP2           28.080833\n",
       "LooxidLink_EEG_A7            11.396929\n",
       "LooxidLink_EEG_A8            -0.831278\n",
       "Muse_EEG_TP9                  0.000000\n",
       "Muse_EEG_AF7                  0.000000\n",
       "Muse_EEG_AF8                  0.000000\n",
       "Muse_EEG_TP10                 0.000000\n",
       "Muse_PPG_0                    0.000000\n",
       "Muse_PPG_1                    0.000000\n",
       "Muse_PPG_2                    0.000000\n",
       "Myo_GYR_X                     0.000269\n",
       "Myo_GYR_Y                     0.092695\n",
       "Myo_GYR_Z                     0.018316\n",
       "Myo_EMG_0                     0.015856\n",
       "Myo_EMG_1                     0.015963\n",
       "Myo_EMG_2                     0.015858\n",
       "Myo_EMG_3                     0.015655\n",
       "Myo_EMG_4                     0.015556\n",
       "Myo_EMG_5                     0.016507\n",
       "Myo_EMG_6                     0.015936\n",
       "Myo_EMG_7                     0.015727\n",
       "PICARD_fnirs_0                0.521215\n",
       "PICARD_fnirs_1               -0.308001\n",
       "Polar_bpm                     0.055854\n",
       "Polar_hrv                     0.064653\n",
       "ViveEye_eyeOpenness_L         0.001897\n",
       "ViveEye_pupilDiameter_L       0.019026\n",
       "ViveEye_pupilPos_L_X          0.010541\n",
       "ViveEye_pupilPos_L_Y          0.011424\n",
       "ViveEye_gazeOrigin_L_X        0.006146\n",
       "ViveEye_gazeOrigin_L_Y        0.025525\n",
       "ViveEye_gazeOrigin_L_Z       -0.000199\n",
       "ViveEye_gazeDirection_L_X     0.008557\n",
       "ViveEye_gazeDirection_L_Y     0.008844\n",
       "ViveEye_gazeDirection_L_Z     0.010344\n",
       "ViveEye_eyeOpenness_R         0.002424\n",
       "ViveEye_pupilDiameter_R       0.006644\n",
       "ViveEye_pupilPos_R_X          0.007304\n",
       "ViveEye_pupilPos_R_Y          0.006823\n",
       "ViveEye_gazeOrigin_R_X        0.003157\n",
       "ViveEye_gazeOrigin_R_Y       -0.036444\n",
       "ViveEye_gazeOrigin_R_Z        0.127010\n",
       "ViveEye_gazeDirection_R_X     0.008786\n",
       "ViveEye_gazeDirection_R_Y     0.009089\n",
       "ViveEye_gazeDirection_R_Z     0.009080\n",
       "Zephyr_HR                     0.083701\n",
       "Zephyr_HRV                    0.087134\n",
       "dtype: float64"
      ]
     },
     "execution_count": 69,
     "metadata": {},
     "output_type": "execute_result"
    }
   ],
   "source": [
    "(single_channelized.describe().loc['mean'] - single_baseline.describe().loc['mean'])/single_baseline.describe().loc['std']"
   ]
  },
  {
   "cell_type": "code",
   "execution_count": null,
   "metadata": {},
   "outputs": [],
   "source": []
  },
  {
   "cell_type": "code",
   "execution_count": null,
   "metadata": {},
   "outputs": [],
   "source": []
  },
  {
   "cell_type": "code",
   "execution_count": null,
   "metadata": {},
   "outputs": [],
   "source": []
  },
  {
   "cell_type": "code",
   "execution_count": null,
   "metadata": {},
   "outputs": [],
   "source": []
  },
  {
   "cell_type": "code",
   "execution_count": null,
   "metadata": {},
   "outputs": [],
   "source": []
  },
  {
   "cell_type": "markdown",
   "metadata": {},
   "source": [
    "## Create true future label on sample data"
   ]
  },
  {
   "cell_type": "code",
   "execution_count": null,
   "metadata": {},
   "outputs": [],
   "source": []
  },
  {
   "cell_type": "code",
   "execution_count": null,
   "metadata": {},
   "outputs": [],
   "source": []
  },
  {
   "cell_type": "markdown",
   "metadata": {},
   "source": [
    "### Preprocess"
   ]
  },
  {
   "cell_type": "code",
   "execution_count": 4,
   "metadata": {},
   "outputs": [],
   "source": [
    "def preprocess(df):\n",
    "    # replace  'induced_state'\n",
    "    df[\"induced_state\"] = df[\"induced_state\"].replace(category)\n",
    "    # set time as index\n",
    "    df.set_index('time', inplace=True)\n",
    "\n",
    "    # define drop cols \n",
    "    drop_cols = ['test_suite', 'induced_state'] #, 'tlx_score']\n",
    "\n",
    "    # split data into Train & Test\n",
    "    X = df.loc[:, [ c not in drop_cols for c in df.columns]]\n",
    "    Y = df['induced_state']\n",
    "    \n",
    "    return X, Y"
   ]
  },
  {
   "cell_type": "code",
   "execution_count": 36,
   "metadata": {},
   "outputs": [
    {
     "data": {
      "text/html": [
       "<div>\n",
       "<style scoped>\n",
       "    .dataframe tbody tr th:only-of-type {\n",
       "        vertical-align: middle;\n",
       "    }\n",
       "\n",
       "    .dataframe tbody tr th {\n",
       "        vertical-align: top;\n",
       "    }\n",
       "\n",
       "    .dataframe thead th {\n",
       "        text-align: right;\n",
       "    }\n",
       "</style>\n",
       "<table border=\"1\" class=\"dataframe\">\n",
       "  <thead>\n",
       "    <tr style=\"text-align: right;\">\n",
       "      <th></th>\n",
       "      <th>time</th>\n",
       "      <th>test_suite</th>\n",
       "      <th>induced_state</th>\n",
       "      <th>tlx_score</th>\n",
       "      <th>E4_BVP</th>\n",
       "      <th>E4_GSR</th>\n",
       "      <th>LooxidLink_EEG_A3</th>\n",
       "      <th>LooxidLink_EEG_A4</th>\n",
       "      <th>LooxidLink_EEG_FP1</th>\n",
       "      <th>LooxidLink_EEG_FP2</th>\n",
       "      <th>LooxidLink_EEG_A7</th>\n",
       "      <th>LooxidLink_EEG_A8</th>\n",
       "      <th>Muse_EEG_TP9</th>\n",
       "      <th>Muse_EEG_AF7</th>\n",
       "      <th>Muse_EEG_AF8</th>\n",
       "      <th>Muse_EEG_TP10</th>\n",
       "      <th>Muse_PPG_0</th>\n",
       "      <th>Muse_PPG_1</th>\n",
       "      <th>Muse_PPG_2</th>\n",
       "      <th>Myo_GYR_X</th>\n",
       "      <th>Myo_GYR_Y</th>\n",
       "      <th>Myo_GYR_Z</th>\n",
       "      <th>Myo_EMG_0</th>\n",
       "      <th>Myo_EMG_1</th>\n",
       "      <th>Myo_EMG_2</th>\n",
       "      <th>Myo_EMG_3</th>\n",
       "      <th>Myo_EMG_4</th>\n",
       "      <th>Myo_EMG_5</th>\n",
       "      <th>Myo_EMG_6</th>\n",
       "      <th>Myo_EMG_7</th>\n",
       "      <th>PICARD_fnirs_0</th>\n",
       "      <th>PICARD_fnirs_1</th>\n",
       "      <th>Polar_bpm</th>\n",
       "      <th>Polar_hrv</th>\n",
       "      <th>ViveEye_eyeOpenness_L</th>\n",
       "      <th>ViveEye_pupilDiameter_L</th>\n",
       "      <th>ViveEye_pupilPos_L_X</th>\n",
       "      <th>ViveEye_pupilPos_L_Y</th>\n",
       "      <th>ViveEye_gazeOrigin_L_X</th>\n",
       "      <th>ViveEye_gazeOrigin_L_Y</th>\n",
       "      <th>ViveEye_gazeOrigin_L_Z</th>\n",
       "      <th>ViveEye_gazeDirection_L_X</th>\n",
       "      <th>ViveEye_gazeDirection_L_Y</th>\n",
       "      <th>ViveEye_gazeDirection_L_Z</th>\n",
       "      <th>ViveEye_eyeOpenness_R</th>\n",
       "      <th>ViveEye_pupilDiameter_R</th>\n",
       "      <th>ViveEye_pupilPos_R_X</th>\n",
       "      <th>ViveEye_pupilPos_R_Y</th>\n",
       "      <th>ViveEye_gazeOrigin_R_X</th>\n",
       "      <th>ViveEye_gazeOrigin_R_Y</th>\n",
       "      <th>ViveEye_gazeOrigin_R_Z</th>\n",
       "      <th>ViveEye_gazeDirection_R_X</th>\n",
       "      <th>ViveEye_gazeDirection_R_Y</th>\n",
       "      <th>ViveEye_gazeDirection_R_Z</th>\n",
       "      <th>Zephyr_HR</th>\n",
       "      <th>Zephyr_HRV</th>\n",
       "    </tr>\n",
       "  </thead>\n",
       "  <tbody>\n",
       "    <tr>\n",
       "      <th>0</th>\n",
       "      <td>1626275540354390</td>\n",
       "      <td>Training-Test-038</td>\n",
       "      <td>baseline</td>\n",
       "      <td>10</td>\n",
       "      <td>-9999.900000</td>\n",
       "      <td>-9999.900000</td>\n",
       "      <td>-0.002007</td>\n",
       "      <td>-0.059057</td>\n",
       "      <td>0.030180</td>\n",
       "      <td>0.010290</td>\n",
       "      <td>0.072202</td>\n",
       "      <td>0.051781</td>\n",
       "      <td>-9999.9</td>\n",
       "      <td>-9999.9</td>\n",
       "      <td>-9999.9</td>\n",
       "      <td>-9999.9</td>\n",
       "      <td>-9999.9</td>\n",
       "      <td>-9999.9</td>\n",
       "      <td>-9999.9</td>\n",
       "      <td>-9999.900000</td>\n",
       "      <td>-9999.90000</td>\n",
       "      <td>-9999.900</td>\n",
       "      <td>-9999.9</td>\n",
       "      <td>-9999.9</td>\n",
       "      <td>-9999.9</td>\n",
       "      <td>-9999.9</td>\n",
       "      <td>-9999.9</td>\n",
       "      <td>-9999.9</td>\n",
       "      <td>-9999.9</td>\n",
       "      <td>-9999.9</td>\n",
       "      <td>-9999.9</td>\n",
       "      <td>-9999.9</td>\n",
       "      <td>-9999.9</td>\n",
       "      <td>-9999.9000</td>\n",
       "      <td>-9999.9</td>\n",
       "      <td>-9999.9</td>\n",
       "      <td>-9999.9</td>\n",
       "      <td>-9999.9</td>\n",
       "      <td>-9999.9000</td>\n",
       "      <td>-9999.90000</td>\n",
       "      <td>-9999.9000</td>\n",
       "      <td>-9999.9</td>\n",
       "      <td>-9999.9</td>\n",
       "      <td>-9999.9</td>\n",
       "      <td>-9999.9</td>\n",
       "      <td>-9999.90000</td>\n",
       "      <td>-9999.900000</td>\n",
       "      <td>-9999.900000</td>\n",
       "      <td>-9999.9000</td>\n",
       "      <td>-9999.90000</td>\n",
       "      <td>-9999.9000</td>\n",
       "      <td>-9999.900000</td>\n",
       "      <td>-9999.90000</td>\n",
       "      <td>-9999.900000</td>\n",
       "      <td>-9999.9</td>\n",
       "      <td>-9999.9</td>\n",
       "    </tr>\n",
       "    <tr>\n",
       "      <th>1</th>\n",
       "      <td>1626275540500599</td>\n",
       "      <td>Training-Test-038</td>\n",
       "      <td>baseline</td>\n",
       "      <td>10</td>\n",
       "      <td>-9999.900000</td>\n",
       "      <td>-9999.900000</td>\n",
       "      <td>-0.002007</td>\n",
       "      <td>-0.059079</td>\n",
       "      <td>0.030179</td>\n",
       "      <td>0.010289</td>\n",
       "      <td>0.072189</td>\n",
       "      <td>0.051773</td>\n",
       "      <td>-9999.9</td>\n",
       "      <td>-9999.9</td>\n",
       "      <td>-9999.9</td>\n",
       "      <td>-9999.9</td>\n",
       "      <td>-9999.9</td>\n",
       "      <td>-9999.9</td>\n",
       "      <td>-9999.9</td>\n",
       "      <td>0.753418</td>\n",
       "      <td>-8.74951</td>\n",
       "      <td>-14.877</td>\n",
       "      <td>-2.0</td>\n",
       "      <td>1.0</td>\n",
       "      <td>1.0</td>\n",
       "      <td>0.0</td>\n",
       "      <td>-1.0</td>\n",
       "      <td>-2.0</td>\n",
       "      <td>-3.0</td>\n",
       "      <td>0.0</td>\n",
       "      <td>3931.0</td>\n",
       "      <td>16752.0</td>\n",
       "      <td>-9999.9</td>\n",
       "      <td>-9999.9000</td>\n",
       "      <td>1.0</td>\n",
       "      <td>-1.0</td>\n",
       "      <td>-1.0</td>\n",
       "      <td>-1.0</td>\n",
       "      <td>34.4694</td>\n",
       "      <td>-8.68291</td>\n",
       "      <td>-35.2248</td>\n",
       "      <td>0.0</td>\n",
       "      <td>0.0</td>\n",
       "      <td>0.0</td>\n",
       "      <td>1.0</td>\n",
       "      <td>-1.00000</td>\n",
       "      <td>-1.000000</td>\n",
       "      <td>-1.000000</td>\n",
       "      <td>-27.2645</td>\n",
       "      <td>-7.50266</td>\n",
       "      <td>-37.9508</td>\n",
       "      <td>0.000000</td>\n",
       "      <td>0.00000</td>\n",
       "      <td>0.000000</td>\n",
       "      <td>-9999.9</td>\n",
       "      <td>-9999.9</td>\n",
       "    </tr>\n",
       "    <tr>\n",
       "      <th>2</th>\n",
       "      <td>1626275541501825</td>\n",
       "      <td>Training-Test-038</td>\n",
       "      <td>baseline</td>\n",
       "      <td>10</td>\n",
       "      <td>-21.185060</td>\n",
       "      <td>7.358181</td>\n",
       "      <td>-0.002018</td>\n",
       "      <td>-0.059191</td>\n",
       "      <td>0.030173</td>\n",
       "      <td>0.010314</td>\n",
       "      <td>0.072199</td>\n",
       "      <td>0.051720</td>\n",
       "      <td>-9999.9</td>\n",
       "      <td>-9999.9</td>\n",
       "      <td>-9999.9</td>\n",
       "      <td>-9999.9</td>\n",
       "      <td>-9999.9</td>\n",
       "      <td>-9999.9</td>\n",
       "      <td>-9999.9</td>\n",
       "      <td>-1.997070</td>\n",
       "      <td>-6.74951</td>\n",
       "      <td>-15.002</td>\n",
       "      <td>-1.0</td>\n",
       "      <td>0.0</td>\n",
       "      <td>-1.0</td>\n",
       "      <td>-1.0</td>\n",
       "      <td>0.0</td>\n",
       "      <td>3.0</td>\n",
       "      <td>1.0</td>\n",
       "      <td>0.0</td>\n",
       "      <td>4483.0</td>\n",
       "      <td>16331.0</td>\n",
       "      <td>106.0</td>\n",
       "      <td>17.3323</td>\n",
       "      <td>0.0</td>\n",
       "      <td>-1.0</td>\n",
       "      <td>-1.0</td>\n",
       "      <td>-1.0</td>\n",
       "      <td>34.4694</td>\n",
       "      <td>-8.68291</td>\n",
       "      <td>-35.2248</td>\n",
       "      <td>0.0</td>\n",
       "      <td>0.0</td>\n",
       "      <td>0.0</td>\n",
       "      <td>0.0</td>\n",
       "      <td>4.78511</td>\n",
       "      <td>0.274257</td>\n",
       "      <td>0.938343</td>\n",
       "      <td>-27.1029</td>\n",
       "      <td>-7.38116</td>\n",
       "      <td>-37.9733</td>\n",
       "      <td>0.334305</td>\n",
       "      <td>0.16777</td>\n",
       "      <td>0.927399</td>\n",
       "      <td>102.0</td>\n",
       "      <td>26.0</td>\n",
       "    </tr>\n",
       "    <tr>\n",
       "      <th>3</th>\n",
       "      <td>1626275542501052</td>\n",
       "      <td>Training-Test-038</td>\n",
       "      <td>baseline</td>\n",
       "      <td>10</td>\n",
       "      <td>-3.672516</td>\n",
       "      <td>7.358181</td>\n",
       "      <td>-0.002375</td>\n",
       "      <td>-0.058885</td>\n",
       "      <td>0.030056</td>\n",
       "      <td>0.010255</td>\n",
       "      <td>0.072125</td>\n",
       "      <td>0.051569</td>\n",
       "      <td>-9999.9</td>\n",
       "      <td>-9999.9</td>\n",
       "      <td>-9999.9</td>\n",
       "      <td>-9999.9</td>\n",
       "      <td>-9999.9</td>\n",
       "      <td>-9999.9</td>\n",
       "      <td>-9999.9</td>\n",
       "      <td>-2.122070</td>\n",
       "      <td>-3.99951</td>\n",
       "      <td>14.373</td>\n",
       "      <td>0.0</td>\n",
       "      <td>1.0</td>\n",
       "      <td>-2.0</td>\n",
       "      <td>-1.0</td>\n",
       "      <td>-2.0</td>\n",
       "      <td>-1.0</td>\n",
       "      <td>-2.0</td>\n",
       "      <td>-1.0</td>\n",
       "      <td>4247.0</td>\n",
       "      <td>16329.0</td>\n",
       "      <td>106.0</td>\n",
       "      <td>17.3136</td>\n",
       "      <td>1.0</td>\n",
       "      <td>-1.0</td>\n",
       "      <td>-1.0</td>\n",
       "      <td>-1.0</td>\n",
       "      <td>34.4694</td>\n",
       "      <td>-8.68291</td>\n",
       "      <td>-35.2248</td>\n",
       "      <td>0.0</td>\n",
       "      <td>0.0</td>\n",
       "      <td>0.0</td>\n",
       "      <td>1.0</td>\n",
       "      <td>-1.00000</td>\n",
       "      <td>-1.000000</td>\n",
       "      <td>-1.000000</td>\n",
       "      <td>-27.2440</td>\n",
       "      <td>-7.43414</td>\n",
       "      <td>-37.9404</td>\n",
       "      <td>0.000000</td>\n",
       "      <td>0.00000</td>\n",
       "      <td>0.000000</td>\n",
       "      <td>100.0</td>\n",
       "      <td>26.0</td>\n",
       "    </tr>\n",
       "    <tr>\n",
       "      <th>4</th>\n",
       "      <td>1626275543500284</td>\n",
       "      <td>Training-Test-038</td>\n",
       "      <td>baseline</td>\n",
       "      <td>10</td>\n",
       "      <td>1.859863</td>\n",
       "      <td>7.358181</td>\n",
       "      <td>-0.002526</td>\n",
       "      <td>-0.058668</td>\n",
       "      <td>0.030026</td>\n",
       "      <td>0.010284</td>\n",
       "      <td>0.072184</td>\n",
       "      <td>0.051425</td>\n",
       "      <td>-9999.9</td>\n",
       "      <td>-9999.9</td>\n",
       "      <td>-9999.9</td>\n",
       "      <td>-9999.9</td>\n",
       "      <td>-9999.9</td>\n",
       "      <td>-9999.9</td>\n",
       "      <td>-9999.9</td>\n",
       "      <td>-0.622070</td>\n",
       "      <td>-6.37451</td>\n",
       "      <td>-14.377</td>\n",
       "      <td>-2.0</td>\n",
       "      <td>0.0</td>\n",
       "      <td>-1.0</td>\n",
       "      <td>0.0</td>\n",
       "      <td>-1.0</td>\n",
       "      <td>0.0</td>\n",
       "      <td>-1.0</td>\n",
       "      <td>0.0</td>\n",
       "      <td>4320.0</td>\n",
       "      <td>17036.0</td>\n",
       "      <td>107.0</td>\n",
       "      <td>16.8914</td>\n",
       "      <td>1.0</td>\n",
       "      <td>-1.0</td>\n",
       "      <td>-1.0</td>\n",
       "      <td>-1.0</td>\n",
       "      <td>34.4694</td>\n",
       "      <td>-8.68291</td>\n",
       "      <td>-35.2248</td>\n",
       "      <td>0.0</td>\n",
       "      <td>0.0</td>\n",
       "      <td>0.0</td>\n",
       "      <td>1.0</td>\n",
       "      <td>-1.00000</td>\n",
       "      <td>-1.000000</td>\n",
       "      <td>-1.000000</td>\n",
       "      <td>-27.0874</td>\n",
       "      <td>-7.92627</td>\n",
       "      <td>-38.2178</td>\n",
       "      <td>0.000000</td>\n",
       "      <td>0.00000</td>\n",
       "      <td>0.000000</td>\n",
       "      <td>102.0</td>\n",
       "      <td>26.0</td>\n",
       "    </tr>\n",
       "  </tbody>\n",
       "</table>\n",
       "</div>"
      ],
      "text/plain": [
       "               time         test_suite induced_state  tlx_score       E4_BVP  \\\n",
       "0  1626275540354390  Training-Test-038      baseline         10 -9999.900000   \n",
       "1  1626275540500599  Training-Test-038      baseline         10 -9999.900000   \n",
       "2  1626275541501825  Training-Test-038      baseline         10   -21.185060   \n",
       "3  1626275542501052  Training-Test-038      baseline         10    -3.672516   \n",
       "4  1626275543500284  Training-Test-038      baseline         10     1.859863   \n",
       "\n",
       "        E4_GSR  LooxidLink_EEG_A3  LooxidLink_EEG_A4  LooxidLink_EEG_FP1  \\\n",
       "0 -9999.900000          -0.002007          -0.059057            0.030180   \n",
       "1 -9999.900000          -0.002007          -0.059079            0.030179   \n",
       "2     7.358181          -0.002018          -0.059191            0.030173   \n",
       "3     7.358181          -0.002375          -0.058885            0.030056   \n",
       "4     7.358181          -0.002526          -0.058668            0.030026   \n",
       "\n",
       "   LooxidLink_EEG_FP2  LooxidLink_EEG_A7  LooxidLink_EEG_A8  Muse_EEG_TP9  \\\n",
       "0            0.010290           0.072202           0.051781       -9999.9   \n",
       "1            0.010289           0.072189           0.051773       -9999.9   \n",
       "2            0.010314           0.072199           0.051720       -9999.9   \n",
       "3            0.010255           0.072125           0.051569       -9999.9   \n",
       "4            0.010284           0.072184           0.051425       -9999.9   \n",
       "\n",
       "   Muse_EEG_AF7  Muse_EEG_AF8  Muse_EEG_TP10  Muse_PPG_0  Muse_PPG_1  \\\n",
       "0       -9999.9       -9999.9        -9999.9     -9999.9     -9999.9   \n",
       "1       -9999.9       -9999.9        -9999.9     -9999.9     -9999.9   \n",
       "2       -9999.9       -9999.9        -9999.9     -9999.9     -9999.9   \n",
       "3       -9999.9       -9999.9        -9999.9     -9999.9     -9999.9   \n",
       "4       -9999.9       -9999.9        -9999.9     -9999.9     -9999.9   \n",
       "\n",
       "   Muse_PPG_2    Myo_GYR_X   Myo_GYR_Y  Myo_GYR_Z  Myo_EMG_0  Myo_EMG_1  \\\n",
       "0     -9999.9 -9999.900000 -9999.90000  -9999.900    -9999.9    -9999.9   \n",
       "1     -9999.9     0.753418    -8.74951    -14.877       -2.0        1.0   \n",
       "2     -9999.9    -1.997070    -6.74951    -15.002       -1.0        0.0   \n",
       "3     -9999.9    -2.122070    -3.99951     14.373        0.0        1.0   \n",
       "4     -9999.9    -0.622070    -6.37451    -14.377       -2.0        0.0   \n",
       "\n",
       "   Myo_EMG_2  Myo_EMG_3  Myo_EMG_4  Myo_EMG_5  Myo_EMG_6  Myo_EMG_7  \\\n",
       "0    -9999.9    -9999.9    -9999.9    -9999.9    -9999.9    -9999.9   \n",
       "1        1.0        0.0       -1.0       -2.0       -3.0        0.0   \n",
       "2       -1.0       -1.0        0.0        3.0        1.0        0.0   \n",
       "3       -2.0       -1.0       -2.0       -1.0       -2.0       -1.0   \n",
       "4       -1.0        0.0       -1.0        0.0       -1.0        0.0   \n",
       "\n",
       "   PICARD_fnirs_0  PICARD_fnirs_1  Polar_bpm  Polar_hrv  \\\n",
       "0         -9999.9         -9999.9    -9999.9 -9999.9000   \n",
       "1          3931.0         16752.0    -9999.9 -9999.9000   \n",
       "2          4483.0         16331.0      106.0    17.3323   \n",
       "3          4247.0         16329.0      106.0    17.3136   \n",
       "4          4320.0         17036.0      107.0    16.8914   \n",
       "\n",
       "   ViveEye_eyeOpenness_L  ViveEye_pupilDiameter_L  ViveEye_pupilPos_L_X  \\\n",
       "0                -9999.9                  -9999.9               -9999.9   \n",
       "1                    1.0                     -1.0                  -1.0   \n",
       "2                    0.0                     -1.0                  -1.0   \n",
       "3                    1.0                     -1.0                  -1.0   \n",
       "4                    1.0                     -1.0                  -1.0   \n",
       "\n",
       "   ViveEye_pupilPos_L_Y  ViveEye_gazeOrigin_L_X  ViveEye_gazeOrigin_L_Y  \\\n",
       "0               -9999.9              -9999.9000             -9999.90000   \n",
       "1                  -1.0                 34.4694                -8.68291   \n",
       "2                  -1.0                 34.4694                -8.68291   \n",
       "3                  -1.0                 34.4694                -8.68291   \n",
       "4                  -1.0                 34.4694                -8.68291   \n",
       "\n",
       "   ViveEye_gazeOrigin_L_Z  ViveEye_gazeDirection_L_X  \\\n",
       "0              -9999.9000                    -9999.9   \n",
       "1                -35.2248                        0.0   \n",
       "2                -35.2248                        0.0   \n",
       "3                -35.2248                        0.0   \n",
       "4                -35.2248                        0.0   \n",
       "\n",
       "   ViveEye_gazeDirection_L_Y  ViveEye_gazeDirection_L_Z  \\\n",
       "0                    -9999.9                    -9999.9   \n",
       "1                        0.0                        0.0   \n",
       "2                        0.0                        0.0   \n",
       "3                        0.0                        0.0   \n",
       "4                        0.0                        0.0   \n",
       "\n",
       "   ViveEye_eyeOpenness_R  ViveEye_pupilDiameter_R  ViveEye_pupilPos_R_X  \\\n",
       "0                -9999.9              -9999.90000          -9999.900000   \n",
       "1                    1.0                 -1.00000             -1.000000   \n",
       "2                    0.0                  4.78511              0.274257   \n",
       "3                    1.0                 -1.00000             -1.000000   \n",
       "4                    1.0                 -1.00000             -1.000000   \n",
       "\n",
       "   ViveEye_pupilPos_R_Y  ViveEye_gazeOrigin_R_X  ViveEye_gazeOrigin_R_Y  \\\n",
       "0          -9999.900000              -9999.9000             -9999.90000   \n",
       "1             -1.000000                -27.2645                -7.50266   \n",
       "2              0.938343                -27.1029                -7.38116   \n",
       "3             -1.000000                -27.2440                -7.43414   \n",
       "4             -1.000000                -27.0874                -7.92627   \n",
       "\n",
       "   ViveEye_gazeOrigin_R_Z  ViveEye_gazeDirection_R_X  \\\n",
       "0              -9999.9000               -9999.900000   \n",
       "1                -37.9508                   0.000000   \n",
       "2                -37.9733                   0.334305   \n",
       "3                -37.9404                   0.000000   \n",
       "4                -38.2178                   0.000000   \n",
       "\n",
       "   ViveEye_gazeDirection_R_Y  ViveEye_gazeDirection_R_Z  Zephyr_HR  Zephyr_HRV  \n",
       "0                -9999.90000               -9999.900000    -9999.9     -9999.9  \n",
       "1                    0.00000                   0.000000    -9999.9     -9999.9  \n",
       "2                    0.16777                   0.927399      102.0        26.0  \n",
       "3                    0.00000                   0.000000      100.0        26.0  \n",
       "4                    0.00000                   0.000000      102.0        26.0  "
      ]
     },
     "execution_count": 36,
     "metadata": {},
     "output_type": "execute_result"
    }
   ],
   "source": [
    "sample_data.head()"
   ]
  },
  {
   "cell_type": "code",
   "execution_count": 37,
   "metadata": {},
   "outputs": [
    {
     "data": {
      "text/plain": [
       "True"
      ]
     },
     "execution_count": 37,
     "metadata": {},
     "output_type": "execute_result"
    }
   ],
   "source": [
    "sample_data.time.is_monotonic_increasing"
   ]
  },
  {
   "cell_type": "code",
   "execution_count": 44,
   "metadata": {},
   "outputs": [
    {
     "data": {
      "text/plain": [
       "20314    5.700000e+02\n",
       "374      2.000000e+03\n",
       "13448    6.009000e+03\n",
       "22665    6.399000e+03\n",
       "19238    6.683000e+03\n",
       "             ...     \n",
       "22327    8.608332e+11\n",
       "28085    1.220938e+12\n",
       "23694    1.302633e+12\n",
       "28874    2.504075e+12\n",
       "0                 NaN\n",
       "Name: time, Length: 31123, dtype: float64"
      ]
     },
     "execution_count": 44,
     "metadata": {},
     "output_type": "execute_result"
    }
   ],
   "source": [
    "sample_data.time.diff().sort_values()"
   ]
  },
  {
   "cell_type": "code",
   "execution_count": 3,
   "metadata": {},
   "outputs": [],
   "source": [
    "time_df = pd.read_csv(TRAIN_PATH, usecols=['time'])"
   ]
  },
  {
   "cell_type": "code",
   "execution_count": 9,
   "metadata": {},
   "outputs": [
    {
     "data": {
      "text/plain": [
       "False"
      ]
     },
     "execution_count": 9,
     "metadata": {},
     "output_type": "execute_result"
    }
   ],
   "source": [
    "time_df.time.is_monotonic_increasing"
   ]
  },
  {
   "cell_type": "code",
   "execution_count": 8,
   "metadata": {},
   "outputs": [],
   "source": [
    "time_df.time[3] = time_df.time[0]"
   ]
  },
  {
   "cell_type": "code",
   "execution_count": 1,
   "metadata": {},
   "outputs": [
    {
     "ename": "NameError",
     "evalue": "name 'time_df' is not defined",
     "output_type": "error",
     "traceback": [
      "\u001b[0;31m---------------------------------------------------------------------------\u001b[0m",
      "\u001b[0;31mNameError\u001b[0m                                 Traceback (most recent call last)",
      "\u001b[0;32m<ipython-input-1-f66b907735b1>\u001b[0m in \u001b[0;36m<module>\u001b[0;34m\u001b[0m\n\u001b[0;32m----> 1\u001b[0;31m \u001b[0mtime_df\u001b[0m\u001b[0;34m.\u001b[0m\u001b[0mshape\u001b[0m\u001b[0;34m\u001b[0m\u001b[0;34m\u001b[0m\u001b[0m\n\u001b[0m",
      "\u001b[0;31mNameError\u001b[0m: name 'time_df' is not defined"
     ]
    }
   ],
   "source": [
    "time_df.shape"
   ]
  },
  {
   "cell_type": "code",
   "execution_count": null,
   "metadata": {},
   "outputs": [],
   "source": []
  }
 ],
 "metadata": {
  "kernelspec": {
   "display_name": "Python 3",
   "language": "python",
   "name": "python3"
  },
  "language_info": {
   "codemirror_mode": {
    "name": "ipython",
    "version": 3
   },
   "file_extension": ".py",
   "mimetype": "text/x-python",
   "name": "python",
   "nbconvert_exporter": "python",
   "pygments_lexer": "ipython3",
   "version": "3.8.5"
  }
 },
 "nbformat": 4,
 "nbformat_minor": 4
}
