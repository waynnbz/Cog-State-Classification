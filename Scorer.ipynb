{
 "cells": [
  {
   "cell_type": "code",
   "execution_count": 2,
   "metadata": {},
   "outputs": [],
   "source": [
    "import pandas as pd\n",
    "import numpy as np\n",
    "\n",
    "import datetime"
   ]
  },
  {
   "cell_type": "markdown",
   "metadata": {},
   "source": [
    "### Config"
   ]
  },
  {
   "cell_type": "code",
   "execution_count": 3,
   "metadata": {},
   "outputs": [],
   "source": [
    "# DATA PATHS\n",
    "TRAIN_PATH = 'data/data_training.csv'\n",
    "PROV_PATH = 'data/data_provisional.csv'\n",
    "SAMPLE_PATH = 'data/sample-data.csv'\n",
    "# OUTPUT PATHS\n",
    "OUTPUT_PATH = 'submissions/output/'\n",
    "\n",
    "# Sample Data Paths\n",
    "S_TRAIN = 'sample-submission/code/data/training.csv'\n",
    "S_TEST = 'sample-submission/code/data/testing.csv'\n",
    "S_SOL = 'sample-submission/solution/solution.csv'\n",
    "\n",
    "category = {'low':0, 'medium':1, 'high':2, 'baseline':3, 'channelized':4, 'surprise':5}\n",
    "rev_category = { v:k for k,v in category.items()}\n",
    "output_header = ['timestamp', 'test_suite', 'predicted_induced_state',\n",
    "       'three_sec_predicted_induced_state',\n",
    "       'predicted_induced_state_confidence',\n",
    "       'three_sec_predicted_induced_state_confidence', 'top_three_features']"
   ]
  },
  {
   "cell_type": "code",
   "execution_count": null,
   "metadata": {},
   "outputs": [],
   "source": []
  },
  {
   "cell_type": "code",
   "execution_count": 4,
   "metadata": {},
   "outputs": [],
   "source": [
    "sample_sub = pd.read_csv('sample-submission/solution/solution.csv')\n",
    "sample_test = pd.read_csv('sample-submission/code/data/testing.csv')"
   ]
  },
  {
   "cell_type": "code",
   "execution_count": null,
   "metadata": {},
   "outputs": [],
   "source": [
    "sample_test"
   ]
  },
  {
   "cell_type": "code",
   "execution_count": 15,
   "metadata": {},
   "outputs": [],
   "source": [
    "df = sample_test.copy()\n",
    "df['timestamp'] = pd.to_numeric(df['time'])\n",
    "df['timestamp'] = df['timestamp'].apply(lambda x: datetime.datetime.fromtimestamp(x/1000000))\n",
    "df['timestamp'] = df['timestamp'].dt.round('1s')\n",
    "df['timestamp'] = df['timestamp'].apply(lambda x: int(datetime.datetime.timestamp(x)*1000000))\n",
    "cols = df.columns.tolist()\n",
    "cols = cols[-1:] + cols[:-1]\n",
    "df = df[cols]\n"
   ]
  },
  {
   "cell_type": "code",
   "execution_count": 13,
   "metadata": {},
   "outputs": [
    {
     "data": {
      "text/html": [
       "<div>\n",
       "<style scoped>\n",
       "    .dataframe tbody tr th:only-of-type {\n",
       "        vertical-align: middle;\n",
       "    }\n",
       "\n",
       "    .dataframe tbody tr th {\n",
       "        vertical-align: top;\n",
       "    }\n",
       "\n",
       "    .dataframe thead th {\n",
       "        text-align: right;\n",
       "    }\n",
       "</style>\n",
       "<table border=\"1\" class=\"dataframe\">\n",
       "  <thead>\n",
       "    <tr style=\"text-align: right;\">\n",
       "      <th></th>\n",
       "      <th>time</th>\n",
       "      <th>test_suite</th>\n",
       "      <th>tlx_score</th>\n",
       "      <th>E4_BVP</th>\n",
       "      <th>E4_GSR</th>\n",
       "      <th>LooxidLink_EEG_A3</th>\n",
       "      <th>LooxidLink_EEG_A4</th>\n",
       "      <th>LooxidLink_EEG_FP1</th>\n",
       "      <th>LooxidLink_EEG_FP2</th>\n",
       "      <th>LooxidLink_EEG_A7</th>\n",
       "      <th>...</th>\n",
       "      <th>ViveEye_pupilPos_R_Y</th>\n",
       "      <th>ViveEye_gazeOrigin_R_X</th>\n",
       "      <th>ViveEye_gazeOrigin_R_Y</th>\n",
       "      <th>ViveEye_gazeOrigin_R_Z</th>\n",
       "      <th>ViveEye_gazeDirection_R_X</th>\n",
       "      <th>ViveEye_gazeDirection_R_Y</th>\n",
       "      <th>ViveEye_gazeDirection_R_Z</th>\n",
       "      <th>Zephyr_HR</th>\n",
       "      <th>Zephyr_HRV</th>\n",
       "      <th>timestamp</th>\n",
       "    </tr>\n",
       "  </thead>\n",
       "  <tbody>\n",
       "    <tr>\n",
       "      <th>0</th>\n",
       "      <td>1626275615977130</td>\n",
       "      <td>Provisional-Test-025</td>\n",
       "      <td>10</td>\n",
       "      <td>17.03023</td>\n",
       "      <td>6.185013</td>\n",
       "      <td>-0.004482</td>\n",
       "      <td>-0.055402</td>\n",
       "      <td>0.031834</td>\n",
       "      <td>0.015929</td>\n",
       "      <td>0.076924</td>\n",
       "      <td>...</td>\n",
       "      <td>-1.0</td>\n",
       "      <td>-26.5375</td>\n",
       "      <td>-6.44585</td>\n",
       "      <td>-39.1862</td>\n",
       "      <td>0.0</td>\n",
       "      <td>0.0</td>\n",
       "      <td>0.0</td>\n",
       "      <td>105.0</td>\n",
       "      <td>20.0</td>\n",
       "      <td>1626275616000000</td>\n",
       "    </tr>\n",
       "    <tr>\n",
       "      <th>1</th>\n",
       "      <td>1626275616500321</td>\n",
       "      <td>Provisional-Test-025</td>\n",
       "      <td>10</td>\n",
       "      <td>-65.02724</td>\n",
       "      <td>6.195257</td>\n",
       "      <td>-0.004500</td>\n",
       "      <td>-0.055253</td>\n",
       "      <td>0.031860</td>\n",
       "      <td>0.015987</td>\n",
       "      <td>0.076948</td>\n",
       "      <td>...</td>\n",
       "      <td>-1.0</td>\n",
       "      <td>-27.4503</td>\n",
       "      <td>-6.37874</td>\n",
       "      <td>-39.1532</td>\n",
       "      <td>0.0</td>\n",
       "      <td>0.0</td>\n",
       "      <td>0.0</td>\n",
       "      <td>105.0</td>\n",
       "      <td>20.0</td>\n",
       "      <td>1626275617000000</td>\n",
       "    </tr>\n",
       "  </tbody>\n",
       "</table>\n",
       "<p>2 rows × 56 columns</p>\n",
       "</div>"
      ],
      "text/plain": [
       "               time            test_suite  tlx_score    E4_BVP    E4_GSR  \\\n",
       "0  1626275615977130  Provisional-Test-025         10  17.03023  6.185013   \n",
       "1  1626275616500321  Provisional-Test-025         10 -65.02724  6.195257   \n",
       "\n",
       "   LooxidLink_EEG_A3  LooxidLink_EEG_A4  LooxidLink_EEG_FP1  \\\n",
       "0          -0.004482          -0.055402            0.031834   \n",
       "1          -0.004500          -0.055253            0.031860   \n",
       "\n",
       "   LooxidLink_EEG_FP2  LooxidLink_EEG_A7  ...  ViveEye_pupilPos_R_Y  \\\n",
       "0            0.015929           0.076924  ...                  -1.0   \n",
       "1            0.015987           0.076948  ...                  -1.0   \n",
       "\n",
       "   ViveEye_gazeOrigin_R_X  ViveEye_gazeOrigin_R_Y  ViveEye_gazeOrigin_R_Z  \\\n",
       "0                -26.5375                -6.44585                -39.1862   \n",
       "1                -27.4503                -6.37874                -39.1532   \n",
       "\n",
       "   ViveEye_gazeDirection_R_X  ViveEye_gazeDirection_R_Y  \\\n",
       "0                        0.0                        0.0   \n",
       "1                        0.0                        0.0   \n",
       "\n",
       "   ViveEye_gazeDirection_R_Z  Zephyr_HR  Zephyr_HRV         timestamp  \n",
       "0                        0.0      105.0        20.0  1626275616000000  \n",
       "1                        0.0      105.0        20.0  1626275617000000  \n",
       "\n",
       "[2 rows x 56 columns]"
      ]
     },
     "execution_count": 13,
     "metadata": {},
     "output_type": "execute_result"
    }
   ],
   "source": [
    "df.head(2)"
   ]
  },
  {
   "cell_type": "code",
   "execution_count": 14,
   "metadata": {},
   "outputs": [
    {
     "data": {
      "text/html": [
       "<div>\n",
       "<style scoped>\n",
       "    .dataframe tbody tr th:only-of-type {\n",
       "        vertical-align: middle;\n",
       "    }\n",
       "\n",
       "    .dataframe tbody tr th {\n",
       "        vertical-align: top;\n",
       "    }\n",
       "\n",
       "    .dataframe thead th {\n",
       "        text-align: right;\n",
       "    }\n",
       "</style>\n",
       "<table border=\"1\" class=\"dataframe\">\n",
       "  <thead>\n",
       "    <tr style=\"text-align: right;\">\n",
       "      <th></th>\n",
       "      <th>timestamp</th>\n",
       "      <th>time</th>\n",
       "      <th>test_suite</th>\n",
       "      <th>tlx_score</th>\n",
       "      <th>E4_BVP</th>\n",
       "      <th>E4_GSR</th>\n",
       "      <th>LooxidLink_EEG_A3</th>\n",
       "      <th>LooxidLink_EEG_A4</th>\n",
       "      <th>LooxidLink_EEG_FP1</th>\n",
       "      <th>LooxidLink_EEG_FP2</th>\n",
       "      <th>...</th>\n",
       "      <th>ViveEye_pupilPos_R_X</th>\n",
       "      <th>ViveEye_pupilPos_R_Y</th>\n",
       "      <th>ViveEye_gazeOrigin_R_X</th>\n",
       "      <th>ViveEye_gazeOrigin_R_Y</th>\n",
       "      <th>ViveEye_gazeOrigin_R_Z</th>\n",
       "      <th>ViveEye_gazeDirection_R_X</th>\n",
       "      <th>ViveEye_gazeDirection_R_Y</th>\n",
       "      <th>ViveEye_gazeDirection_R_Z</th>\n",
       "      <th>Zephyr_HR</th>\n",
       "      <th>Zephyr_HRV</th>\n",
       "    </tr>\n",
       "  </thead>\n",
       "  <tbody>\n",
       "    <tr>\n",
       "      <th>0</th>\n",
       "      <td>1626275616000000</td>\n",
       "      <td>1626275615977130</td>\n",
       "      <td>Provisional-Test-025</td>\n",
       "      <td>10</td>\n",
       "      <td>17.03023</td>\n",
       "      <td>6.185013</td>\n",
       "      <td>-0.004482</td>\n",
       "      <td>-0.055402</td>\n",
       "      <td>0.031834</td>\n",
       "      <td>0.015929</td>\n",
       "      <td>...</td>\n",
       "      <td>-1.0</td>\n",
       "      <td>-1.0</td>\n",
       "      <td>-26.5375</td>\n",
       "      <td>-6.44585</td>\n",
       "      <td>-39.1862</td>\n",
       "      <td>0.0</td>\n",
       "      <td>0.0</td>\n",
       "      <td>0.0</td>\n",
       "      <td>105.0</td>\n",
       "      <td>20.0</td>\n",
       "    </tr>\n",
       "    <tr>\n",
       "      <th>1</th>\n",
       "      <td>1626275617000000</td>\n",
       "      <td>1626275616500321</td>\n",
       "      <td>Provisional-Test-025</td>\n",
       "      <td>10</td>\n",
       "      <td>-65.02724</td>\n",
       "      <td>6.195257</td>\n",
       "      <td>-0.004500</td>\n",
       "      <td>-0.055253</td>\n",
       "      <td>0.031860</td>\n",
       "      <td>0.015987</td>\n",
       "      <td>...</td>\n",
       "      <td>-1.0</td>\n",
       "      <td>-1.0</td>\n",
       "      <td>-27.4503</td>\n",
       "      <td>-6.37874</td>\n",
       "      <td>-39.1532</td>\n",
       "      <td>0.0</td>\n",
       "      <td>0.0</td>\n",
       "      <td>0.0</td>\n",
       "      <td>105.0</td>\n",
       "      <td>20.0</td>\n",
       "    </tr>\n",
       "  </tbody>\n",
       "</table>\n",
       "<p>2 rows × 56 columns</p>\n",
       "</div>"
      ],
      "text/plain": [
       "          timestamp              time            test_suite  tlx_score  \\\n",
       "0  1626275616000000  1626275615977130  Provisional-Test-025         10   \n",
       "1  1626275617000000  1626275616500321  Provisional-Test-025         10   \n",
       "\n",
       "     E4_BVP    E4_GSR  LooxidLink_EEG_A3  LooxidLink_EEG_A4  \\\n",
       "0  17.03023  6.185013          -0.004482          -0.055402   \n",
       "1 -65.02724  6.195257          -0.004500          -0.055253   \n",
       "\n",
       "   LooxidLink_EEG_FP1  LooxidLink_EEG_FP2  ...  ViveEye_pupilPos_R_X  \\\n",
       "0            0.031834            0.015929  ...                  -1.0   \n",
       "1            0.031860            0.015987  ...                  -1.0   \n",
       "\n",
       "   ViveEye_pupilPos_R_Y  ViveEye_gazeOrigin_R_X  ViveEye_gazeOrigin_R_Y  \\\n",
       "0                  -1.0                -26.5375                -6.44585   \n",
       "1                  -1.0                -27.4503                -6.37874   \n",
       "\n",
       "   ViveEye_gazeOrigin_R_Z  ViveEye_gazeDirection_R_X  \\\n",
       "0                -39.1862                        0.0   \n",
       "1                -39.1532                        0.0   \n",
       "\n",
       "   ViveEye_gazeDirection_R_Y  ViveEye_gazeDirection_R_Z  Zephyr_HR  Zephyr_HRV  \n",
       "0                        0.0                        0.0      105.0        20.0  \n",
       "1                        0.0                        0.0      105.0        20.0  \n",
       "\n",
       "[2 rows x 56 columns]"
      ]
     },
     "execution_count": 14,
     "metadata": {},
     "output_type": "execute_result"
    }
   ],
   "source": [
    "df[cols].head(2)"
   ]
  },
  {
   "cell_type": "code",
   "execution_count": null,
   "metadata": {},
   "outputs": [],
   "source": []
  },
  {
   "cell_type": "code",
   "execution_count": null,
   "metadata": {},
   "outputs": [],
   "source": []
  },
  {
   "cell_type": "code",
   "execution_count": null,
   "metadata": {},
   "outputs": [],
   "source": []
  },
  {
   "cell_type": "code",
   "execution_count": 3,
   "metadata": {},
   "outputs": [],
   "source": [
    "category = {'low':0, 'medium':1, 'high':2, 'baseline':3, 'channelized':4, 'surprise':5}\n",
    "states = ['low', 'medium', 'high', 'baseline', 'channelized', 'surprise']\n",
    "features = ['E4_BVP', 'E4_GSR', 'LooxidLink_EEG_A3', 'LooxidLink_EEG_A4', 'LooxidLink_EEG_FP1', 'LooxidLink_EEG_FP2',\n",
    "                    'LooxidLink_EEG_A7', 'LooxidLink_EEG_A8', 'Muse_EEG_TP9', 'Muse_EEG_AF7', 'Muse_EEG_AF8', 'Muse_EEG_TP10',\n",
    "                    'Muse_PPG_0', 'Muse_PPG_1', 'Muse_PPG_2', 'Myo_GYR_X', 'Myo_GYR_Y', 'Myo_GYR_Z', 'Myo_EMG_0', 'Myo_EMG_1',\n",
    "                    'Myo_EMG_2', 'Myo_EMG_3', 'Myo_EMG_4', 'Myo_EMG_5', 'Myo_EMG_6', 'Myo_EMG_7', 'PICARD_fnirs_0', 'PICARD_fnirs_1',\n",
    "                    'Polar_bpm', 'Polar_hrv', 'ViveEye_eyeOpenness_L', 'ViveEye_pupilDiameter_L', 'ViveEye_pupilPos_L_X',\n",
    "                    'ViveEye_pupilPos_L_Y', 'ViveEye_gazeOrigin_L_X', 'ViveEye_gazeOrigin_L_Y', 'ViveEye_gazeOrigin_L_Z',\n",
    "                    'ViveEye_gazeDirection_L_X', 'ViveEye_gazeDirection_L_Y', 'ViveEye_gazeDirection_L_Z', 'ViveEye_eyeOpenness_R',\n",
    "                    'ViveEye_pupilDiameter_R', 'ViveEye_pupilPos_R_X', 'ViveEye_pupilPos_R_Y', 'ViveEye_gazeOrigin_R_X',\n",
    "                    'ViveEye_gazeOrigin_R_Y', 'ViveEye_gazeOrigin_R_Z', 'ViveEye_gazeDirection_R_X', 'ViveEye_gazeDirection_R_Y',\n",
    "                    'ViveEye_gazeDirection_R_Z', 'Zephyr_HR', 'Zephyr_HRV']\n"
   ]
  },
  {
   "cell_type": "code",
   "execution_count": null,
   "metadata": {},
   "outputs": [],
   "source": []
  },
  {
   "cell_type": "code",
   "execution_count": 4,
   "metadata": {},
   "outputs": [],
   "source": [
    "sub = submission.copy()"
   ]
  },
  {
   "cell_type": "code",
   "execution_count": 5,
   "metadata": {},
   "outputs": [],
   "source": [
    "sub = sub.drop_duplicates()\n",
    "sub = sub.reset_index(drop = True)"
   ]
  },
  {
   "cell_type": "code",
   "execution_count": 6,
   "metadata": {},
   "outputs": [],
   "source": [
    "sub_final = ((sub.groupby(['timestamp','test_suite'])).max()).reset_index()"
   ]
  },
  {
   "cell_type": "code",
   "execution_count": null,
   "metadata": {},
   "outputs": [],
   "source": []
  },
  {
   "cell_type": "code",
   "execution_count": 22,
   "metadata": {},
   "outputs": [
    {
     "data": {
      "text/plain": [
       "timestamp                                       0.0\n",
       "test_suite                                        0\n",
       "predicted_induced_state                           0\n",
       "three_sec_predicted_induced_state                 0\n",
       "predicted_induced_state_confidence                0\n",
       "three_sec_predicted_induced_state_confidence      0\n",
       "top_three_features                                0\n",
       "dtype: object"
      ]
     },
     "execution_count": 22,
     "metadata": {},
     "output_type": "execute_result"
    }
   ],
   "source": [
    "sub[~sub.eq(sub_final)].sum()"
   ]
  },
  {
   "cell_type": "code",
   "execution_count": 26,
   "metadata": {},
   "outputs": [
    {
     "data": {
      "text/plain": [
       "3"
      ]
     },
     "execution_count": 26,
     "metadata": {},
     "output_type": "execute_result"
    }
   ],
   "source": [
    "round(2.6)"
   ]
  },
  {
   "cell_type": "code",
   "execution_count": 33,
   "metadata": {},
   "outputs": [
    {
     "data": {
      "text/plain": [
       "True"
      ]
     },
     "execution_count": 33,
     "metadata": {},
     "output_type": "execute_result"
    }
   ],
   "source": [
    "isinstance(['baseline'], list)"
   ]
  },
  {
   "cell_type": "markdown",
   "metadata": {},
   "source": [
    "## Failed Submit"
   ]
  },
  {
   "cell_type": "code",
   "execution_count": 4,
   "metadata": {},
   "outputs": [],
   "source": [
    "sub = pd.read_csv('submissions/draft_submission/solution/solution.csv')"
   ]
  },
  {
   "cell_type": "code",
   "execution_count": 9,
   "metadata": {},
   "outputs": [
    {
     "data": {
      "text/plain": [
       "(28267, 7)"
      ]
     },
     "execution_count": 9,
     "metadata": {},
     "output_type": "execute_result"
    }
   ],
   "source": [
    "sub.shape"
   ]
  },
  {
   "cell_type": "code",
   "execution_count": 5,
   "metadata": {},
   "outputs": [
    {
     "data": {
      "text/html": [
       "<div>\n",
       "<style scoped>\n",
       "    .dataframe tbody tr th:only-of-type {\n",
       "        vertical-align: middle;\n",
       "    }\n",
       "\n",
       "    .dataframe tbody tr th {\n",
       "        vertical-align: top;\n",
       "    }\n",
       "\n",
       "    .dataframe thead th {\n",
       "        text-align: right;\n",
       "    }\n",
       "</style>\n",
       "<table border=\"1\" class=\"dataframe\">\n",
       "  <thead>\n",
       "    <tr style=\"text-align: right;\">\n",
       "      <th></th>\n",
       "      <th>timestamp</th>\n",
       "      <th>test_suite</th>\n",
       "      <th>predicted_induced_state</th>\n",
       "      <th>three_sec_predicted_induced_state</th>\n",
       "      <th>predicted_induced_state_confidence</th>\n",
       "      <th>three_sec_predicted_induced_state_confidence</th>\n",
       "      <th>top_three_features</th>\n",
       "    </tr>\n",
       "  </thead>\n",
       "  <tbody>\n",
       "    <tr>\n",
       "      <th>0</th>\n",
       "      <td>1626275615977130</td>\n",
       "      <td>Provisional-Test-025</td>\n",
       "      <td>baseline</td>\n",
       "      <td>baseline</td>\n",
       "      <td>[0.01716378517448902, 0.0118869598954916, 0.01...</td>\n",
       "      <td>[0.01716378517448902, 0.0118869598954916, 0.01...</td>\n",
       "      <td>['Myo_EMG_2' 'LooxidLink_EEG_FP1' 'ViveEye_pup...</td>\n",
       "    </tr>\n",
       "    <tr>\n",
       "      <th>1</th>\n",
       "      <td>1626275616500321</td>\n",
       "      <td>Provisional-Test-025</td>\n",
       "      <td>baseline</td>\n",
       "      <td>baseline</td>\n",
       "      <td>[0.015069910325109959, 0.011381322517991066, 0...</td>\n",
       "      <td>[0.015069910325109959, 0.011381322517991066, 0...</td>\n",
       "      <td>['Muse_EEG_TP10' 'Muse_EEG_TP9' 'LooxidLink_EE...</td>\n",
       "    </tr>\n",
       "    <tr>\n",
       "      <th>2</th>\n",
       "      <td>1626275617501578</td>\n",
       "      <td>Provisional-Test-025</td>\n",
       "      <td>baseline</td>\n",
       "      <td>baseline</td>\n",
       "      <td>[0.017284145578742027, 0.011498662643134594, 0...</td>\n",
       "      <td>[0.017284145578742027, 0.011498662643134594, 0...</td>\n",
       "      <td>['ViveEye_gazeDirection_L_X' 'Myo_EMG_2' 'Vive...</td>\n",
       "    </tr>\n",
       "    <tr>\n",
       "      <th>3</th>\n",
       "      <td>1626275618500395</td>\n",
       "      <td>Provisional-Test-025</td>\n",
       "      <td>baseline</td>\n",
       "      <td>baseline</td>\n",
       "      <td>[0.015703603625297546, 0.011379184201359749, 0...</td>\n",
       "      <td>[0.015703603625297546, 0.011379184201359749, 0...</td>\n",
       "      <td>['ViveEye_pupilPos_L_Y' 'ViveEye_eyeOpenness_R...</td>\n",
       "    </tr>\n",
       "    <tr>\n",
       "      <th>4</th>\n",
       "      <td>1626275619501968</td>\n",
       "      <td>Provisional-Test-025</td>\n",
       "      <td>baseline</td>\n",
       "      <td>baseline</td>\n",
       "      <td>[0.01639132760465145, 0.011688385158777237, 0....</td>\n",
       "      <td>[0.01639132760465145, 0.011688385158777237, 0....</td>\n",
       "      <td>['ViveEye_pupilDiameter_R' 'ViveEye_pupilPos_R...</td>\n",
       "    </tr>\n",
       "  </tbody>\n",
       "</table>\n",
       "</div>"
      ],
      "text/plain": [
       "          timestamp            test_suite predicted_induced_state  \\\n",
       "0  1626275615977130  Provisional-Test-025                baseline   \n",
       "1  1626275616500321  Provisional-Test-025                baseline   \n",
       "2  1626275617501578  Provisional-Test-025                baseline   \n",
       "3  1626275618500395  Provisional-Test-025                baseline   \n",
       "4  1626275619501968  Provisional-Test-025                baseline   \n",
       "\n",
       "  three_sec_predicted_induced_state  \\\n",
       "0                          baseline   \n",
       "1                          baseline   \n",
       "2                          baseline   \n",
       "3                          baseline   \n",
       "4                          baseline   \n",
       "\n",
       "                  predicted_induced_state_confidence  \\\n",
       "0  [0.01716378517448902, 0.0118869598954916, 0.01...   \n",
       "1  [0.015069910325109959, 0.011381322517991066, 0...   \n",
       "2  [0.017284145578742027, 0.011498662643134594, 0...   \n",
       "3  [0.015703603625297546, 0.011379184201359749, 0...   \n",
       "4  [0.01639132760465145, 0.011688385158777237, 0....   \n",
       "\n",
       "        three_sec_predicted_induced_state_confidence  \\\n",
       "0  [0.01716378517448902, 0.0118869598954916, 0.01...   \n",
       "1  [0.015069910325109959, 0.011381322517991066, 0...   \n",
       "2  [0.017284145578742027, 0.011498662643134594, 0...   \n",
       "3  [0.015703603625297546, 0.011379184201359749, 0...   \n",
       "4  [0.01639132760465145, 0.011688385158777237, 0....   \n",
       "\n",
       "                                  top_three_features  \n",
       "0  ['Myo_EMG_2' 'LooxidLink_EEG_FP1' 'ViveEye_pup...  \n",
       "1  ['Muse_EEG_TP10' 'Muse_EEG_TP9' 'LooxidLink_EE...  \n",
       "2  ['ViveEye_gazeDirection_L_X' 'Myo_EMG_2' 'Vive...  \n",
       "3  ['ViveEye_pupilPos_L_Y' 'ViveEye_eyeOpenness_R...  \n",
       "4  ['ViveEye_pupilDiameter_R' 'ViveEye_pupilPos_R...  "
      ]
     },
     "execution_count": 5,
     "metadata": {},
     "output_type": "execute_result"
    }
   ],
   "source": [
    "sub.head()"
   ]
  },
  {
   "cell_type": "code",
   "execution_count": 19,
   "metadata": {},
   "outputs": [],
   "source": [
    "conf = sub.predicted_induced_state_confidence[0]"
   ]
  },
  {
   "cell_type": "code",
   "execution_count": 24,
   "metadata": {},
   "outputs": [
    {
     "ename": "ValueError",
     "evalue": "could not convert string to float: '0.01716378517448902,'",
     "output_type": "error",
     "traceback": [
      "\u001b[0;31m---------------------------------------------------------------------------\u001b[0m",
      "\u001b[0;31mValueError\u001b[0m                                Traceback (most recent call last)",
      "\u001b[0;32m<ipython-input-24-d28797bfcc40>\u001b[0m in \u001b[0;36m<module>\u001b[0;34m\u001b[0m\n\u001b[0;32m----> 1\u001b[0;31m \u001b[0msub\u001b[0m\u001b[0;34m.\u001b[0m\u001b[0mpredicted_induced_state_confidence\u001b[0m\u001b[0;34m.\u001b[0m\u001b[0mapply\u001b[0m\u001b[0;34m(\u001b[0m\u001b[0;32mlambda\u001b[0m \u001b[0mx\u001b[0m\u001b[0;34m:\u001b[0m \u001b[0mx\u001b[0m \u001b[0;32mif\u001b[0m \u001b[0misinstance\u001b[0m\u001b[0;34m(\u001b[0m\u001b[0mx\u001b[0m\u001b[0;34m,\u001b[0m \u001b[0mlist\u001b[0m\u001b[0;34m)\u001b[0m \u001b[0;32melse\u001b[0m \u001b[0;34m[\u001b[0m\u001b[0mfloat\u001b[0m\u001b[0;34m(\u001b[0m\u001b[0my\u001b[0m\u001b[0;34m)\u001b[0m \u001b[0;32mfor\u001b[0m \u001b[0my\u001b[0m \u001b[0;32min\u001b[0m \u001b[0mx\u001b[0m\u001b[0;34m.\u001b[0m\u001b[0mreplace\u001b[0m\u001b[0;34m(\u001b[0m\u001b[0;34m'['\u001b[0m\u001b[0;34m,\u001b[0m\u001b[0;34m''\u001b[0m\u001b[0;34m)\u001b[0m\u001b[0;34m.\u001b[0m\u001b[0mreplace\u001b[0m\u001b[0;34m(\u001b[0m\u001b[0;34m']'\u001b[0m\u001b[0;34m,\u001b[0m\u001b[0;34m''\u001b[0m\u001b[0;34m)\u001b[0m\u001b[0;34m.\u001b[0m\u001b[0msplit\u001b[0m\u001b[0;34m(\u001b[0m\u001b[0;34m)\u001b[0m\u001b[0;34m]\u001b[0m\u001b[0;34m)\u001b[0m\u001b[0;34m\u001b[0m\u001b[0;34m\u001b[0m\u001b[0m\n\u001b[0m",
      "\u001b[0;32m~/anaconda3/lib/python3.8/site-packages/pandas/core/series.py\u001b[0m in \u001b[0;36mapply\u001b[0;34m(self, func, convert_dtype, args, **kwds)\u001b[0m\n\u001b[1;32m   4198\u001b[0m             \u001b[0;32melse\u001b[0m\u001b[0;34m:\u001b[0m\u001b[0;34m\u001b[0m\u001b[0;34m\u001b[0m\u001b[0m\n\u001b[1;32m   4199\u001b[0m                 \u001b[0mvalues\u001b[0m \u001b[0;34m=\u001b[0m \u001b[0mself\u001b[0m\u001b[0;34m.\u001b[0m\u001b[0mastype\u001b[0m\u001b[0;34m(\u001b[0m\u001b[0mobject\u001b[0m\u001b[0;34m)\u001b[0m\u001b[0;34m.\u001b[0m\u001b[0m_values\u001b[0m\u001b[0;34m\u001b[0m\u001b[0;34m\u001b[0m\u001b[0m\n\u001b[0;32m-> 4200\u001b[0;31m                 \u001b[0mmapped\u001b[0m \u001b[0;34m=\u001b[0m \u001b[0mlib\u001b[0m\u001b[0;34m.\u001b[0m\u001b[0mmap_infer\u001b[0m\u001b[0;34m(\u001b[0m\u001b[0mvalues\u001b[0m\u001b[0;34m,\u001b[0m \u001b[0mf\u001b[0m\u001b[0;34m,\u001b[0m \u001b[0mconvert\u001b[0m\u001b[0;34m=\u001b[0m\u001b[0mconvert_dtype\u001b[0m\u001b[0;34m)\u001b[0m\u001b[0;34m\u001b[0m\u001b[0;34m\u001b[0m\u001b[0m\n\u001b[0m\u001b[1;32m   4201\u001b[0m \u001b[0;34m\u001b[0m\u001b[0m\n\u001b[1;32m   4202\u001b[0m         \u001b[0;32mif\u001b[0m \u001b[0mlen\u001b[0m\u001b[0;34m(\u001b[0m\u001b[0mmapped\u001b[0m\u001b[0;34m)\u001b[0m \u001b[0;32mand\u001b[0m \u001b[0misinstance\u001b[0m\u001b[0;34m(\u001b[0m\u001b[0mmapped\u001b[0m\u001b[0;34m[\u001b[0m\u001b[0;36m0\u001b[0m\u001b[0;34m]\u001b[0m\u001b[0;34m,\u001b[0m \u001b[0mSeries\u001b[0m\u001b[0;34m)\u001b[0m\u001b[0;34m:\u001b[0m\u001b[0;34m\u001b[0m\u001b[0;34m\u001b[0m\u001b[0m\n",
      "\u001b[0;32mpandas/_libs/lib.pyx\u001b[0m in \u001b[0;36mpandas._libs.lib.map_infer\u001b[0;34m()\u001b[0m\n",
      "\u001b[0;32m<ipython-input-24-d28797bfcc40>\u001b[0m in \u001b[0;36m<lambda>\u001b[0;34m(x)\u001b[0m\n\u001b[0;32m----> 1\u001b[0;31m \u001b[0msub\u001b[0m\u001b[0;34m.\u001b[0m\u001b[0mpredicted_induced_state_confidence\u001b[0m\u001b[0;34m.\u001b[0m\u001b[0mapply\u001b[0m\u001b[0;34m(\u001b[0m\u001b[0;32mlambda\u001b[0m \u001b[0mx\u001b[0m\u001b[0;34m:\u001b[0m \u001b[0mx\u001b[0m \u001b[0;32mif\u001b[0m \u001b[0misinstance\u001b[0m\u001b[0;34m(\u001b[0m\u001b[0mx\u001b[0m\u001b[0;34m,\u001b[0m \u001b[0mlist\u001b[0m\u001b[0;34m)\u001b[0m \u001b[0;32melse\u001b[0m \u001b[0;34m[\u001b[0m\u001b[0mfloat\u001b[0m\u001b[0;34m(\u001b[0m\u001b[0my\u001b[0m\u001b[0;34m)\u001b[0m \u001b[0;32mfor\u001b[0m \u001b[0my\u001b[0m \u001b[0;32min\u001b[0m \u001b[0mx\u001b[0m\u001b[0;34m.\u001b[0m\u001b[0mreplace\u001b[0m\u001b[0;34m(\u001b[0m\u001b[0;34m'['\u001b[0m\u001b[0;34m,\u001b[0m\u001b[0;34m''\u001b[0m\u001b[0;34m)\u001b[0m\u001b[0;34m.\u001b[0m\u001b[0mreplace\u001b[0m\u001b[0;34m(\u001b[0m\u001b[0;34m']'\u001b[0m\u001b[0;34m,\u001b[0m\u001b[0;34m''\u001b[0m\u001b[0;34m)\u001b[0m\u001b[0;34m.\u001b[0m\u001b[0msplit\u001b[0m\u001b[0;34m(\u001b[0m\u001b[0;34m)\u001b[0m\u001b[0;34m]\u001b[0m\u001b[0;34m)\u001b[0m\u001b[0;34m\u001b[0m\u001b[0;34m\u001b[0m\u001b[0m\n\u001b[0m",
      "\u001b[0;32m<ipython-input-24-d28797bfcc40>\u001b[0m in \u001b[0;36m<listcomp>\u001b[0;34m(.0)\u001b[0m\n\u001b[0;32m----> 1\u001b[0;31m \u001b[0msub\u001b[0m\u001b[0;34m.\u001b[0m\u001b[0mpredicted_induced_state_confidence\u001b[0m\u001b[0;34m.\u001b[0m\u001b[0mapply\u001b[0m\u001b[0;34m(\u001b[0m\u001b[0;32mlambda\u001b[0m \u001b[0mx\u001b[0m\u001b[0;34m:\u001b[0m \u001b[0mx\u001b[0m \u001b[0;32mif\u001b[0m \u001b[0misinstance\u001b[0m\u001b[0;34m(\u001b[0m\u001b[0mx\u001b[0m\u001b[0;34m,\u001b[0m \u001b[0mlist\u001b[0m\u001b[0;34m)\u001b[0m \u001b[0;32melse\u001b[0m \u001b[0;34m[\u001b[0m\u001b[0mfloat\u001b[0m\u001b[0;34m(\u001b[0m\u001b[0my\u001b[0m\u001b[0;34m)\u001b[0m \u001b[0;32mfor\u001b[0m \u001b[0my\u001b[0m \u001b[0;32min\u001b[0m \u001b[0mx\u001b[0m\u001b[0;34m.\u001b[0m\u001b[0mreplace\u001b[0m\u001b[0;34m(\u001b[0m\u001b[0;34m'['\u001b[0m\u001b[0;34m,\u001b[0m\u001b[0;34m''\u001b[0m\u001b[0;34m)\u001b[0m\u001b[0;34m.\u001b[0m\u001b[0mreplace\u001b[0m\u001b[0;34m(\u001b[0m\u001b[0;34m']'\u001b[0m\u001b[0;34m,\u001b[0m\u001b[0;34m''\u001b[0m\u001b[0;34m)\u001b[0m\u001b[0;34m.\u001b[0m\u001b[0msplit\u001b[0m\u001b[0;34m(\u001b[0m\u001b[0;34m)\u001b[0m\u001b[0;34m]\u001b[0m\u001b[0;34m)\u001b[0m\u001b[0;34m\u001b[0m\u001b[0;34m\u001b[0m\u001b[0m\n\u001b[0m",
      "\u001b[0;31mValueError\u001b[0m: could not convert string to float: '0.01716378517448902,'"
     ]
    }
   ],
   "source": [
    "sub.predicted_induced_state_confidence.apply(lambda x: x if isinstance(x, list) else [float(y) for y in x.replace('[','').replace(']','').split()])"
   ]
  },
  {
   "cell_type": "code",
   "execution_count": 25,
   "metadata": {},
   "outputs": [
    {
     "data": {
      "text/plain": [
       "'[0.01716378517448902, 0.0118869598954916, 0.010458354838192463, 0.9356419444084167, 0.014097582548856735, 0.01075142901390791]'"
      ]
     },
     "execution_count": 25,
     "metadata": {},
     "output_type": "execute_result"
    }
   ],
   "source": [
    "sub.predicted_induced_state_confidence[0]"
   ]
  },
  {
   "cell_type": "code",
   "execution_count": 26,
   "metadata": {},
   "outputs": [
    {
     "data": {
      "text/plain": [
       "'[0.283 0.609 0.656 0.391 0.897 0.863]'"
      ]
     },
     "execution_count": 26,
     "metadata": {},
     "output_type": "execute_result"
    }
   ],
   "source": [
    "sample_sub.predicted_induced_state_confidence[0]"
   ]
  },
  {
   "cell_type": "code",
   "execution_count": 23,
   "metadata": {},
   "outputs": [
    {
     "data": {
      "text/plain": [
       "0        [0.283, 0.609, 0.656, 0.391, 0.897, 0.863]\n",
       "1        [0.007, 0.485, 0.693, 0.735, 0.149, 0.004]\n",
       "2        [0.505, 0.365, 0.195, 0.467, 0.496, 0.511]\n",
       "3         [0.16, 0.235, 0.859, 0.074, 0.595, 0.924]\n",
       "4          [0.687, 0.378, 0.819, 0.749, 0.87, 0.01]\n",
       "                            ...                    \n",
       "28262    [0.893, 0.548, 0.494, 0.424, 0.801, 0.963]\n",
       "28263    [0.103, 0.252, 0.164, 0.462, 0.621, 0.912]\n",
       "28264     [0.135, 0.285, 0.003, 0.559, 0.392, 0.16]\n",
       "28265      [0.759, 0.18, 0.45, 0.287, 0.299, 0.291]\n",
       "28266    [0.658, 0.549, 0.921, 0.948, 0.169, 0.311]\n",
       "Name: predicted_induced_state_confidence, Length: 28267, dtype: object"
      ]
     },
     "execution_count": 23,
     "metadata": {},
     "output_type": "execute_result"
    }
   ],
   "source": [
    "sample_sub.predicted_induced_state_confidence.apply(lambda x: x if isinstance(x, list) else [float(y) for y in x.replace('[','').replace(']','').split()])"
   ]
  },
  {
   "cell_type": "code",
   "execution_count": null,
   "metadata": {},
   "outputs": [],
   "source": []
  },
  {
   "cell_type": "code",
   "execution_count": null,
   "metadata": {},
   "outputs": [],
   "source": []
  },
  {
   "cell_type": "code",
   "execution_count": 7,
   "metadata": {},
   "outputs": [],
   "source": [
    "sample_sub = pd.read_csv('sample-submission/solution/solution.csv')"
   ]
  },
  {
   "cell_type": "code",
   "execution_count": 8,
   "metadata": {},
   "outputs": [
    {
     "data": {
      "text/html": [
       "<div>\n",
       "<style scoped>\n",
       "    .dataframe tbody tr th:only-of-type {\n",
       "        vertical-align: middle;\n",
       "    }\n",
       "\n",
       "    .dataframe tbody tr th {\n",
       "        vertical-align: top;\n",
       "    }\n",
       "\n",
       "    .dataframe thead th {\n",
       "        text-align: right;\n",
       "    }\n",
       "</style>\n",
       "<table border=\"1\" class=\"dataframe\">\n",
       "  <thead>\n",
       "    <tr style=\"text-align: right;\">\n",
       "      <th></th>\n",
       "      <th>timestamp</th>\n",
       "      <th>test_suite</th>\n",
       "      <th>predicted_induced_state</th>\n",
       "      <th>three_sec_predicted_induced_state</th>\n",
       "      <th>predicted_induced_state_confidence</th>\n",
       "      <th>three_sec_predicted_induced_state_confidence</th>\n",
       "      <th>top_three_features</th>\n",
       "    </tr>\n",
       "  </thead>\n",
       "  <tbody>\n",
       "    <tr>\n",
       "      <th>0</th>\n",
       "      <td>1626275616000000</td>\n",
       "      <td>Provisional-Test-025</td>\n",
       "      <td>high</td>\n",
       "      <td>high</td>\n",
       "      <td>[0.283 0.609 0.656 0.391 0.897 0.863]</td>\n",
       "      <td>[0.95  0.986 0.137 0.793 0.188 0.808]</td>\n",
       "      <td>['Myo_EMG_2' 'LooxidLink_EEG_FP1' 'ViveEye_pup...</td>\n",
       "    </tr>\n",
       "    <tr>\n",
       "      <th>1</th>\n",
       "      <td>1626275617000000</td>\n",
       "      <td>Provisional-Test-025</td>\n",
       "      <td>high</td>\n",
       "      <td>high</td>\n",
       "      <td>[0.007 0.485 0.693 0.735 0.149 0.004]</td>\n",
       "      <td>[0.556 0.07  0.68  0.286 0.721 0.821]</td>\n",
       "      <td>['Muse_EEG_TP10' 'Muse_EEG_TP9' 'LooxidLink_EE...</td>\n",
       "    </tr>\n",
       "    <tr>\n",
       "      <th>2</th>\n",
       "      <td>1626275618000000</td>\n",
       "      <td>Provisional-Test-025</td>\n",
       "      <td>high</td>\n",
       "      <td>high</td>\n",
       "      <td>[0.505 0.365 0.195 0.467 0.496 0.511]</td>\n",
       "      <td>[0.299 0.687 0.999 0.185 0.336 0.284]</td>\n",
       "      <td>['ViveEye_gazeDirection_L_X' 'Myo_EMG_2' 'Vive...</td>\n",
       "    </tr>\n",
       "    <tr>\n",
       "      <th>3</th>\n",
       "      <td>1626275619000000</td>\n",
       "      <td>Provisional-Test-025</td>\n",
       "      <td>baseline</td>\n",
       "      <td>baseline</td>\n",
       "      <td>[0.16  0.235 0.859 0.074 0.595 0.924]</td>\n",
       "      <td>[0.798 0.045 0.238 0.221 0.608 0.218]</td>\n",
       "      <td>['ViveEye_pupilPos_L_Y' 'ViveEye_eyeOpenness_R...</td>\n",
       "    </tr>\n",
       "    <tr>\n",
       "      <th>4</th>\n",
       "      <td>1626275620000000</td>\n",
       "      <td>Provisional-Test-025</td>\n",
       "      <td>baseline</td>\n",
       "      <td>baseline</td>\n",
       "      <td>[0.687 0.378 0.819 0.749 0.87  0.01 ]</td>\n",
       "      <td>[0.364 0.606 0.203 0.132 0.415 0.128]</td>\n",
       "      <td>['ViveEye_pupilDiameter_R' 'ViveEye_pupilPos_R...</td>\n",
       "    </tr>\n",
       "  </tbody>\n",
       "</table>\n",
       "</div>"
      ],
      "text/plain": [
       "          timestamp            test_suite predicted_induced_state  \\\n",
       "0  1626275616000000  Provisional-Test-025                    high   \n",
       "1  1626275617000000  Provisional-Test-025                    high   \n",
       "2  1626275618000000  Provisional-Test-025                    high   \n",
       "3  1626275619000000  Provisional-Test-025                baseline   \n",
       "4  1626275620000000  Provisional-Test-025                baseline   \n",
       "\n",
       "  three_sec_predicted_induced_state     predicted_induced_state_confidence  \\\n",
       "0                              high  [0.283 0.609 0.656 0.391 0.897 0.863]   \n",
       "1                              high  [0.007 0.485 0.693 0.735 0.149 0.004]   \n",
       "2                              high  [0.505 0.365 0.195 0.467 0.496 0.511]   \n",
       "3                          baseline  [0.16  0.235 0.859 0.074 0.595 0.924]   \n",
       "4                          baseline  [0.687 0.378 0.819 0.749 0.87  0.01 ]   \n",
       "\n",
       "  three_sec_predicted_induced_state_confidence  \\\n",
       "0        [0.95  0.986 0.137 0.793 0.188 0.808]   \n",
       "1        [0.556 0.07  0.68  0.286 0.721 0.821]   \n",
       "2        [0.299 0.687 0.999 0.185 0.336 0.284]   \n",
       "3        [0.798 0.045 0.238 0.221 0.608 0.218]   \n",
       "4        [0.364 0.606 0.203 0.132 0.415 0.128]   \n",
       "\n",
       "                                  top_three_features  \n",
       "0  ['Myo_EMG_2' 'LooxidLink_EEG_FP1' 'ViveEye_pup...  \n",
       "1  ['Muse_EEG_TP10' 'Muse_EEG_TP9' 'LooxidLink_EE...  \n",
       "2  ['ViveEye_gazeDirection_L_X' 'Myo_EMG_2' 'Vive...  \n",
       "3  ['ViveEye_pupilPos_L_Y' 'ViveEye_eyeOpenness_R...  \n",
       "4  ['ViveEye_pupilDiameter_R' 'ViveEye_pupilPos_R...  "
      ]
     },
     "execution_count": 8,
     "metadata": {},
     "output_type": "execute_result"
    }
   ],
   "source": [
    "sample_sub.head()"
   ]
  },
  {
   "cell_type": "code",
   "execution_count": 17,
   "metadata": {},
   "outputs": [
    {
     "data": {
      "text/plain": [
       "'[0.283 0.609 0.656 0.391 0.897 0.863]'"
      ]
     },
     "execution_count": 17,
     "metadata": {},
     "output_type": "execute_result"
    }
   ],
   "source": [
    "sample_sub.predicted_induced_state_confidence[0]"
   ]
  },
  {
   "cell_type": "markdown",
   "metadata": {},
   "source": [
    "## 2nd failed submit"
   ]
  },
  {
   "cell_type": "code",
   "execution_count": 50,
   "metadata": {},
   "outputs": [],
   "source": [
    "sample_data = pd.read_csv(SAMPLE_PATH)"
   ]
  },
  {
   "cell_type": "code",
   "execution_count": 10,
   "metadata": {},
   "outputs": [],
   "source": [
    "s_sol = pd.read_csv(S_SOL)\n",
    "s_test = pd.read_csv(S_TEST)\n",
    "prev = pd.read_csv(OUTPUT_PATH+'solution_sample_1500.csv')\n",
    "my = pd.read_csv(OUTPUT_PATH+'solution_train_prov_1500.csv')"
   ]
  },
  {
   "cell_type": "code",
   "execution_count": 56,
   "metadata": {},
   "outputs": [
    {
     "data": {
      "text/plain": [
       "0        False\n",
       "1        False\n",
       "2        False\n",
       "3        False\n",
       "4        False\n",
       "         ...  \n",
       "31118    False\n",
       "31119    False\n",
       "31120    False\n",
       "31121    False\n",
       "31122    False\n",
       "Name: test_suite, Length: 31123, dtype: bool"
      ]
     },
     "execution_count": 56,
     "metadata": {},
     "output_type": "execute_result"
    }
   ],
   "source": [
    "sample_data.test_suite.isin(s_sol.test_suite)"
   ]
  },
  {
   "cell_type": "code",
   "execution_count": null,
   "metadata": {},
   "outputs": [],
   "source": []
  },
  {
   "cell_type": "code",
   "execution_count": 5,
   "metadata": {},
   "outputs": [
    {
     "data": {
      "text/html": [
       "<div>\n",
       "<style scoped>\n",
       "    .dataframe tbody tr th:only-of-type {\n",
       "        vertical-align: middle;\n",
       "    }\n",
       "\n",
       "    .dataframe tbody tr th {\n",
       "        vertical-align: top;\n",
       "    }\n",
       "\n",
       "    .dataframe thead th {\n",
       "        text-align: right;\n",
       "    }\n",
       "</style>\n",
       "<table border=\"1\" class=\"dataframe\">\n",
       "  <thead>\n",
       "    <tr style=\"text-align: right;\">\n",
       "      <th></th>\n",
       "      <th>timestamp</th>\n",
       "      <th>test_suite</th>\n",
       "      <th>predicted_induced_state</th>\n",
       "      <th>three_sec_predicted_induced_state</th>\n",
       "      <th>predicted_induced_state_confidence</th>\n",
       "      <th>three_sec_predicted_induced_state_confidence</th>\n",
       "      <th>top_three_features</th>\n",
       "    </tr>\n",
       "  </thead>\n",
       "  <tbody>\n",
       "    <tr>\n",
       "      <th>0</th>\n",
       "      <td>1626275616000000</td>\n",
       "      <td>Provisional-Test-025</td>\n",
       "      <td>high</td>\n",
       "      <td>high</td>\n",
       "      <td>[0.283 0.609 0.656 0.391 0.897 0.863]</td>\n",
       "      <td>[0.95  0.986 0.137 0.793 0.188 0.808]</td>\n",
       "      <td>['Myo_EMG_2' 'LooxidLink_EEG_FP1' 'ViveEye_pup...</td>\n",
       "    </tr>\n",
       "    <tr>\n",
       "      <th>1</th>\n",
       "      <td>1626275617000000</td>\n",
       "      <td>Provisional-Test-025</td>\n",
       "      <td>high</td>\n",
       "      <td>high</td>\n",
       "      <td>[0.007 0.485 0.693 0.735 0.149 0.004]</td>\n",
       "      <td>[0.556 0.07  0.68  0.286 0.721 0.821]</td>\n",
       "      <td>['Muse_EEG_TP10' 'Muse_EEG_TP9' 'LooxidLink_EE...</td>\n",
       "    </tr>\n",
       "    <tr>\n",
       "      <th>2</th>\n",
       "      <td>1626275618000000</td>\n",
       "      <td>Provisional-Test-025</td>\n",
       "      <td>high</td>\n",
       "      <td>high</td>\n",
       "      <td>[0.505 0.365 0.195 0.467 0.496 0.511]</td>\n",
       "      <td>[0.299 0.687 0.999 0.185 0.336 0.284]</td>\n",
       "      <td>['ViveEye_gazeDirection_L_X' 'Myo_EMG_2' 'Vive...</td>\n",
       "    </tr>\n",
       "    <tr>\n",
       "      <th>3</th>\n",
       "      <td>1626275619000000</td>\n",
       "      <td>Provisional-Test-025</td>\n",
       "      <td>baseline</td>\n",
       "      <td>baseline</td>\n",
       "      <td>[0.16  0.235 0.859 0.074 0.595 0.924]</td>\n",
       "      <td>[0.798 0.045 0.238 0.221 0.608 0.218]</td>\n",
       "      <td>['ViveEye_pupilPos_L_Y' 'ViveEye_eyeOpenness_R...</td>\n",
       "    </tr>\n",
       "    <tr>\n",
       "      <th>4</th>\n",
       "      <td>1626275620000000</td>\n",
       "      <td>Provisional-Test-025</td>\n",
       "      <td>baseline</td>\n",
       "      <td>baseline</td>\n",
       "      <td>[0.687 0.378 0.819 0.749 0.87  0.01 ]</td>\n",
       "      <td>[0.364 0.606 0.203 0.132 0.415 0.128]</td>\n",
       "      <td>['ViveEye_pupilDiameter_R' 'ViveEye_pupilPos_R...</td>\n",
       "    </tr>\n",
       "  </tbody>\n",
       "</table>\n",
       "</div>"
      ],
      "text/plain": [
       "          timestamp            test_suite predicted_induced_state  \\\n",
       "0  1626275616000000  Provisional-Test-025                    high   \n",
       "1  1626275617000000  Provisional-Test-025                    high   \n",
       "2  1626275618000000  Provisional-Test-025                    high   \n",
       "3  1626275619000000  Provisional-Test-025                baseline   \n",
       "4  1626275620000000  Provisional-Test-025                baseline   \n",
       "\n",
       "  three_sec_predicted_induced_state     predicted_induced_state_confidence  \\\n",
       "0                              high  [0.283 0.609 0.656 0.391 0.897 0.863]   \n",
       "1                              high  [0.007 0.485 0.693 0.735 0.149 0.004]   \n",
       "2                              high  [0.505 0.365 0.195 0.467 0.496 0.511]   \n",
       "3                          baseline  [0.16  0.235 0.859 0.074 0.595 0.924]   \n",
       "4                          baseline  [0.687 0.378 0.819 0.749 0.87  0.01 ]   \n",
       "\n",
       "  three_sec_predicted_induced_state_confidence  \\\n",
       "0        [0.95  0.986 0.137 0.793 0.188 0.808]   \n",
       "1        [0.556 0.07  0.68  0.286 0.721 0.821]   \n",
       "2        [0.299 0.687 0.999 0.185 0.336 0.284]   \n",
       "3        [0.798 0.045 0.238 0.221 0.608 0.218]   \n",
       "4        [0.364 0.606 0.203 0.132 0.415 0.128]   \n",
       "\n",
       "                                  top_three_features  \n",
       "0  ['Myo_EMG_2' 'LooxidLink_EEG_FP1' 'ViveEye_pup...  \n",
       "1  ['Muse_EEG_TP10' 'Muse_EEG_TP9' 'LooxidLink_EE...  \n",
       "2  ['ViveEye_gazeDirection_L_X' 'Myo_EMG_2' 'Vive...  \n",
       "3  ['ViveEye_pupilPos_L_Y' 'ViveEye_eyeOpenness_R...  \n",
       "4  ['ViveEye_pupilDiameter_R' 'ViveEye_pupilPos_R...  "
      ]
     },
     "execution_count": 5,
     "metadata": {},
     "output_type": "execute_result"
    }
   ],
   "source": [
    "s_sol.head()"
   ]
  },
  {
   "cell_type": "code",
   "execution_count": 20,
   "metadata": {},
   "outputs": [
    {
     "data": {
      "text/plain": [
       "(28267, 7)"
      ]
     },
     "execution_count": 20,
     "metadata": {},
     "output_type": "execute_result"
    }
   ],
   "source": [
    "my.shape"
   ]
  },
  {
   "cell_type": "code",
   "execution_count": 19,
   "metadata": {},
   "outputs": [
    {
     "data": {
      "text/plain": [
       "28229"
      ]
     },
     "execution_count": 19,
     "metadata": {},
     "output_type": "execute_result"
    }
   ],
   "source": [
    "sum(my.three_sec_predicted_induced_state_confidence != prev.three_sec_predicted_induced_state_confidence)"
   ]
  },
  {
   "cell_type": "code",
   "execution_count": null,
   "metadata": {},
   "outputs": [],
   "source": []
  },
  {
   "cell_type": "code",
   "execution_count": 21,
   "metadata": {},
   "outputs": [
    {
     "data": {
      "text/plain": [
       "(28267, 7)"
      ]
     },
     "execution_count": 21,
     "metadata": {},
     "output_type": "execute_result"
    }
   ],
   "source": [
    "prev.shape"
   ]
  },
  {
   "cell_type": "code",
   "execution_count": null,
   "metadata": {},
   "outputs": [],
   "source": []
  },
  {
   "cell_type": "code",
   "execution_count": 35,
   "metadata": {},
   "outputs": [
    {
     "data": {
      "text/plain": [
       "0.7200268864753954"
      ]
     },
     "execution_count": 35,
     "metadata": {},
     "output_type": "execute_result"
    }
   ],
   "source": [
    "sum(s_sol.predicted_induced_state != my.predicted_induced_state)/s_sol.shape[0]"
   ]
  },
  {
   "cell_type": "code",
   "execution_count": 36,
   "metadata": {},
   "outputs": [
    {
     "data": {
      "text/plain": [
       "28267"
      ]
     },
     "execution_count": 36,
     "metadata": {},
     "output_type": "execute_result"
    }
   ],
   "source": [
    "sum(s_sol.predicted_induced_state_confidence != my.predicted_induced_state_confidence)"
   ]
  },
  {
   "cell_type": "code",
   "execution_count": 17,
   "metadata": {},
   "outputs": [
    {
     "data": {
      "text/plain": [
       "str"
      ]
     },
     "execution_count": 17,
     "metadata": {},
     "output_type": "execute_result"
    }
   ],
   "source": [
    "type(s_sol.predicted_induced_state_confidence[0])"
   ]
  },
  {
   "cell_type": "code",
   "execution_count": 23,
   "metadata": {},
   "outputs": [],
   "source": [
    "my['predicted_induced_state_confidence'] = my.predicted_induced_state_confidence.apply(lambda x: x.replace(\"\\'\", \"\"))\n",
    "my['three_sec_predicted_induced_state_confidence'] = my.three_sec_predicted_induced_state_confidence.apply(lambda x: x.replace(\"\\'\", \"\"))"
   ]
  },
  {
   "cell_type": "code",
   "execution_count": 27,
   "metadata": {},
   "outputs": [],
   "source": [
    "my.to_csv('solution_sample_800.csv', index=False)"
   ]
  },
  {
   "cell_type": "markdown",
   "metadata": {},
   "source": [
    "### Checking if S_TEST & SAMPLE data are valid real data extracted from training"
   ]
  },
  {
   "cell_type": "code",
   "execution_count": 54,
   "metadata": {},
   "outputs": [
    {
     "data": {
      "text/html": [
       "<div>\n",
       "<style scoped>\n",
       "    .dataframe tbody tr th:only-of-type {\n",
       "        vertical-align: middle;\n",
       "    }\n",
       "\n",
       "    .dataframe tbody tr th {\n",
       "        vertical-align: top;\n",
       "    }\n",
       "\n",
       "    .dataframe thead th {\n",
       "        text-align: right;\n",
       "    }\n",
       "</style>\n",
       "<table border=\"1\" class=\"dataframe\">\n",
       "  <thead>\n",
       "    <tr style=\"text-align: right;\">\n",
       "      <th></th>\n",
       "      <th>time</th>\n",
       "      <th>test_suite</th>\n",
       "      <th>induced_state</th>\n",
       "      <th>tlx_score</th>\n",
       "      <th>E4_BVP</th>\n",
       "      <th>E4_GSR</th>\n",
       "      <th>LooxidLink_EEG_A3</th>\n",
       "      <th>LooxidLink_EEG_A4</th>\n",
       "      <th>LooxidLink_EEG_FP1</th>\n",
       "      <th>LooxidLink_EEG_FP2</th>\n",
       "      <th>...</th>\n",
       "      <th>ViveEye_pupilPos_R_X</th>\n",
       "      <th>ViveEye_pupilPos_R_Y</th>\n",
       "      <th>ViveEye_gazeOrigin_R_X</th>\n",
       "      <th>ViveEye_gazeOrigin_R_Y</th>\n",
       "      <th>ViveEye_gazeOrigin_R_Z</th>\n",
       "      <th>ViveEye_gazeDirection_R_X</th>\n",
       "      <th>ViveEye_gazeDirection_R_Y</th>\n",
       "      <th>ViveEye_gazeDirection_R_Z</th>\n",
       "      <th>Zephyr_HR</th>\n",
       "      <th>Zephyr_HRV</th>\n",
       "    </tr>\n",
       "  </thead>\n",
       "  <tbody>\n",
       "    <tr>\n",
       "      <th>0</th>\n",
       "      <td>1626275540354390</td>\n",
       "      <td>Training-Test-038</td>\n",
       "      <td>baseline</td>\n",
       "      <td>10</td>\n",
       "      <td>-9999.900000</td>\n",
       "      <td>-9999.900000</td>\n",
       "      <td>-0.002007</td>\n",
       "      <td>-0.059057</td>\n",
       "      <td>0.030180</td>\n",
       "      <td>0.010290</td>\n",
       "      <td>...</td>\n",
       "      <td>-9999.900000</td>\n",
       "      <td>-9999.900000</td>\n",
       "      <td>-9999.9000</td>\n",
       "      <td>-9999.90000</td>\n",
       "      <td>-9999.9000</td>\n",
       "      <td>-9999.900000</td>\n",
       "      <td>-9999.90000</td>\n",
       "      <td>-9999.900000</td>\n",
       "      <td>-9999.9</td>\n",
       "      <td>-9999.9</td>\n",
       "    </tr>\n",
       "    <tr>\n",
       "      <th>1</th>\n",
       "      <td>1626275540500599</td>\n",
       "      <td>Training-Test-038</td>\n",
       "      <td>baseline</td>\n",
       "      <td>10</td>\n",
       "      <td>-9999.900000</td>\n",
       "      <td>-9999.900000</td>\n",
       "      <td>-0.002007</td>\n",
       "      <td>-0.059079</td>\n",
       "      <td>0.030179</td>\n",
       "      <td>0.010289</td>\n",
       "      <td>...</td>\n",
       "      <td>-1.000000</td>\n",
       "      <td>-1.000000</td>\n",
       "      <td>-27.2645</td>\n",
       "      <td>-7.50266</td>\n",
       "      <td>-37.9508</td>\n",
       "      <td>0.000000</td>\n",
       "      <td>0.00000</td>\n",
       "      <td>0.000000</td>\n",
       "      <td>-9999.9</td>\n",
       "      <td>-9999.9</td>\n",
       "    </tr>\n",
       "    <tr>\n",
       "      <th>2</th>\n",
       "      <td>1626275541501825</td>\n",
       "      <td>Training-Test-038</td>\n",
       "      <td>baseline</td>\n",
       "      <td>10</td>\n",
       "      <td>-21.185060</td>\n",
       "      <td>7.358181</td>\n",
       "      <td>-0.002018</td>\n",
       "      <td>-0.059191</td>\n",
       "      <td>0.030173</td>\n",
       "      <td>0.010314</td>\n",
       "      <td>...</td>\n",
       "      <td>0.274257</td>\n",
       "      <td>0.938343</td>\n",
       "      <td>-27.1029</td>\n",
       "      <td>-7.38116</td>\n",
       "      <td>-37.9733</td>\n",
       "      <td>0.334305</td>\n",
       "      <td>0.16777</td>\n",
       "      <td>0.927399</td>\n",
       "      <td>102.0</td>\n",
       "      <td>26.0</td>\n",
       "    </tr>\n",
       "    <tr>\n",
       "      <th>3</th>\n",
       "      <td>1626275542501052</td>\n",
       "      <td>Training-Test-038</td>\n",
       "      <td>baseline</td>\n",
       "      <td>10</td>\n",
       "      <td>-3.672516</td>\n",
       "      <td>7.358181</td>\n",
       "      <td>-0.002375</td>\n",
       "      <td>-0.058885</td>\n",
       "      <td>0.030056</td>\n",
       "      <td>0.010255</td>\n",
       "      <td>...</td>\n",
       "      <td>-1.000000</td>\n",
       "      <td>-1.000000</td>\n",
       "      <td>-27.2440</td>\n",
       "      <td>-7.43414</td>\n",
       "      <td>-37.9404</td>\n",
       "      <td>0.000000</td>\n",
       "      <td>0.00000</td>\n",
       "      <td>0.000000</td>\n",
       "      <td>100.0</td>\n",
       "      <td>26.0</td>\n",
       "    </tr>\n",
       "    <tr>\n",
       "      <th>4</th>\n",
       "      <td>1626275543500284</td>\n",
       "      <td>Training-Test-038</td>\n",
       "      <td>baseline</td>\n",
       "      <td>10</td>\n",
       "      <td>1.859863</td>\n",
       "      <td>7.358181</td>\n",
       "      <td>-0.002526</td>\n",
       "      <td>-0.058668</td>\n",
       "      <td>0.030026</td>\n",
       "      <td>0.010284</td>\n",
       "      <td>...</td>\n",
       "      <td>-1.000000</td>\n",
       "      <td>-1.000000</td>\n",
       "      <td>-27.0874</td>\n",
       "      <td>-7.92627</td>\n",
       "      <td>-38.2178</td>\n",
       "      <td>0.000000</td>\n",
       "      <td>0.00000</td>\n",
       "      <td>0.000000</td>\n",
       "      <td>102.0</td>\n",
       "      <td>26.0</td>\n",
       "    </tr>\n",
       "  </tbody>\n",
       "</table>\n",
       "<p>5 rows × 56 columns</p>\n",
       "</div>"
      ],
      "text/plain": [
       "               time         test_suite induced_state  tlx_score       E4_BVP  \\\n",
       "0  1626275540354390  Training-Test-038      baseline         10 -9999.900000   \n",
       "1  1626275540500599  Training-Test-038      baseline         10 -9999.900000   \n",
       "2  1626275541501825  Training-Test-038      baseline         10   -21.185060   \n",
       "3  1626275542501052  Training-Test-038      baseline         10    -3.672516   \n",
       "4  1626275543500284  Training-Test-038      baseline         10     1.859863   \n",
       "\n",
       "        E4_GSR  LooxidLink_EEG_A3  LooxidLink_EEG_A4  LooxidLink_EEG_FP1  \\\n",
       "0 -9999.900000          -0.002007          -0.059057            0.030180   \n",
       "1 -9999.900000          -0.002007          -0.059079            0.030179   \n",
       "2     7.358181          -0.002018          -0.059191            0.030173   \n",
       "3     7.358181          -0.002375          -0.058885            0.030056   \n",
       "4     7.358181          -0.002526          -0.058668            0.030026   \n",
       "\n",
       "   LooxidLink_EEG_FP2  ...  ViveEye_pupilPos_R_X  ViveEye_pupilPos_R_Y  \\\n",
       "0            0.010290  ...          -9999.900000          -9999.900000   \n",
       "1            0.010289  ...             -1.000000             -1.000000   \n",
       "2            0.010314  ...              0.274257              0.938343   \n",
       "3            0.010255  ...             -1.000000             -1.000000   \n",
       "4            0.010284  ...             -1.000000             -1.000000   \n",
       "\n",
       "   ViveEye_gazeOrigin_R_X  ViveEye_gazeOrigin_R_Y  ViveEye_gazeOrigin_R_Z  \\\n",
       "0              -9999.9000             -9999.90000              -9999.9000   \n",
       "1                -27.2645                -7.50266                -37.9508   \n",
       "2                -27.1029                -7.38116                -37.9733   \n",
       "3                -27.2440                -7.43414                -37.9404   \n",
       "4                -27.0874                -7.92627                -38.2178   \n",
       "\n",
       "   ViveEye_gazeDirection_R_X  ViveEye_gazeDirection_R_Y  \\\n",
       "0               -9999.900000                -9999.90000   \n",
       "1                   0.000000                    0.00000   \n",
       "2                   0.334305                    0.16777   \n",
       "3                   0.000000                    0.00000   \n",
       "4                   0.000000                    0.00000   \n",
       "\n",
       "   ViveEye_gazeDirection_R_Z  Zephyr_HR  Zephyr_HRV  \n",
       "0               -9999.900000    -9999.9     -9999.9  \n",
       "1                   0.000000    -9999.9     -9999.9  \n",
       "2                   0.927399      102.0        26.0  \n",
       "3                   0.000000      100.0        26.0  \n",
       "4                   0.000000      102.0        26.0  \n",
       "\n",
       "[5 rows x 56 columns]"
      ]
     },
     "execution_count": 54,
     "metadata": {},
     "output_type": "execute_result"
    }
   ],
   "source": [
    "sample_data[sample_data.test_suite == 'Training-Test-038'].head()"
   ]
  },
  {
   "cell_type": "code",
   "execution_count": null,
   "metadata": {},
   "outputs": [],
   "source": []
  }
 ],
 "metadata": {
  "kernelspec": {
   "display_name": "Python 3",
   "language": "python",
   "name": "python3"
  },
  "language_info": {
   "codemirror_mode": {
    "name": "ipython",
    "version": 3
   },
   "file_extension": ".py",
   "mimetype": "text/x-python",
   "name": "python",
   "nbconvert_exporter": "python",
   "pygments_lexer": "ipython3",
   "version": "3.8.5"
  }
 },
 "nbformat": 4,
 "nbformat_minor": 4
}
