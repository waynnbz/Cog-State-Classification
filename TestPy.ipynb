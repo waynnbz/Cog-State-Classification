{
 "cells": [
  {
   "cell_type": "code",
   "execution_count": 25,
   "metadata": {},
   "outputs": [],
   "source": [
    "import pandas as pd\n",
    "import numpy as np\n",
    "import xgboost as xgb\n",
    "import datetime"
   ]
  },
  {
   "cell_type": "markdown",
   "metadata": {},
   "source": [
    "## Config (to be imported from separate file)"
   ]
  },
  {
   "cell_type": "code",
   "execution_count": 22,
   "metadata": {},
   "outputs": [],
   "source": [
    "# category & headers\n",
    "CATEGORY = {'low':0, 'medium':1, 'high':2, 'baseline':3, 'channelized':4, 'surprise':5}\n",
    "REV_CATEGORY = { v:k for k,v in CATEGORY.items()}\n",
    "OUTPUT_HEADER = ['timestamp', 'test_suite', 'predicted_induced_state',\n",
    "       'three_sec_predicted_induced_state',\n",
    "       'predicted_induced_state_confidence',\n",
    "       'three_sec_predicted_induced_state_confidence', 'top_three_features']\n",
    "\n",
    "# param = {\n",
    "#     'booster': 'gbtree',\n",
    "#     'objective': 'multi:softprob',  # 多分类的问题\n",
    "#     'num_class': 6,               # 类别数，与 multisoftmax 并用\n",
    "#     'gamma': 0.1,                  # 用于控制是否后剪枝的参数,越大越保守，一般0.1、0.2这样子。\n",
    "#     'max_depth': 12,               # 构建树的深度，越大越容易过拟合\n",
    "#     'lambda': 2,                   # 控制模型复杂度的权重值的L2正则化项参数，参数越大，模型越不容易过拟合。\n",
    "#     'subsample': 0.7,              # 随机采样训练样本\n",
    "#     'colsample_bytree': 0.7,       # 生成树时进行的列采样\n",
    "#     'min_child_weight': 3,\n",
    "# #     'silent': 1,                   # 设置成1则没有运行信息输出，最好是设置为0.\n",
    "#     'eta': 0.007,                  # 如同学习率\n",
    "#     'seed': 1000,\n",
    "# #     'nthread': 4,                  # cpu 线程数\n",
    "# }\n",
    "\n",
    "# # number of iteration for model training\n",
    "# NUM_ROUND = 2000"
   ]
  },
  {
   "cell_type": "markdown",
   "metadata": {},
   "source": [
    "### Helper (separate file) "
   ]
  },
  {
   "cell_type": "code",
   "execution_count": 19,
   "metadata": {},
   "outputs": [],
   "source": [
    "def round_time(time_serie):\n",
    "    time_serie = pd.to_numeric(time_serie)\n",
    "    time_serie = time_serie.apply(lambda x: datetime.datetime.fromtimestamp(x/1000000))\n",
    "    time_serie = time_serie.dt.round('1s')\n",
    "    time_serie = time_serie.apply(lambda x: int(datetime.datetime.timestamp(x)*1000000))\n",
    "#     time_serie = time_serie.drop_duplicates()\n",
    "    \n",
    "    return time_serie\n",
    "\n",
    "# return the mode(most comm) element in a series\n",
    "def mode(series):\n",
    "    return series.value_counts().index[0]\n",
    "\n",
    "# return the mean value excluding -9999.9 the default value, if there's normal values\n",
    "def normal_mean(series):\n",
    "    if series.nunique() > 1:\n",
    "        return series[series > -9999.9].mean()\n",
    "    return series.unique()"
   ]
  },
  {
   "cell_type": "markdown",
   "metadata": {},
   "source": [
    "### User Input"
   ]
  },
  {
   "cell_type": "code",
   "execution_count": null,
   "metadata": {},
   "outputs": [],
   "source": [
    "# # Test data path\n",
    "# TEST_PATH = 'data/data_training.csv'\n",
    "# # OUTPUT PATH\n",
    "# OUTPUT_PATH = ''\n",
    "# # MODEL PATH\n",
    "# MODEL_PATH = 'submissions/output/'\n"
   ]
  },
  {
   "cell_type": "markdown",
   "metadata": {},
   "source": [
    "### Utils"
   ]
  },
  {
   "cell_type": "code",
   "execution_count": 15,
   "metadata": {},
   "outputs": [],
   "source": [
    "# preprocess raw data into model readable format\n",
    "def data_preprocess(df, full_df):\n",
    "    # map  'induced_state' for training data\n",
    "    if ('induced_state' in df.columns):\n",
    "        df[\"induced_state\"] = df[\"induced_state\"].replace(CATEGORY)\n",
    "\n",
    "    # round time to whole seconds\n",
    "    df['time'] = round_time(df['time'])\n",
    "\n",
    "    # aggregate the data by 'time' & 'test_suite'\n",
    "    col_merger = dict(zip(df.columns[2:], [normal_mean] * len(df.columns[2:])))\n",
    "    if ('induced_state' in col_merger):\n",
    "        col_merger['induced_state'] = mode\n",
    "    df = df.groupby(['time', 'test_suite']).agg(col_merger)\n",
    "\n",
    "    return full_df.append(df)"
   ]
  },
  {
   "cell_type": "code",
   "execution_count": 12,
   "metadata": {},
   "outputs": [],
   "source": [
    "# loading data in chunks\n",
    "def load_data_in_chunks(path, chunksize=500000):\n",
    "    df = pd.read_csv(path, chunksize=chunksize)\n",
    "\n",
    "    # read the header cols\n",
    "    with open(path) as f:\n",
    "        header = f.readline().strip().split(',')\n",
    "\n",
    "    # iterate thru the data in chunks and process them\n",
    "    full_df = pd.DataFrame(columns=header).set_index(['time', 'test_suite'])\n",
    "    for i, c in enumerate(df):\n",
    "        full_df = data_preprocess(c, full_df)\n",
    "\n",
    "        print(f'{(i + 1) * chunksize} rows loaded....')\n",
    "\n",
    "    # futher aggregate the duplicates generated from different chunks\n",
    "    col_merger = dict(zip(full_df.columns, [normal_mean] * len(full_df.columns)))\n",
    "    if ('induced_state' in col_merger):\n",
    "        col_merger['induced_state'] = mode\n",
    "    full_df = full_df.groupby(['time', 'test_suite']).agg(col_merger)\n",
    "\n",
    "    print('Data loaded.')\n",
    "    \n",
    "    return full_df"
   ]
  },
  {
   "cell_type": "code",
   "execution_count": 31,
   "metadata": {},
   "outputs": [],
   "source": [
    "def test_postprocess(c_time, c_suite, c_prob, c_ttf, full_pred):\n",
    "    \n",
    "    output_header = OUTPUT_HEADER\n",
    "    \n",
    "    # create a empty dataframe for chunk data\n",
    "    c_df = pd.DataFrame(columns=output_header)\n",
    "    \n",
    "    # setting time & test_suite\n",
    "    c_df[output_header[0]] = c_time\n",
    "    c_df[output_header[1]] = c_suite\n",
    "    \n",
    "    # process predicted probabilties\n",
    "    # trim prob into 3 decimal places\n",
    "    c_prob = np.vectorize(lambda x: format(x, '.3f'))(c_prob).tolist()\n",
    "    # find the pred(highest prob) index for each row \n",
    "    c_pred = [r.index(max(r)) for r in c_prob]\n",
    "    # map the pred index into string instance\n",
    "    c_pis = [REV_CATEGORY[p] for p in c_pred]\n",
    "    \n",
    "    # TODO: \n",
    "    c_tpis = c_pis\n",
    "    c_tpis_prob = c_prob\n",
    "    c_ttf = [c_ttf] * len(c_prob)\n",
    "\n",
    "    c_df[output_header[2]] = c_pis\n",
    "    c_df[output_header[3]] = c_tpis\n",
    "    c_df[output_header[4]] = [str(r).replace(\",\", \"\").replace(\"\\'\", \"\") for r in c_prob]\n",
    "    c_df[output_header[5]] = [str(r).replace(\",\", \"\").replace(\"\\'\", \"\") for r in c_tpis_prob]\n",
    "    c_df[output_header[6]] = [str(r).replace(\",\", \"\") for r in c_ttf]\n",
    "    \n",
    "    return full_pred.append(c_df)"
   ]
  },
  {
   "cell_type": "markdown",
   "metadata": {},
   "source": [
    "## Main"
   ]
  },
  {
   "cell_type": "code",
   "execution_count": null,
   "metadata": {},
   "outputs": [],
   "source": [
    "# # mock path\n",
    "# input_file = 'py_temp/mock_data/test_mock.csv'\n",
    "# output_file = 'py_temp/output/solution.csv'\n",
    "# model_file = 'py_temp/output/model.json'"
   ]
  },
  {
   "cell_type": "code",
   "execution_count": 32,
   "metadata": {},
   "outputs": [
    {
     "name": "stdout",
     "output_type": "stream",
     "text": [
      "500000 rows loaded....\n",
      "Data loaded.\n",
      "\n",
      "Testing finished.\n"
     ]
    }
   ],
   "source": [
    "def main():\n",
    "    \n",
    "    if len(sys.argv) < 2 or len(sys.argv[1]) == 0:\n",
    "        print(\"Testing input file is missing.\")\n",
    "        return 1\n",
    "    \n",
    "    if len(sys.argv) < 3 or len(sys.argv[2]) == 0:\n",
    "        print(\"Testing output file is missing.\")\n",
    "        return 1\n",
    "    \n",
    "    print('Testing started.')\n",
    "\n",
    "    input_file = sys.argv[1]\n",
    "    output_file = sys.argv[2]\n",
    "    model_file = sys.argv[3]\n",
    "    \n",
    "    \n",
    "    # My Code Starts HERE\n",
    "    \n",
    "    # load and process test data\n",
    "    test_df = load_data_in_chunks(input_file)#, chunksize=10000)\n",
    "    \n",
    "    # load saved model\n",
    "    bst = xgb.Booster()\n",
    "    bst.load_model(model_file)\n",
    "    \n",
    "    # make prediction\n",
    "    xg_test = xgb.DMatrix(test_df)\n",
    "    c_prob = bst.predict(xg_test)\n",
    "    \n",
    "    # post process predicted probabilities\n",
    "    c_time = test_df.reset_index()['time']\n",
    "    c_suite = test_df.reset_index()['test_suite']\n",
    "    scores = bst.get_score(importance_type='gain')\n",
    "    c_ttf = sorted(scores, key=scores.get, reverse=True)[:3]\n",
    "    \n",
    "    # pass values into the post-process function\n",
    "    full_pred = pd.DataFrame(columns=OUTPUT_HEADER)\n",
    "    full_pred = test_postprocess(c_time, c_suite, c_prob, c_ttf, full_pred)\n",
    "    \n",
    "    # output the solution\n",
    "    full_pred.to_csv(output_file, index=False)\n",
    "\n",
    "    print('Testing finished.')\n",
    "\n",
    "    return 0\n",
    "\n",
    "if __name__ == \"__main__\":\n",
    "    main()\n"
   ]
  },
  {
   "cell_type": "code",
   "execution_count": null,
   "metadata": {},
   "outputs": [],
   "source": []
  },
  {
   "cell_type": "code",
   "execution_count": 50,
   "metadata": {},
   "outputs": [],
   "source": [
    "# output_file = 'py_temp/output/solution.csv'\n",
    "output_file = 'submissions/draft_submission/code/src/sample/submission/output/solution.csv'"
   ]
  },
  {
   "cell_type": "code",
   "execution_count": 51,
   "metadata": {},
   "outputs": [],
   "source": [
    "my_sol = pd.read_csv(output_file)"
   ]
  },
  {
   "cell_type": "code",
   "execution_count": 36,
   "metadata": {},
   "outputs": [],
   "source": [
    "S_SOL = 'sample-submission/solution/solution.csv'\n",
    "s_sol = pd.read_csv(S_SOL)"
   ]
  },
  {
   "cell_type": "code",
   "execution_count": 52,
   "metadata": {},
   "outputs": [
    {
     "data": {
      "text/html": [
       "<div>\n",
       "<style scoped>\n",
       "    .dataframe tbody tr th:only-of-type {\n",
       "        vertical-align: middle;\n",
       "    }\n",
       "\n",
       "    .dataframe tbody tr th {\n",
       "        vertical-align: top;\n",
       "    }\n",
       "\n",
       "    .dataframe thead th {\n",
       "        text-align: right;\n",
       "    }\n",
       "</style>\n",
       "<table border=\"1\" class=\"dataframe\">\n",
       "  <thead>\n",
       "    <tr style=\"text-align: right;\">\n",
       "      <th></th>\n",
       "      <th>timestamp</th>\n",
       "      <th>test_suite</th>\n",
       "      <th>predicted_induced_state</th>\n",
       "      <th>three_sec_predicted_induced_state</th>\n",
       "      <th>predicted_induced_state_confidence</th>\n",
       "      <th>three_sec_predicted_induced_state_confidence</th>\n",
       "      <th>top_three_features</th>\n",
       "    </tr>\n",
       "  </thead>\n",
       "  <tbody>\n",
       "    <tr>\n",
       "      <th>0</th>\n",
       "      <td>1626275616000000</td>\n",
       "      <td>Provisional-Test-025</td>\n",
       "      <td>baseline</td>\n",
       "      <td>baseline</td>\n",
       "      <td>[0.002 0.002 0.003 0.982 0.008 0.003]</td>\n",
       "      <td>[0.002 0.002 0.003 0.982 0.008 0.003]</td>\n",
       "      <td>['E4_GSR' 'ViveEye_gazeOrigin_R_Y' 'LooxidLink...</td>\n",
       "    </tr>\n",
       "    <tr>\n",
       "      <th>1</th>\n",
       "      <td>1626275617000000</td>\n",
       "      <td>Provisional-Test-025</td>\n",
       "      <td>baseline</td>\n",
       "      <td>baseline</td>\n",
       "      <td>[0.002 0.002 0.003 0.982 0.008 0.003]</td>\n",
       "      <td>[0.002 0.002 0.003 0.982 0.008 0.003]</td>\n",
       "      <td>['E4_GSR' 'ViveEye_gazeOrigin_R_Y' 'LooxidLink...</td>\n",
       "    </tr>\n",
       "    <tr>\n",
       "      <th>2</th>\n",
       "      <td>1626275618000000</td>\n",
       "      <td>Provisional-Test-025</td>\n",
       "      <td>baseline</td>\n",
       "      <td>baseline</td>\n",
       "      <td>[0.002 0.002 0.003 0.982 0.007 0.003]</td>\n",
       "      <td>[0.002 0.002 0.003 0.982 0.007 0.003]</td>\n",
       "      <td>['E4_GSR' 'ViveEye_gazeOrigin_R_Y' 'LooxidLink...</td>\n",
       "    </tr>\n",
       "    <tr>\n",
       "      <th>3</th>\n",
       "      <td>1626275619000000</td>\n",
       "      <td>Provisional-Test-025</td>\n",
       "      <td>baseline</td>\n",
       "      <td>baseline</td>\n",
       "      <td>[0.002 0.002 0.003 0.983 0.007 0.003]</td>\n",
       "      <td>[0.002 0.002 0.003 0.983 0.007 0.003]</td>\n",
       "      <td>['E4_GSR' 'ViveEye_gazeOrigin_R_Y' 'LooxidLink...</td>\n",
       "    </tr>\n",
       "    <tr>\n",
       "      <th>4</th>\n",
       "      <td>1626275620000000</td>\n",
       "      <td>Provisional-Test-025</td>\n",
       "      <td>baseline</td>\n",
       "      <td>baseline</td>\n",
       "      <td>[0.002 0.002 0.003 0.983 0.007 0.003]</td>\n",
       "      <td>[0.002 0.002 0.003 0.983 0.007 0.003]</td>\n",
       "      <td>['E4_GSR' 'ViveEye_gazeOrigin_R_Y' 'LooxidLink...</td>\n",
       "    </tr>\n",
       "  </tbody>\n",
       "</table>\n",
       "</div>"
      ],
      "text/plain": [
       "          timestamp            test_suite predicted_induced_state  \\\n",
       "0  1626275616000000  Provisional-Test-025                baseline   \n",
       "1  1626275617000000  Provisional-Test-025                baseline   \n",
       "2  1626275618000000  Provisional-Test-025                baseline   \n",
       "3  1626275619000000  Provisional-Test-025                baseline   \n",
       "4  1626275620000000  Provisional-Test-025                baseline   \n",
       "\n",
       "  three_sec_predicted_induced_state     predicted_induced_state_confidence  \\\n",
       "0                          baseline  [0.002 0.002 0.003 0.982 0.008 0.003]   \n",
       "1                          baseline  [0.002 0.002 0.003 0.982 0.008 0.003]   \n",
       "2                          baseline  [0.002 0.002 0.003 0.982 0.007 0.003]   \n",
       "3                          baseline  [0.002 0.002 0.003 0.983 0.007 0.003]   \n",
       "4                          baseline  [0.002 0.002 0.003 0.983 0.007 0.003]   \n",
       "\n",
       "  three_sec_predicted_induced_state_confidence  \\\n",
       "0        [0.002 0.002 0.003 0.982 0.008 0.003]   \n",
       "1        [0.002 0.002 0.003 0.982 0.008 0.003]   \n",
       "2        [0.002 0.002 0.003 0.982 0.007 0.003]   \n",
       "3        [0.002 0.002 0.003 0.983 0.007 0.003]   \n",
       "4        [0.002 0.002 0.003 0.983 0.007 0.003]   \n",
       "\n",
       "                                  top_three_features  \n",
       "0  ['E4_GSR' 'ViveEye_gazeOrigin_R_Y' 'LooxidLink...  \n",
       "1  ['E4_GSR' 'ViveEye_gazeOrigin_R_Y' 'LooxidLink...  \n",
       "2  ['E4_GSR' 'ViveEye_gazeOrigin_R_Y' 'LooxidLink...  \n",
       "3  ['E4_GSR' 'ViveEye_gazeOrigin_R_Y' 'LooxidLink...  \n",
       "4  ['E4_GSR' 'ViveEye_gazeOrigin_R_Y' 'LooxidLink...  "
      ]
     },
     "execution_count": 52,
     "metadata": {},
     "output_type": "execute_result"
    }
   ],
   "source": [
    "my_sol.head()"
   ]
  },
  {
   "cell_type": "code",
   "execution_count": 37,
   "metadata": {},
   "outputs": [
    {
     "data": {
      "text/html": [
       "<div>\n",
       "<style scoped>\n",
       "    .dataframe tbody tr th:only-of-type {\n",
       "        vertical-align: middle;\n",
       "    }\n",
       "\n",
       "    .dataframe tbody tr th {\n",
       "        vertical-align: top;\n",
       "    }\n",
       "\n",
       "    .dataframe thead th {\n",
       "        text-align: right;\n",
       "    }\n",
       "</style>\n",
       "<table border=\"1\" class=\"dataframe\">\n",
       "  <thead>\n",
       "    <tr style=\"text-align: right;\">\n",
       "      <th></th>\n",
       "      <th>timestamp</th>\n",
       "      <th>test_suite</th>\n",
       "      <th>predicted_induced_state</th>\n",
       "      <th>three_sec_predicted_induced_state</th>\n",
       "      <th>predicted_induced_state_confidence</th>\n",
       "      <th>three_sec_predicted_induced_state_confidence</th>\n",
       "      <th>top_three_features</th>\n",
       "    </tr>\n",
       "  </thead>\n",
       "  <tbody>\n",
       "    <tr>\n",
       "      <th>0</th>\n",
       "      <td>1626275616000000</td>\n",
       "      <td>Provisional-Test-025</td>\n",
       "      <td>high</td>\n",
       "      <td>high</td>\n",
       "      <td>[0.283 0.609 0.656 0.391 0.897 0.863]</td>\n",
       "      <td>[0.95  0.986 0.137 0.793 0.188 0.808]</td>\n",
       "      <td>['Myo_EMG_2' 'LooxidLink_EEG_FP1' 'ViveEye_pup...</td>\n",
       "    </tr>\n",
       "    <tr>\n",
       "      <th>1</th>\n",
       "      <td>1626275617000000</td>\n",
       "      <td>Provisional-Test-025</td>\n",
       "      <td>high</td>\n",
       "      <td>high</td>\n",
       "      <td>[0.007 0.485 0.693 0.735 0.149 0.004]</td>\n",
       "      <td>[0.556 0.07  0.68  0.286 0.721 0.821]</td>\n",
       "      <td>['Muse_EEG_TP10' 'Muse_EEG_TP9' 'LooxidLink_EE...</td>\n",
       "    </tr>\n",
       "    <tr>\n",
       "      <th>2</th>\n",
       "      <td>1626275618000000</td>\n",
       "      <td>Provisional-Test-025</td>\n",
       "      <td>high</td>\n",
       "      <td>high</td>\n",
       "      <td>[0.505 0.365 0.195 0.467 0.496 0.511]</td>\n",
       "      <td>[0.299 0.687 0.999 0.185 0.336 0.284]</td>\n",
       "      <td>['ViveEye_gazeDirection_L_X' 'Myo_EMG_2' 'Vive...</td>\n",
       "    </tr>\n",
       "    <tr>\n",
       "      <th>3</th>\n",
       "      <td>1626275619000000</td>\n",
       "      <td>Provisional-Test-025</td>\n",
       "      <td>baseline</td>\n",
       "      <td>baseline</td>\n",
       "      <td>[0.16  0.235 0.859 0.074 0.595 0.924]</td>\n",
       "      <td>[0.798 0.045 0.238 0.221 0.608 0.218]</td>\n",
       "      <td>['ViveEye_pupilPos_L_Y' 'ViveEye_eyeOpenness_R...</td>\n",
       "    </tr>\n",
       "    <tr>\n",
       "      <th>4</th>\n",
       "      <td>1626275620000000</td>\n",
       "      <td>Provisional-Test-025</td>\n",
       "      <td>baseline</td>\n",
       "      <td>baseline</td>\n",
       "      <td>[0.687 0.378 0.819 0.749 0.87  0.01 ]</td>\n",
       "      <td>[0.364 0.606 0.203 0.132 0.415 0.128]</td>\n",
       "      <td>['ViveEye_pupilDiameter_R' 'ViveEye_pupilPos_R...</td>\n",
       "    </tr>\n",
       "  </tbody>\n",
       "</table>\n",
       "</div>"
      ],
      "text/plain": [
       "          timestamp            test_suite predicted_induced_state  \\\n",
       "0  1626275616000000  Provisional-Test-025                    high   \n",
       "1  1626275617000000  Provisional-Test-025                    high   \n",
       "2  1626275618000000  Provisional-Test-025                    high   \n",
       "3  1626275619000000  Provisional-Test-025                baseline   \n",
       "4  1626275620000000  Provisional-Test-025                baseline   \n",
       "\n",
       "  three_sec_predicted_induced_state     predicted_induced_state_confidence  \\\n",
       "0                              high  [0.283 0.609 0.656 0.391 0.897 0.863]   \n",
       "1                              high  [0.007 0.485 0.693 0.735 0.149 0.004]   \n",
       "2                              high  [0.505 0.365 0.195 0.467 0.496 0.511]   \n",
       "3                          baseline  [0.16  0.235 0.859 0.074 0.595 0.924]   \n",
       "4                          baseline  [0.687 0.378 0.819 0.749 0.87  0.01 ]   \n",
       "\n",
       "  three_sec_predicted_induced_state_confidence  \\\n",
       "0        [0.95  0.986 0.137 0.793 0.188 0.808]   \n",
       "1        [0.556 0.07  0.68  0.286 0.721 0.821]   \n",
       "2        [0.299 0.687 0.999 0.185 0.336 0.284]   \n",
       "3        [0.798 0.045 0.238 0.221 0.608 0.218]   \n",
       "4        [0.364 0.606 0.203 0.132 0.415 0.128]   \n",
       "\n",
       "                                  top_three_features  \n",
       "0  ['Myo_EMG_2' 'LooxidLink_EEG_FP1' 'ViveEye_pup...  \n",
       "1  ['Muse_EEG_TP10' 'Muse_EEG_TP9' 'LooxidLink_EE...  \n",
       "2  ['ViveEye_gazeDirection_L_X' 'Myo_EMG_2' 'Vive...  \n",
       "3  ['ViveEye_pupilPos_L_Y' 'ViveEye_eyeOpenness_R...  \n",
       "4  ['ViveEye_pupilDiameter_R' 'ViveEye_pupilPos_R...  "
      ]
     },
     "execution_count": 37,
     "metadata": {},
     "output_type": "execute_result"
    }
   ],
   "source": [
    "s_sol.head()"
   ]
  },
  {
   "cell_type": "code",
   "execution_count": 54,
   "metadata": {},
   "outputs": [
    {
     "data": {
      "text/plain": [
       "0"
      ]
     },
     "execution_count": 54,
     "metadata": {},
     "output_type": "execute_result"
    }
   ],
   "source": [
    "sum(my_sol.test_suite != s_sol.test_suite[:500])"
   ]
  },
  {
   "cell_type": "code",
   "execution_count": null,
   "metadata": {},
   "outputs": [],
   "source": []
  }
 ],
 "metadata": {
  "kernelspec": {
   "display_name": "Python 3",
   "language": "python",
   "name": "python3"
  },
  "language_info": {
   "codemirror_mode": {
    "name": "ipython",
    "version": 3
   },
   "file_extension": ".py",
   "mimetype": "text/x-python",
   "name": "python",
   "nbconvert_exporter": "python",
   "pygments_lexer": "ipython3",
   "version": "3.8.5"
  }
 },
 "nbformat": 4,
 "nbformat_minor": 4
}
